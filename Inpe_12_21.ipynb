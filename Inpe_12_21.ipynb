{
  "nbformat": 4,
  "nbformat_minor": 0,
  "metadata": {
    "colab": {
      "name": "Inpe_12_21.ipynb",
      "provenance": [],
      "include_colab_link": true
    },
    "kernelspec": {
      "name": "python3",
      "display_name": "Python 3"
    },
    "language_info": {
      "name": "python"
    }
  },
  "cells": [
    {
      "cell_type": "markdown",
      "metadata": {
        "id": "view-in-github",
        "colab_type": "text"
      },
      "source": [
        "<a href=\"https://colab.research.google.com/github/charlespimentel/PROJ_QUEIMA_BR/blob/main/Inpe_12_21.ipynb\" target=\"_parent\"><img src=\"https://colab.research.google.com/assets/colab-badge.svg\" alt=\"Open In Colab\"/></a>"
      ]
    },
    {
      "cell_type": "markdown",
      "metadata": {
        "id": "2z7Qp88Ly87w"
      },
      "source": [
        "**IMPORTANDO BIBLIOTECAS**"
      ]
    },
    {
      "cell_type": "code",
      "metadata": {
        "id": "E0O8p_FNeH8d"
      },
      "source": [
        "import numpy as np\n",
        "import pandas as pd\n",
        "import csv\n",
        "import matplotlib.pyplot as plt\n",
        "import datetime"
      ],
      "execution_count": 1,
      "outputs": []
    },
    {
      "cell_type": "markdown",
      "metadata": {
        "id": "zP299keDzDxB"
      },
      "source": [
        "**DATASETS DE JANEIRO DE 2012 a 2020**- PANTANAL - INPE\n"
      ]
    },
    {
      "cell_type": "markdown",
      "metadata": {
        "id": "e5EJpzfefq-g"
      },
      "source": [
        "Os datasets foram baixados, ano a ano, em 04/04/2021 no endereço https://queimadas.dgi.inpe.br//queimadas/bdqueimadas/#tabela-de-atributos"
      ]
    },
    {
      "cell_type": "code",
      "metadata": {
        "id": "pWmoy7U3eQep"
      },
      "source": [
        "df2012 = pd.read_csv('https://raw.githubusercontent.com/charlespimentel/PROJ_QUEIMA_BR/main/Data_Inpe_12_21/Focos_2012-01-01_2012-12-31.csv', sep=',')\n",
        "df2013 = pd.read_csv('https://raw.githubusercontent.com/charlespimentel/PROJ_QUEIMA_BR/main/Data_Inpe_12_21/Focos_2013-01-01_2013-12-31.csv', sep=',')\n",
        "df2014 = pd.read_csv('https://raw.githubusercontent.com/charlespimentel/PROJ_QUEIMA_BR/main/Data_Inpe_12_21/Focos_2014-01-01_2014-12-31.csv', sep=',')\n",
        "df2015 = pd.read_csv('https://raw.githubusercontent.com/charlespimentel/PROJ_QUEIMA_BR/main/Data_Inpe_12_21/Focos_2015-01-01_2015-12-31.csv', sep=',')\n",
        "df2016 = pd.read_csv('https://raw.githubusercontent.com/charlespimentel/PROJ_QUEIMA_BR/main/Data_Inpe_12_21/Focos_2016-01-01_2016-12-31.csv', sep=',')\n",
        "df2017 = pd.read_csv('https://raw.githubusercontent.com/charlespimentel/PROJ_QUEIMA_BR/main/Data_Inpe_12_21/Focos_2017-01-01_2017-12-31.csv', sep=',')\n",
        "df2018 = pd.read_csv('https://raw.githubusercontent.com/charlespimentel/PROJ_QUEIMA_BR/main/Data_Inpe_12_21/Focos_2018-01-01_2018-12-31.csv', sep=',')\n",
        "df2019 = pd.read_csv('https://raw.githubusercontent.com/charlespimentel/PROJ_QUEIMA_BR/main/Data_Inpe_12_21/Focos_2019-01-01_2019-12-31.csv', sep=',')\n",
        "df2020 = pd.read_csv('https://raw.githubusercontent.com/charlespimentel/PROJ_QUEIMA_BR/main/Data_Inpe_12_21/Focos_2020-01-01_2020-12-31.csv', sep=',')"
      ],
      "execution_count": 2,
      "outputs": []
    },
    {
      "cell_type": "markdown",
      "metadata": {
        "id": "hBBCSvhXzTf2"
      },
      "source": [
        "**UNINDO OS 9 DATASETS**"
      ]
    },
    {
      "cell_type": "code",
      "metadata": {
        "id": "75nbklsnjeKF"
      },
      "source": [
        "#Unindo os 9 datasets\n",
        "df = pd.concat([df2012, df2013, df2014, df2015, df2016, df2017, df2018, df2019, df2020])"
      ],
      "execution_count": 3,
      "outputs": []
    },
    {
      "cell_type": "markdown",
      "metadata": {
        "id": "kuGdOgIJzeUA"
      },
      "source": [
        "**PRIMEIRAS LINHAS DO DATASET**"
      ]
    },
    {
      "cell_type": "code",
      "metadata": {
        "colab": {
          "base_uri": "https://localhost:8080/",
          "height": 204
        },
        "id": "-qOcDYOTksP0",
        "outputId": "e74f2ba5-c437-4d41-b08e-1273c9b719f8"
      },
      "source": [
        "df.head() #primeiras linhas"
      ],
      "execution_count": 4,
      "outputs": [
        {
          "output_type": "execute_result",
          "data": {
            "text/html": [
              "<div>\n",
              "<style scoped>\n",
              "    .dataframe tbody tr th:only-of-type {\n",
              "        vertical-align: middle;\n",
              "    }\n",
              "\n",
              "    .dataframe tbody tr th {\n",
              "        vertical-align: top;\n",
              "    }\n",
              "\n",
              "    .dataframe thead th {\n",
              "        text-align: right;\n",
              "    }\n",
              "</style>\n",
              "<table border=\"1\" class=\"dataframe\">\n",
              "  <thead>\n",
              "    <tr style=\"text-align: right;\">\n",
              "      <th></th>\n",
              "      <th>datahora</th>\n",
              "      <th>satelite</th>\n",
              "      <th>pais</th>\n",
              "      <th>estado</th>\n",
              "      <th>municipio</th>\n",
              "      <th>bioma</th>\n",
              "      <th>diasemchuva</th>\n",
              "      <th>precipitacao</th>\n",
              "      <th>riscofogo</th>\n",
              "      <th>latitude</th>\n",
              "      <th>longitude</th>\n",
              "      <th>frp</th>\n",
              "    </tr>\n",
              "  </thead>\n",
              "  <tbody>\n",
              "    <tr>\n",
              "      <th>0</th>\n",
              "      <td>2012/01/07 05:02:00</td>\n",
              "      <td>AQUA_M-M</td>\n",
              "      <td>Brasil</td>\n",
              "      <td>MATO GROSSO</td>\n",
              "      <td>POCONE</td>\n",
              "      <td>Pantanal</td>\n",
              "      <td>NaN</td>\n",
              "      <td>NaN</td>\n",
              "      <td>NaN</td>\n",
              "      <td>-17.138</td>\n",
              "      <td>-57.326</td>\n",
              "      <td>NaN</td>\n",
              "    </tr>\n",
              "    <tr>\n",
              "      <th>1</th>\n",
              "      <td>2012/01/07 05:02:00</td>\n",
              "      <td>AQUA_M-M</td>\n",
              "      <td>Brasil</td>\n",
              "      <td>MATO GROSSO</td>\n",
              "      <td>CACERES</td>\n",
              "      <td>Pantanal</td>\n",
              "      <td>NaN</td>\n",
              "      <td>NaN</td>\n",
              "      <td>NaN</td>\n",
              "      <td>-16.914</td>\n",
              "      <td>-57.693</td>\n",
              "      <td>NaN</td>\n",
              "    </tr>\n",
              "    <tr>\n",
              "      <th>2</th>\n",
              "      <td>2012/01/07 05:02:00</td>\n",
              "      <td>AQUA_M-M</td>\n",
              "      <td>Brasil</td>\n",
              "      <td>MATO GROSSO</td>\n",
              "      <td>POCONE</td>\n",
              "      <td>Pantanal</td>\n",
              "      <td>NaN</td>\n",
              "      <td>NaN</td>\n",
              "      <td>NaN</td>\n",
              "      <td>-17.118</td>\n",
              "      <td>-57.322</td>\n",
              "      <td>NaN</td>\n",
              "    </tr>\n",
              "    <tr>\n",
              "      <th>3</th>\n",
              "      <td>2012/01/07 05:02:00</td>\n",
              "      <td>AQUA_M-M</td>\n",
              "      <td>Brasil</td>\n",
              "      <td>MATO GROSSO</td>\n",
              "      <td>POCONE</td>\n",
              "      <td>Pantanal</td>\n",
              "      <td>NaN</td>\n",
              "      <td>NaN</td>\n",
              "      <td>NaN</td>\n",
              "      <td>-17.117</td>\n",
              "      <td>-57.327</td>\n",
              "      <td>NaN</td>\n",
              "    </tr>\n",
              "    <tr>\n",
              "      <th>4</th>\n",
              "      <td>2012/01/07 05:02:00</td>\n",
              "      <td>AQUA_M-M</td>\n",
              "      <td>Brasil</td>\n",
              "      <td>MATO GROSSO</td>\n",
              "      <td>CACERES</td>\n",
              "      <td>Pantanal</td>\n",
              "      <td>NaN</td>\n",
              "      <td>NaN</td>\n",
              "      <td>NaN</td>\n",
              "      <td>-16.901</td>\n",
              "      <td>-57.704</td>\n",
              "      <td>NaN</td>\n",
              "    </tr>\n",
              "  </tbody>\n",
              "</table>\n",
              "</div>"
            ],
            "text/plain": [
              "              datahora  satelite    pais  ... latitude longitude frp\n",
              "0  2012/01/07 05:02:00  AQUA_M-M  Brasil  ...  -17.138   -57.326 NaN\n",
              "1  2012/01/07 05:02:00  AQUA_M-M  Brasil  ...  -16.914   -57.693 NaN\n",
              "2  2012/01/07 05:02:00  AQUA_M-M  Brasil  ...  -17.118   -57.322 NaN\n",
              "3  2012/01/07 05:02:00  AQUA_M-M  Brasil  ...  -17.117   -57.327 NaN\n",
              "4  2012/01/07 05:02:00  AQUA_M-M  Brasil  ...  -16.901   -57.704 NaN\n",
              "\n",
              "[5 rows x 12 columns]"
            ]
          },
          "metadata": {
            "tags": []
          },
          "execution_count": 4
        }
      ]
    },
    {
      "cell_type": "markdown",
      "metadata": {
        "id": "qfcyj37fd8aj"
      },
      "source": [
        "**ÚLTIMAS LINHAS DO DATASET**"
      ]
    },
    {
      "cell_type": "code",
      "metadata": {
        "colab": {
          "base_uri": "https://localhost:8080/",
          "height": 204
        },
        "id": "upDX8dd_k0Lv",
        "outputId": "8071d733-2099-4079-a39a-a5686061ef07"
      },
      "source": [
        "df.tail() #últimas linhas"
      ],
      "execution_count": 5,
      "outputs": [
        {
          "output_type": "execute_result",
          "data": {
            "text/html": [
              "<div>\n",
              "<style scoped>\n",
              "    .dataframe tbody tr th:only-of-type {\n",
              "        vertical-align: middle;\n",
              "    }\n",
              "\n",
              "    .dataframe tbody tr th {\n",
              "        vertical-align: top;\n",
              "    }\n",
              "\n",
              "    .dataframe thead th {\n",
              "        text-align: right;\n",
              "    }\n",
              "</style>\n",
              "<table border=\"1\" class=\"dataframe\">\n",
              "  <thead>\n",
              "    <tr style=\"text-align: right;\">\n",
              "      <th></th>\n",
              "      <th>datahora</th>\n",
              "      <th>satelite</th>\n",
              "      <th>pais</th>\n",
              "      <th>estado</th>\n",
              "      <th>municipio</th>\n",
              "      <th>bioma</th>\n",
              "      <th>diasemchuva</th>\n",
              "      <th>precipitacao</th>\n",
              "      <th>riscofogo</th>\n",
              "      <th>latitude</th>\n",
              "      <th>longitude</th>\n",
              "      <th>frp</th>\n",
              "    </tr>\n",
              "  </thead>\n",
              "  <tbody>\n",
              "    <tr>\n",
              "      <th>742972</th>\n",
              "      <td>2020/10/13 18:43:22</td>\n",
              "      <td>GOES-16</td>\n",
              "      <td>Brasil</td>\n",
              "      <td>MATO GROSSO DO SUL</td>\n",
              "      <td>CORUMBA</td>\n",
              "      <td>Pantanal</td>\n",
              "      <td>0.0</td>\n",
              "      <td>0.4</td>\n",
              "      <td>0.0</td>\n",
              "      <td>-19.7000</td>\n",
              "      <td>-57.0500</td>\n",
              "      <td>NaN</td>\n",
              "    </tr>\n",
              "    <tr>\n",
              "      <th>742973</th>\n",
              "      <td>2020/10/13 16:33:00</td>\n",
              "      <td>NOAA-20</td>\n",
              "      <td>Brasil</td>\n",
              "      <td>MATO GROSSO DO SUL</td>\n",
              "      <td>CORUMBA</td>\n",
              "      <td>Pantanal</td>\n",
              "      <td>0.0</td>\n",
              "      <td>0.5</td>\n",
              "      <td>0.0</td>\n",
              "      <td>-18.8318</td>\n",
              "      <td>-57.0566</td>\n",
              "      <td>NaN</td>\n",
              "    </tr>\n",
              "    <tr>\n",
              "      <th>742974</th>\n",
              "      <td>2020/10/13 16:33:00</td>\n",
              "      <td>NOAA-20</td>\n",
              "      <td>Brasil</td>\n",
              "      <td>MATO GROSSO DO SUL</td>\n",
              "      <td>CORUMBA</td>\n",
              "      <td>Pantanal</td>\n",
              "      <td>8.0</td>\n",
              "      <td>7.1</td>\n",
              "      <td>0.5</td>\n",
              "      <td>-17.2116</td>\n",
              "      <td>-56.1356</td>\n",
              "      <td>NaN</td>\n",
              "    </tr>\n",
              "    <tr>\n",
              "      <th>742975</th>\n",
              "      <td>2020/10/13 16:33:00</td>\n",
              "      <td>NOAA-20</td>\n",
              "      <td>Brasil</td>\n",
              "      <td>MATO GROSSO</td>\n",
              "      <td>ITIQUIRA</td>\n",
              "      <td>Pantanal</td>\n",
              "      <td>0.0</td>\n",
              "      <td>0.0</td>\n",
              "      <td>0.4</td>\n",
              "      <td>-17.4440</td>\n",
              "      <td>-55.1032</td>\n",
              "      <td>NaN</td>\n",
              "    </tr>\n",
              "    <tr>\n",
              "      <th>742976</th>\n",
              "      <td>2020/10/13 16:33:00</td>\n",
              "      <td>NOAA-20</td>\n",
              "      <td>Brasil</td>\n",
              "      <td>MATO GROSSO</td>\n",
              "      <td>ITIQUIRA</td>\n",
              "      <td>Pantanal</td>\n",
              "      <td>0.0</td>\n",
              "      <td>0.0</td>\n",
              "      <td>0.5</td>\n",
              "      <td>-17.4075</td>\n",
              "      <td>-55.1013</td>\n",
              "      <td>NaN</td>\n",
              "    </tr>\n",
              "  </tbody>\n",
              "</table>\n",
              "</div>"
            ],
            "text/plain": [
              "                   datahora satelite    pais  ... latitude longitude frp\n",
              "742972  2020/10/13 18:43:22  GOES-16  Brasil  ... -19.7000  -57.0500 NaN\n",
              "742973  2020/10/13 16:33:00  NOAA-20  Brasil  ... -18.8318  -57.0566 NaN\n",
              "742974  2020/10/13 16:33:00  NOAA-20  Brasil  ... -17.2116  -56.1356 NaN\n",
              "742975  2020/10/13 16:33:00  NOAA-20  Brasil  ... -17.4440  -55.1032 NaN\n",
              "742976  2020/10/13 16:33:00  NOAA-20  Brasil  ... -17.4075  -55.1013 NaN\n",
              "\n",
              "[5 rows x 12 columns]"
            ]
          },
          "metadata": {
            "tags": []
          },
          "execution_count": 5
        }
      ]
    },
    {
      "cell_type": "markdown",
      "metadata": {
        "id": "IulaqivpywME"
      },
      "source": [
        "**TAMANHO DO DATASET**"
      ]
    },
    {
      "cell_type": "code",
      "metadata": {
        "colab": {
          "base_uri": "https://localhost:8080/"
        },
        "id": "eIGipaXslmhp",
        "outputId": "c73fb159-de55-4693-89bb-2dc610fa54d4"
      },
      "source": [
        "print(f'Tamanho do Dataframe: {df.shape[0]} linhas e {df.shape[1]} colunas') # Descreve o tamanho do dataframe em uma tupla"
      ],
      "execution_count": 6,
      "outputs": [
        {
          "output_type": "stream",
          "text": [
            "Tamanho do Dataframe: 1327467 linhas e 12 colunas\n"
          ],
          "name": "stdout"
        }
      ]
    },
    {
      "cell_type": "markdown",
      "metadata": {
        "id": "cwO3vgBJbYbL"
      },
      "source": [
        "**APENAS SATÉLITE NPP-375**"
      ]
    },
    {
      "cell_type": "code",
      "metadata": {
        "id": "Wer597d5bHRb"
      },
      "source": [
        "df = df[df['satelite'] == 'NPP-375']"
      ],
      "execution_count": 7,
      "outputs": []
    },
    {
      "cell_type": "markdown",
      "metadata": {
        "id": "btylPH5lbgLS"
      },
      "source": [
        "**TAMANHO DO DATASET**"
      ]
    },
    {
      "cell_type": "code",
      "metadata": {
        "id": "idsPT6tobQqr",
        "colab": {
          "base_uri": "https://localhost:8080/"
        },
        "outputId": "e795db56-2be0-4b0f-ec77-87b5b09d80e1"
      },
      "source": [
        "print(f'Tamanho do Dataframe: {df.shape[0]} linhas e {df.shape[1]} colunas') # Descreve o tamanho do dataframe em uma tupla"
      ],
      "execution_count": 8,
      "outputs": [
        {
          "output_type": "stream",
          "text": [
            "Tamanho do Dataframe: 480926 linhas e 12 colunas\n"
          ],
          "name": "stdout"
        }
      ]
    },
    {
      "cell_type": "markdown",
      "metadata": {
        "id": "73xvtNoCbkvJ"
      },
      "source": [
        "**PRIMEIRAS LINHAS DO DATASET**"
      ]
    },
    {
      "cell_type": "code",
      "metadata": {
        "id": "Z0WajbFtbWeu",
        "colab": {
          "base_uri": "https://localhost:8080/",
          "height": 204
        },
        "outputId": "f6fd71e7-f25f-4db1-8f58-8f64056dd460"
      },
      "source": [
        "df.head(5) #primeiras linhas"
      ],
      "execution_count": 9,
      "outputs": [
        {
          "output_type": "execute_result",
          "data": {
            "text/html": [
              "<div>\n",
              "<style scoped>\n",
              "    .dataframe tbody tr th:only-of-type {\n",
              "        vertical-align: middle;\n",
              "    }\n",
              "\n",
              "    .dataframe tbody tr th {\n",
              "        vertical-align: top;\n",
              "    }\n",
              "\n",
              "    .dataframe thead th {\n",
              "        text-align: right;\n",
              "    }\n",
              "</style>\n",
              "<table border=\"1\" class=\"dataframe\">\n",
              "  <thead>\n",
              "    <tr style=\"text-align: right;\">\n",
              "      <th></th>\n",
              "      <th>datahora</th>\n",
              "      <th>satelite</th>\n",
              "      <th>pais</th>\n",
              "      <th>estado</th>\n",
              "      <th>municipio</th>\n",
              "      <th>bioma</th>\n",
              "      <th>diasemchuva</th>\n",
              "      <th>precipitacao</th>\n",
              "      <th>riscofogo</th>\n",
              "      <th>latitude</th>\n",
              "      <th>longitude</th>\n",
              "      <th>frp</th>\n",
              "    </tr>\n",
              "  </thead>\n",
              "  <tbody>\n",
              "    <tr>\n",
              "      <th>468</th>\n",
              "      <td>2012/02/07 16:46:00</td>\n",
              "      <td>NPP-375</td>\n",
              "      <td>Brasil</td>\n",
              "      <td>MATO GROSSO DO SUL</td>\n",
              "      <td>CORUMBA</td>\n",
              "      <td>Pantanal</td>\n",
              "      <td>NaN</td>\n",
              "      <td>NaN</td>\n",
              "      <td>NaN</td>\n",
              "      <td>-19.6091</td>\n",
              "      <td>-57.3519</td>\n",
              "      <td>NaN</td>\n",
              "    </tr>\n",
              "    <tr>\n",
              "      <th>502</th>\n",
              "      <td>2012/02/08 16:27:00</td>\n",
              "      <td>NPP-375</td>\n",
              "      <td>Brasil</td>\n",
              "      <td>MATO GROSSO DO SUL</td>\n",
              "      <td>CORUMBA</td>\n",
              "      <td>Pantanal</td>\n",
              "      <td>NaN</td>\n",
              "      <td>NaN</td>\n",
              "      <td>NaN</td>\n",
              "      <td>-19.6463</td>\n",
              "      <td>-57.3300</td>\n",
              "      <td>NaN</td>\n",
              "    </tr>\n",
              "    <tr>\n",
              "      <th>530</th>\n",
              "      <td>2012/02/10 17:31:00</td>\n",
              "      <td>NPP-375</td>\n",
              "      <td>Brasil</td>\n",
              "      <td>MATO GROSSO DO SUL</td>\n",
              "      <td>CORUMBA</td>\n",
              "      <td>Pantanal</td>\n",
              "      <td>NaN</td>\n",
              "      <td>NaN</td>\n",
              "      <td>NaN</td>\n",
              "      <td>-18.6448</td>\n",
              "      <td>-57.2347</td>\n",
              "      <td>NaN</td>\n",
              "    </tr>\n",
              "    <tr>\n",
              "      <th>531</th>\n",
              "      <td>2012/02/10 17:31:00</td>\n",
              "      <td>NPP-375</td>\n",
              "      <td>Brasil</td>\n",
              "      <td>MATO GROSSO DO SUL</td>\n",
              "      <td>CORUMBA</td>\n",
              "      <td>Pantanal</td>\n",
              "      <td>NaN</td>\n",
              "      <td>NaN</td>\n",
              "      <td>NaN</td>\n",
              "      <td>-19.0780</td>\n",
              "      <td>-57.4382</td>\n",
              "      <td>NaN</td>\n",
              "    </tr>\n",
              "    <tr>\n",
              "      <th>532</th>\n",
              "      <td>2012/02/10 05:00:00</td>\n",
              "      <td>NPP-375</td>\n",
              "      <td>Brasil</td>\n",
              "      <td>MATO GROSSO DO SUL</td>\n",
              "      <td>CORUMBA</td>\n",
              "      <td>Pantanal</td>\n",
              "      <td>NaN</td>\n",
              "      <td>NaN</td>\n",
              "      <td>NaN</td>\n",
              "      <td>-18.8916</td>\n",
              "      <td>-57.7218</td>\n",
              "      <td>NaN</td>\n",
              "    </tr>\n",
              "  </tbody>\n",
              "</table>\n",
              "</div>"
            ],
            "text/plain": [
              "                datahora satelite    pais  ... latitude longitude frp\n",
              "468  2012/02/07 16:46:00  NPP-375  Brasil  ... -19.6091  -57.3519 NaN\n",
              "502  2012/02/08 16:27:00  NPP-375  Brasil  ... -19.6463  -57.3300 NaN\n",
              "530  2012/02/10 17:31:00  NPP-375  Brasil  ... -18.6448  -57.2347 NaN\n",
              "531  2012/02/10 17:31:00  NPP-375  Brasil  ... -19.0780  -57.4382 NaN\n",
              "532  2012/02/10 05:00:00  NPP-375  Brasil  ... -18.8916  -57.7218 NaN\n",
              "\n",
              "[5 rows x 12 columns]"
            ]
          },
          "metadata": {
            "tags": []
          },
          "execution_count": 9
        }
      ]
    },
    {
      "cell_type": "markdown",
      "metadata": {
        "id": "D0nORowWy3qk"
      },
      "source": [
        "**INFORMAÇÕES GERAIS DO DATASET**"
      ]
    },
    {
      "cell_type": "code",
      "metadata": {
        "colab": {
          "base_uri": "https://localhost:8080/",
          "height": 297
        },
        "id": "SCbfTXUxlZnz",
        "outputId": "9356cdd1-910a-48b7-a015-5d2b2f9bf192"
      },
      "source": [
        "df.describe().round(2) # Resume e descreve algumas operações gerais do Dataset. Round(2) arredonda para 2 casas decimais."
      ],
      "execution_count": 10,
      "outputs": [
        {
          "output_type": "execute_result",
          "data": {
            "text/html": [
              "<div>\n",
              "<style scoped>\n",
              "    .dataframe tbody tr th:only-of-type {\n",
              "        vertical-align: middle;\n",
              "    }\n",
              "\n",
              "    .dataframe tbody tr th {\n",
              "        vertical-align: top;\n",
              "    }\n",
              "\n",
              "    .dataframe thead th {\n",
              "        text-align: right;\n",
              "    }\n",
              "</style>\n",
              "<table border=\"1\" class=\"dataframe\">\n",
              "  <thead>\n",
              "    <tr style=\"text-align: right;\">\n",
              "      <th></th>\n",
              "      <th>diasemchuva</th>\n",
              "      <th>precipitacao</th>\n",
              "      <th>riscofogo</th>\n",
              "      <th>latitude</th>\n",
              "      <th>longitude</th>\n",
              "      <th>frp</th>\n",
              "    </tr>\n",
              "  </thead>\n",
              "  <tbody>\n",
              "    <tr>\n",
              "      <th>count</th>\n",
              "      <td>402278.00</td>\n",
              "      <td>402278.00</td>\n",
              "      <td>402278.00</td>\n",
              "      <td>480926.00</td>\n",
              "      <td>480926.00</td>\n",
              "      <td>287788.00</td>\n",
              "    </tr>\n",
              "    <tr>\n",
              "      <th>mean</th>\n",
              "      <td>13.56</td>\n",
              "      <td>0.71</td>\n",
              "      <td>-12.68</td>\n",
              "      <td>-18.16</td>\n",
              "      <td>-56.92</td>\n",
              "      <td>15.47</td>\n",
              "    </tr>\n",
              "    <tr>\n",
              "      <th>std</th>\n",
              "      <td>18.05</td>\n",
              "      <td>3.48</td>\n",
              "      <td>115.21</td>\n",
              "      <td>1.36</td>\n",
              "      <td>0.80</td>\n",
              "      <td>28.74</td>\n",
              "    </tr>\n",
              "    <tr>\n",
              "      <th>min</th>\n",
              "      <td>0.00</td>\n",
              "      <td>0.00</td>\n",
              "      <td>-999.00</td>\n",
              "      <td>-22.13</td>\n",
              "      <td>-59.18</td>\n",
              "      <td>0.10</td>\n",
              "    </tr>\n",
              "    <tr>\n",
              "      <th>25%</th>\n",
              "      <td>3.00</td>\n",
              "      <td>0.00</td>\n",
              "      <td>0.60</td>\n",
              "      <td>-19.29</td>\n",
              "      <td>-57.52</td>\n",
              "      <td>3.50</td>\n",
              "    </tr>\n",
              "    <tr>\n",
              "      <th>50%</th>\n",
              "      <td>7.00</td>\n",
              "      <td>0.00</td>\n",
              "      <td>1.00</td>\n",
              "      <td>-17.83</td>\n",
              "      <td>-57.12</td>\n",
              "      <td>7.30</td>\n",
              "    </tr>\n",
              "    <tr>\n",
              "      <th>75%</th>\n",
              "      <td>17.00</td>\n",
              "      <td>0.00</td>\n",
              "      <td>1.00</td>\n",
              "      <td>-17.03</td>\n",
              "      <td>-56.25</td>\n",
              "      <td>15.90</td>\n",
              "    </tr>\n",
              "    <tr>\n",
              "      <th>max</th>\n",
              "      <td>117.00</td>\n",
              "      <td>138.00</td>\n",
              "      <td>1.00</td>\n",
              "      <td>-15.53</td>\n",
              "      <td>-54.92</td>\n",
              "      <td>1945.20</td>\n",
              "    </tr>\n",
              "  </tbody>\n",
              "</table>\n",
              "</div>"
            ],
            "text/plain": [
              "       diasemchuva  precipitacao  riscofogo   latitude  longitude        frp\n",
              "count    402278.00     402278.00  402278.00  480926.00  480926.00  287788.00\n",
              "mean         13.56          0.71     -12.68     -18.16     -56.92      15.47\n",
              "std          18.05          3.48     115.21       1.36       0.80      28.74\n",
              "min           0.00          0.00    -999.00     -22.13     -59.18       0.10\n",
              "25%           3.00          0.00       0.60     -19.29     -57.52       3.50\n",
              "50%           7.00          0.00       1.00     -17.83     -57.12       7.30\n",
              "75%          17.00          0.00       1.00     -17.03     -56.25      15.90\n",
              "max         117.00        138.00       1.00     -15.53     -54.92    1945.20"
            ]
          },
          "metadata": {
            "tags": []
          },
          "execution_count": 10
        }
      ]
    },
    {
      "cell_type": "code",
      "metadata": {
        "colab": {
          "base_uri": "https://localhost:8080/"
        },
        "id": "kZNq60Y3v5sN",
        "outputId": "5006ce70-797f-449f-cb58-a50c5823fe6b"
      },
      "source": [
        "print(df.riscofogo.count()) #Contagem de dados não-nulos de uma coluna específica"
      ],
      "execution_count": 11,
      "outputs": [
        {
          "output_type": "stream",
          "text": [
            "402278\n"
          ],
          "name": "stdout"
        }
      ]
    },
    {
      "cell_type": "code",
      "metadata": {
        "colab": {
          "base_uri": "https://localhost:8080/"
        },
        "id": "5lStfzxEwb-s",
        "outputId": "de0e085d-d819-4a78-c412-e1fe7cfa5f53"
      },
      "source": [
        "print(df['riscofogo'].isna().sum()) #Contagem de dados nulos de uma coluna específica"
      ],
      "execution_count": 12,
      "outputs": [
        {
          "output_type": "stream",
          "text": [
            "78648\n"
          ],
          "name": "stdout"
        }
      ]
    },
    {
      "cell_type": "markdown",
      "metadata": {
        "id": "UwYVPs3PbyNb"
      },
      "source": [
        "**RETIRANDO AS LINHAS COM riscofogo = NaN**"
      ]
    },
    {
      "cell_type": "markdown",
      "metadata": {
        "id": "oRieBr1RAeh6"
      },
      "source": [
        "**Informação sobre Risco Fogo**\n",
        "*   Mínimo, abaixo de 0,15;\n",
        "*   Baixo, de 0,15 a 0,4;\n",
        "*   Médio, de 0,4 a 0,7;\n",
        "*   Alto, de 0,7 a 0,95 e;\n",
        "*   Crítico, acima de 0.95."
      ]
    },
    {
      "cell_type": "code",
      "metadata": {
        "id": "JvMRkR60cOeX"
      },
      "source": [
        "df = df.dropna(subset=[\"riscofogo\"])"
      ],
      "execution_count": 13,
      "outputs": []
    },
    {
      "cell_type": "code",
      "metadata": {
        "id": "8pWNi9hbb7N9",
        "colab": {
          "base_uri": "https://localhost:8080/",
          "height": 204
        },
        "outputId": "b1568324-55ee-4c77-ea82-64b309bd17ef"
      },
      "source": [
        "df.head(5)"
      ],
      "execution_count": 14,
      "outputs": [
        {
          "output_type": "execute_result",
          "data": {
            "text/html": [
              "<div>\n",
              "<style scoped>\n",
              "    .dataframe tbody tr th:only-of-type {\n",
              "        vertical-align: middle;\n",
              "    }\n",
              "\n",
              "    .dataframe tbody tr th {\n",
              "        vertical-align: top;\n",
              "    }\n",
              "\n",
              "    .dataframe thead th {\n",
              "        text-align: right;\n",
              "    }\n",
              "</style>\n",
              "<table border=\"1\" class=\"dataframe\">\n",
              "  <thead>\n",
              "    <tr style=\"text-align: right;\">\n",
              "      <th></th>\n",
              "      <th>datahora</th>\n",
              "      <th>satelite</th>\n",
              "      <th>pais</th>\n",
              "      <th>estado</th>\n",
              "      <th>municipio</th>\n",
              "      <th>bioma</th>\n",
              "      <th>diasemchuva</th>\n",
              "      <th>precipitacao</th>\n",
              "      <th>riscofogo</th>\n",
              "      <th>latitude</th>\n",
              "      <th>longitude</th>\n",
              "      <th>frp</th>\n",
              "    </tr>\n",
              "  </thead>\n",
              "  <tbody>\n",
              "    <tr>\n",
              "      <th>2</th>\n",
              "      <td>2014/10/15 17:02:00</td>\n",
              "      <td>NPP-375</td>\n",
              "      <td>Brasil</td>\n",
              "      <td>MATO GROSSO DO SUL</td>\n",
              "      <td>CORUMBA</td>\n",
              "      <td>Pantanal</td>\n",
              "      <td>8.0</td>\n",
              "      <td>0.0</td>\n",
              "      <td>1.0</td>\n",
              "      <td>-19.9664</td>\n",
              "      <td>-57.4599</td>\n",
              "      <td>NaN</td>\n",
              "    </tr>\n",
              "    <tr>\n",
              "      <th>3</th>\n",
              "      <td>2014/10/09 17:15:00</td>\n",
              "      <td>NPP-375</td>\n",
              "      <td>Brasil</td>\n",
              "      <td>MATO GROSSO DO SUL</td>\n",
              "      <td>CORUMBA</td>\n",
              "      <td>Pantanal</td>\n",
              "      <td>2.0</td>\n",
              "      <td>0.0</td>\n",
              "      <td>1.0</td>\n",
              "      <td>-19.8841</td>\n",
              "      <td>-57.3938</td>\n",
              "      <td>NaN</td>\n",
              "    </tr>\n",
              "    <tr>\n",
              "      <th>4</th>\n",
              "      <td>2014/10/15 17:02:00</td>\n",
              "      <td>NPP-375</td>\n",
              "      <td>Brasil</td>\n",
              "      <td>MATO GROSSO DO SUL</td>\n",
              "      <td>CORUMBA</td>\n",
              "      <td>Pantanal</td>\n",
              "      <td>8.0</td>\n",
              "      <td>0.0</td>\n",
              "      <td>1.0</td>\n",
              "      <td>-19.9342</td>\n",
              "      <td>-57.3920</td>\n",
              "      <td>NaN</td>\n",
              "    </tr>\n",
              "    <tr>\n",
              "      <th>5</th>\n",
              "      <td>2014/10/15 17:03:00</td>\n",
              "      <td>NPP-375</td>\n",
              "      <td>Brasil</td>\n",
              "      <td>MATO GROSSO DO SUL</td>\n",
              "      <td>CORUMBA</td>\n",
              "      <td>Pantanal</td>\n",
              "      <td>4.0</td>\n",
              "      <td>0.0</td>\n",
              "      <td>1.0</td>\n",
              "      <td>-18.5320</td>\n",
              "      <td>-56.6813</td>\n",
              "      <td>NaN</td>\n",
              "    </tr>\n",
              "    <tr>\n",
              "      <th>6</th>\n",
              "      <td>2014/10/15 17:02:00</td>\n",
              "      <td>NPP-375</td>\n",
              "      <td>Brasil</td>\n",
              "      <td>MATO GROSSO DO SUL</td>\n",
              "      <td>CORUMBA</td>\n",
              "      <td>Pantanal</td>\n",
              "      <td>8.0</td>\n",
              "      <td>0.0</td>\n",
              "      <td>0.8</td>\n",
              "      <td>-19.9478</td>\n",
              "      <td>-57.3313</td>\n",
              "      <td>NaN</td>\n",
              "    </tr>\n",
              "  </tbody>\n",
              "</table>\n",
              "</div>"
            ],
            "text/plain": [
              "              datahora satelite    pais  ... latitude longitude frp\n",
              "2  2014/10/15 17:02:00  NPP-375  Brasil  ... -19.9664  -57.4599 NaN\n",
              "3  2014/10/09 17:15:00  NPP-375  Brasil  ... -19.8841  -57.3938 NaN\n",
              "4  2014/10/15 17:02:00  NPP-375  Brasil  ... -19.9342  -57.3920 NaN\n",
              "5  2014/10/15 17:03:00  NPP-375  Brasil  ... -18.5320  -56.6813 NaN\n",
              "6  2014/10/15 17:02:00  NPP-375  Brasil  ... -19.9478  -57.3313 NaN\n",
              "\n",
              "[5 rows x 12 columns]"
            ]
          },
          "metadata": {
            "tags": []
          },
          "execution_count": 14
        }
      ]
    },
    {
      "cell_type": "markdown",
      "metadata": {
        "id": "xVcGaY7M3M_B"
      },
      "source": [
        "**SEPARANDO DATA E HORA - PARTE 1 - Transformando a coluna para datetime**"
      ]
    },
    {
      "cell_type": "code",
      "metadata": {
        "id": "aaZmb77t1Vcl"
      },
      "source": [
        "df['datahora'] = pd.to_datetime(df['datahora'])"
      ],
      "execution_count": 15,
      "outputs": []
    },
    {
      "cell_type": "markdown",
      "metadata": {
        "id": "nTmT2Clm3qZs"
      },
      "source": [
        "**SEPARANDO DATA E HORA - PARTE 2**"
      ]
    },
    {
      "cell_type": "code",
      "metadata": {
        "id": "XNaGZB_02bPp"
      },
      "source": [
        "# Coluna 'Data'\n",
        "df['Data'] = df['datahora'].dt.strftime('%Y-%m-%d')\n",
        "# Coluna 'Hora'\n",
        "df['Hora'] = df['datahora'].dt.strftime('%H:%M:%S')"
      ],
      "execution_count": 16,
      "outputs": []
    },
    {
      "cell_type": "code",
      "metadata": {
        "colab": {
          "base_uri": "https://localhost:8080/",
          "height": 204
        },
        "id": "xA1FwC6_2x4f",
        "outputId": "5338c064-d693-4575-9150-4adb94c1b1f6"
      },
      "source": [
        "df.head(5)"
      ],
      "execution_count": 17,
      "outputs": [
        {
          "output_type": "execute_result",
          "data": {
            "text/html": [
              "<div>\n",
              "<style scoped>\n",
              "    .dataframe tbody tr th:only-of-type {\n",
              "        vertical-align: middle;\n",
              "    }\n",
              "\n",
              "    .dataframe tbody tr th {\n",
              "        vertical-align: top;\n",
              "    }\n",
              "\n",
              "    .dataframe thead th {\n",
              "        text-align: right;\n",
              "    }\n",
              "</style>\n",
              "<table border=\"1\" class=\"dataframe\">\n",
              "  <thead>\n",
              "    <tr style=\"text-align: right;\">\n",
              "      <th></th>\n",
              "      <th>datahora</th>\n",
              "      <th>satelite</th>\n",
              "      <th>pais</th>\n",
              "      <th>estado</th>\n",
              "      <th>municipio</th>\n",
              "      <th>bioma</th>\n",
              "      <th>diasemchuva</th>\n",
              "      <th>precipitacao</th>\n",
              "      <th>riscofogo</th>\n",
              "      <th>latitude</th>\n",
              "      <th>longitude</th>\n",
              "      <th>frp</th>\n",
              "      <th>Data</th>\n",
              "      <th>Hora</th>\n",
              "    </tr>\n",
              "  </thead>\n",
              "  <tbody>\n",
              "    <tr>\n",
              "      <th>2</th>\n",
              "      <td>2014-10-15 17:02:00</td>\n",
              "      <td>NPP-375</td>\n",
              "      <td>Brasil</td>\n",
              "      <td>MATO GROSSO DO SUL</td>\n",
              "      <td>CORUMBA</td>\n",
              "      <td>Pantanal</td>\n",
              "      <td>8.0</td>\n",
              "      <td>0.0</td>\n",
              "      <td>1.0</td>\n",
              "      <td>-19.9664</td>\n",
              "      <td>-57.4599</td>\n",
              "      <td>NaN</td>\n",
              "      <td>2014-10-15</td>\n",
              "      <td>17:02:00</td>\n",
              "    </tr>\n",
              "    <tr>\n",
              "      <th>3</th>\n",
              "      <td>2014-10-09 17:15:00</td>\n",
              "      <td>NPP-375</td>\n",
              "      <td>Brasil</td>\n",
              "      <td>MATO GROSSO DO SUL</td>\n",
              "      <td>CORUMBA</td>\n",
              "      <td>Pantanal</td>\n",
              "      <td>2.0</td>\n",
              "      <td>0.0</td>\n",
              "      <td>1.0</td>\n",
              "      <td>-19.8841</td>\n",
              "      <td>-57.3938</td>\n",
              "      <td>NaN</td>\n",
              "      <td>2014-10-09</td>\n",
              "      <td>17:15:00</td>\n",
              "    </tr>\n",
              "    <tr>\n",
              "      <th>4</th>\n",
              "      <td>2014-10-15 17:02:00</td>\n",
              "      <td>NPP-375</td>\n",
              "      <td>Brasil</td>\n",
              "      <td>MATO GROSSO DO SUL</td>\n",
              "      <td>CORUMBA</td>\n",
              "      <td>Pantanal</td>\n",
              "      <td>8.0</td>\n",
              "      <td>0.0</td>\n",
              "      <td>1.0</td>\n",
              "      <td>-19.9342</td>\n",
              "      <td>-57.3920</td>\n",
              "      <td>NaN</td>\n",
              "      <td>2014-10-15</td>\n",
              "      <td>17:02:00</td>\n",
              "    </tr>\n",
              "    <tr>\n",
              "      <th>5</th>\n",
              "      <td>2014-10-15 17:03:00</td>\n",
              "      <td>NPP-375</td>\n",
              "      <td>Brasil</td>\n",
              "      <td>MATO GROSSO DO SUL</td>\n",
              "      <td>CORUMBA</td>\n",
              "      <td>Pantanal</td>\n",
              "      <td>4.0</td>\n",
              "      <td>0.0</td>\n",
              "      <td>1.0</td>\n",
              "      <td>-18.5320</td>\n",
              "      <td>-56.6813</td>\n",
              "      <td>NaN</td>\n",
              "      <td>2014-10-15</td>\n",
              "      <td>17:03:00</td>\n",
              "    </tr>\n",
              "    <tr>\n",
              "      <th>6</th>\n",
              "      <td>2014-10-15 17:02:00</td>\n",
              "      <td>NPP-375</td>\n",
              "      <td>Brasil</td>\n",
              "      <td>MATO GROSSO DO SUL</td>\n",
              "      <td>CORUMBA</td>\n",
              "      <td>Pantanal</td>\n",
              "      <td>8.0</td>\n",
              "      <td>0.0</td>\n",
              "      <td>0.8</td>\n",
              "      <td>-19.9478</td>\n",
              "      <td>-57.3313</td>\n",
              "      <td>NaN</td>\n",
              "      <td>2014-10-15</td>\n",
              "      <td>17:02:00</td>\n",
              "    </tr>\n",
              "  </tbody>\n",
              "</table>\n",
              "</div>"
            ],
            "text/plain": [
              "             datahora satelite    pais  ... frp        Data      Hora\n",
              "2 2014-10-15 17:02:00  NPP-375  Brasil  ... NaN  2014-10-15  17:02:00\n",
              "3 2014-10-09 17:15:00  NPP-375  Brasil  ... NaN  2014-10-09  17:15:00\n",
              "4 2014-10-15 17:02:00  NPP-375  Brasil  ... NaN  2014-10-15  17:02:00\n",
              "5 2014-10-15 17:03:00  NPP-375  Brasil  ... NaN  2014-10-15  17:03:00\n",
              "6 2014-10-15 17:02:00  NPP-375  Brasil  ... NaN  2014-10-15  17:02:00\n",
              "\n",
              "[5 rows x 14 columns]"
            ]
          },
          "metadata": {
            "tags": []
          },
          "execution_count": 17
        }
      ]
    },
    {
      "cell_type": "markdown",
      "metadata": {
        "id": "NLvWPRvb3urw"
      },
      "source": [
        "**DELETANDO A COLUNA datahora**\n"
      ]
    },
    {
      "cell_type": "code",
      "metadata": {
        "id": "JjmbRJvX3uM8"
      },
      "source": [
        "# Remove a coluna 'Data e Hora'\n",
        "del df['datahora']"
      ],
      "execution_count": 18,
      "outputs": []
    },
    {
      "cell_type": "code",
      "metadata": {
        "colab": {
          "base_uri": "https://localhost:8080/",
          "height": 204
        },
        "id": "qe-HJTbz3KxQ",
        "outputId": "fe29b6ac-1fab-4fd7-912e-172faf2cbea6"
      },
      "source": [
        "df.head(5)"
      ],
      "execution_count": 19,
      "outputs": [
        {
          "output_type": "execute_result",
          "data": {
            "text/html": [
              "<div>\n",
              "<style scoped>\n",
              "    .dataframe tbody tr th:only-of-type {\n",
              "        vertical-align: middle;\n",
              "    }\n",
              "\n",
              "    .dataframe tbody tr th {\n",
              "        vertical-align: top;\n",
              "    }\n",
              "\n",
              "    .dataframe thead th {\n",
              "        text-align: right;\n",
              "    }\n",
              "</style>\n",
              "<table border=\"1\" class=\"dataframe\">\n",
              "  <thead>\n",
              "    <tr style=\"text-align: right;\">\n",
              "      <th></th>\n",
              "      <th>satelite</th>\n",
              "      <th>pais</th>\n",
              "      <th>estado</th>\n",
              "      <th>municipio</th>\n",
              "      <th>bioma</th>\n",
              "      <th>diasemchuva</th>\n",
              "      <th>precipitacao</th>\n",
              "      <th>riscofogo</th>\n",
              "      <th>latitude</th>\n",
              "      <th>longitude</th>\n",
              "      <th>frp</th>\n",
              "      <th>Data</th>\n",
              "      <th>Hora</th>\n",
              "    </tr>\n",
              "  </thead>\n",
              "  <tbody>\n",
              "    <tr>\n",
              "      <th>2</th>\n",
              "      <td>NPP-375</td>\n",
              "      <td>Brasil</td>\n",
              "      <td>MATO GROSSO DO SUL</td>\n",
              "      <td>CORUMBA</td>\n",
              "      <td>Pantanal</td>\n",
              "      <td>8.0</td>\n",
              "      <td>0.0</td>\n",
              "      <td>1.0</td>\n",
              "      <td>-19.9664</td>\n",
              "      <td>-57.4599</td>\n",
              "      <td>NaN</td>\n",
              "      <td>2014-10-15</td>\n",
              "      <td>17:02:00</td>\n",
              "    </tr>\n",
              "    <tr>\n",
              "      <th>3</th>\n",
              "      <td>NPP-375</td>\n",
              "      <td>Brasil</td>\n",
              "      <td>MATO GROSSO DO SUL</td>\n",
              "      <td>CORUMBA</td>\n",
              "      <td>Pantanal</td>\n",
              "      <td>2.0</td>\n",
              "      <td>0.0</td>\n",
              "      <td>1.0</td>\n",
              "      <td>-19.8841</td>\n",
              "      <td>-57.3938</td>\n",
              "      <td>NaN</td>\n",
              "      <td>2014-10-09</td>\n",
              "      <td>17:15:00</td>\n",
              "    </tr>\n",
              "    <tr>\n",
              "      <th>4</th>\n",
              "      <td>NPP-375</td>\n",
              "      <td>Brasil</td>\n",
              "      <td>MATO GROSSO DO SUL</td>\n",
              "      <td>CORUMBA</td>\n",
              "      <td>Pantanal</td>\n",
              "      <td>8.0</td>\n",
              "      <td>0.0</td>\n",
              "      <td>1.0</td>\n",
              "      <td>-19.9342</td>\n",
              "      <td>-57.3920</td>\n",
              "      <td>NaN</td>\n",
              "      <td>2014-10-15</td>\n",
              "      <td>17:02:00</td>\n",
              "    </tr>\n",
              "    <tr>\n",
              "      <th>5</th>\n",
              "      <td>NPP-375</td>\n",
              "      <td>Brasil</td>\n",
              "      <td>MATO GROSSO DO SUL</td>\n",
              "      <td>CORUMBA</td>\n",
              "      <td>Pantanal</td>\n",
              "      <td>4.0</td>\n",
              "      <td>0.0</td>\n",
              "      <td>1.0</td>\n",
              "      <td>-18.5320</td>\n",
              "      <td>-56.6813</td>\n",
              "      <td>NaN</td>\n",
              "      <td>2014-10-15</td>\n",
              "      <td>17:03:00</td>\n",
              "    </tr>\n",
              "    <tr>\n",
              "      <th>6</th>\n",
              "      <td>NPP-375</td>\n",
              "      <td>Brasil</td>\n",
              "      <td>MATO GROSSO DO SUL</td>\n",
              "      <td>CORUMBA</td>\n",
              "      <td>Pantanal</td>\n",
              "      <td>8.0</td>\n",
              "      <td>0.0</td>\n",
              "      <td>0.8</td>\n",
              "      <td>-19.9478</td>\n",
              "      <td>-57.3313</td>\n",
              "      <td>NaN</td>\n",
              "      <td>2014-10-15</td>\n",
              "      <td>17:02:00</td>\n",
              "    </tr>\n",
              "  </tbody>\n",
              "</table>\n",
              "</div>"
            ],
            "text/plain": [
              "  satelite    pais              estado  ... frp        Data      Hora\n",
              "2  NPP-375  Brasil  MATO GROSSO DO SUL  ... NaN  2014-10-15  17:02:00\n",
              "3  NPP-375  Brasil  MATO GROSSO DO SUL  ... NaN  2014-10-09  17:15:00\n",
              "4  NPP-375  Brasil  MATO GROSSO DO SUL  ... NaN  2014-10-15  17:02:00\n",
              "5  NPP-375  Brasil  MATO GROSSO DO SUL  ... NaN  2014-10-15  17:03:00\n",
              "6  NPP-375  Brasil  MATO GROSSO DO SUL  ... NaN  2014-10-15  17:02:00\n",
              "\n",
              "[5 rows x 13 columns]"
            ]
          },
          "metadata": {
            "tags": []
          },
          "execution_count": 19
        }
      ]
    },
    {
      "cell_type": "markdown",
      "metadata": {
        "id": "00o0QbAx5-iq"
      },
      "source": [
        "**TAMANHO DO DATASET APÓS PRIMEIRA LIMPEZA**"
      ]
    },
    {
      "cell_type": "code",
      "metadata": {
        "colab": {
          "base_uri": "https://localhost:8080/"
        },
        "id": "uJJgNBNO6H14",
        "outputId": "96c55c7e-a80d-4c78-e4b7-a863338da295"
      },
      "source": [
        "print(f'Tamanho do Dataframe: {df.shape[0]} linhas e {df.shape[1]} colunas') # Descreve o tamanho do dataframe em uma tupla"
      ],
      "execution_count": 20,
      "outputs": [
        {
          "output_type": "stream",
          "text": [
            "Tamanho do Dataframe: 402278 linhas e 13 colunas\n"
          ],
          "name": "stdout"
        }
      ]
    },
    {
      "cell_type": "markdown",
      "metadata": {
        "id": "JFFwhkRNu3qQ"
      },
      "source": [
        "**RETIRAR riscofogo MENOR QUE 0**"
      ]
    },
    {
      "cell_type": "code",
      "metadata": {
        "id": "ZEevo7oCsrlW"
      },
      "source": [
        "indexNames = df[df['riscofogo'] < 0].index\n",
        "df.drop(indexNames , inplace=True)"
      ],
      "execution_count": 22,
      "outputs": []
    },
    {
      "cell_type": "code",
      "metadata": {
        "colab": {
          "base_uri": "https://localhost:8080/",
          "height": 419
        },
        "id": "JdacWmgfs1ac",
        "outputId": "27307885-4e79-4cc4-e2c0-9929e2c81ff4"
      },
      "source": [
        "df"
      ],
      "execution_count": 23,
      "outputs": [
        {
          "output_type": "execute_result",
          "data": {
            "text/html": [
              "<div>\n",
              "<style scoped>\n",
              "    .dataframe tbody tr th:only-of-type {\n",
              "        vertical-align: middle;\n",
              "    }\n",
              "\n",
              "    .dataframe tbody tr th {\n",
              "        vertical-align: top;\n",
              "    }\n",
              "\n",
              "    .dataframe thead th {\n",
              "        text-align: right;\n",
              "    }\n",
              "</style>\n",
              "<table border=\"1\" class=\"dataframe\">\n",
              "  <thead>\n",
              "    <tr style=\"text-align: right;\">\n",
              "      <th></th>\n",
              "      <th>satelite</th>\n",
              "      <th>pais</th>\n",
              "      <th>estado</th>\n",
              "      <th>municipio</th>\n",
              "      <th>bioma</th>\n",
              "      <th>diasemchuva</th>\n",
              "      <th>precipitacao</th>\n",
              "      <th>riscofogo</th>\n",
              "      <th>latitude</th>\n",
              "      <th>longitude</th>\n",
              "      <th>frp</th>\n",
              "      <th>Data</th>\n",
              "      <th>Hora</th>\n",
              "    </tr>\n",
              "  </thead>\n",
              "  <tbody>\n",
              "    <tr>\n",
              "      <th>2</th>\n",
              "      <td>NPP-375</td>\n",
              "      <td>Brasil</td>\n",
              "      <td>MATO GROSSO DO SUL</td>\n",
              "      <td>CORUMBA</td>\n",
              "      <td>Pantanal</td>\n",
              "      <td>8.0</td>\n",
              "      <td>0.0</td>\n",
              "      <td>1.0</td>\n",
              "      <td>-19.9664</td>\n",
              "      <td>-57.4599</td>\n",
              "      <td>NaN</td>\n",
              "      <td>2014-10-15</td>\n",
              "      <td>17:02:00</td>\n",
              "    </tr>\n",
              "    <tr>\n",
              "      <th>3</th>\n",
              "      <td>NPP-375</td>\n",
              "      <td>Brasil</td>\n",
              "      <td>MATO GROSSO DO SUL</td>\n",
              "      <td>CORUMBA</td>\n",
              "      <td>Pantanal</td>\n",
              "      <td>2.0</td>\n",
              "      <td>0.0</td>\n",
              "      <td>1.0</td>\n",
              "      <td>-19.8841</td>\n",
              "      <td>-57.3938</td>\n",
              "      <td>NaN</td>\n",
              "      <td>2014-10-09</td>\n",
              "      <td>17:15:00</td>\n",
              "    </tr>\n",
              "    <tr>\n",
              "      <th>4</th>\n",
              "      <td>NPP-375</td>\n",
              "      <td>Brasil</td>\n",
              "      <td>MATO GROSSO DO SUL</td>\n",
              "      <td>CORUMBA</td>\n",
              "      <td>Pantanal</td>\n",
              "      <td>8.0</td>\n",
              "      <td>0.0</td>\n",
              "      <td>1.0</td>\n",
              "      <td>-19.9342</td>\n",
              "      <td>-57.3920</td>\n",
              "      <td>NaN</td>\n",
              "      <td>2014-10-15</td>\n",
              "      <td>17:02:00</td>\n",
              "    </tr>\n",
              "    <tr>\n",
              "      <th>5</th>\n",
              "      <td>NPP-375</td>\n",
              "      <td>Brasil</td>\n",
              "      <td>MATO GROSSO DO SUL</td>\n",
              "      <td>CORUMBA</td>\n",
              "      <td>Pantanal</td>\n",
              "      <td>4.0</td>\n",
              "      <td>0.0</td>\n",
              "      <td>1.0</td>\n",
              "      <td>-18.5320</td>\n",
              "      <td>-56.6813</td>\n",
              "      <td>NaN</td>\n",
              "      <td>2014-10-15</td>\n",
              "      <td>17:03:00</td>\n",
              "    </tr>\n",
              "    <tr>\n",
              "      <th>6</th>\n",
              "      <td>NPP-375</td>\n",
              "      <td>Brasil</td>\n",
              "      <td>MATO GROSSO DO SUL</td>\n",
              "      <td>CORUMBA</td>\n",
              "      <td>Pantanal</td>\n",
              "      <td>8.0</td>\n",
              "      <td>0.0</td>\n",
              "      <td>0.8</td>\n",
              "      <td>-19.9478</td>\n",
              "      <td>-57.3313</td>\n",
              "      <td>NaN</td>\n",
              "      <td>2014-10-15</td>\n",
              "      <td>17:02:00</td>\n",
              "    </tr>\n",
              "    <tr>\n",
              "      <th>...</th>\n",
              "      <td>...</td>\n",
              "      <td>...</td>\n",
              "      <td>...</td>\n",
              "      <td>...</td>\n",
              "      <td>...</td>\n",
              "      <td>...</td>\n",
              "      <td>...</td>\n",
              "      <td>...</td>\n",
              "      <td>...</td>\n",
              "      <td>...</td>\n",
              "      <td>...</td>\n",
              "      <td>...</td>\n",
              "      <td>...</td>\n",
              "    </tr>\n",
              "    <tr>\n",
              "      <th>742931</th>\n",
              "      <td>NPP-375</td>\n",
              "      <td>Brasil</td>\n",
              "      <td>MATO GROSSO DO SUL</td>\n",
              "      <td>CORUMBA</td>\n",
              "      <td>Pantanal</td>\n",
              "      <td>11.0</td>\n",
              "      <td>0.0</td>\n",
              "      <td>1.0</td>\n",
              "      <td>-17.4586</td>\n",
              "      <td>-55.9273</td>\n",
              "      <td>1.9</td>\n",
              "      <td>2020-10-02</td>\n",
              "      <td>05:06:00</td>\n",
              "    </tr>\n",
              "    <tr>\n",
              "      <th>742940</th>\n",
              "      <td>NPP-375</td>\n",
              "      <td>Brasil</td>\n",
              "      <td>MATO GROSSO</td>\n",
              "      <td>POCONE</td>\n",
              "      <td>Pantanal</td>\n",
              "      <td>4.0</td>\n",
              "      <td>6.8</td>\n",
              "      <td>0.6</td>\n",
              "      <td>-17.7191</td>\n",
              "      <td>-57.3138</td>\n",
              "      <td>3.3</td>\n",
              "      <td>2020-10-12</td>\n",
              "      <td>05:18:00</td>\n",
              "    </tr>\n",
              "    <tr>\n",
              "      <th>742942</th>\n",
              "      <td>NPP-375</td>\n",
              "      <td>Brasil</td>\n",
              "      <td>MATO GROSSO</td>\n",
              "      <td>CACERES</td>\n",
              "      <td>Pantanal</td>\n",
              "      <td>4.0</td>\n",
              "      <td>5.4</td>\n",
              "      <td>0.3</td>\n",
              "      <td>-17.1433</td>\n",
              "      <td>-57.4232</td>\n",
              "      <td>2.8</td>\n",
              "      <td>2020-10-12</td>\n",
              "      <td>05:18:00</td>\n",
              "    </tr>\n",
              "    <tr>\n",
              "      <th>742956</th>\n",
              "      <td>NPP-375</td>\n",
              "      <td>Brasil</td>\n",
              "      <td>MATO GROSSO DO SUL</td>\n",
              "      <td>CORUMBA</td>\n",
              "      <td>Pantanal</td>\n",
              "      <td>0.0</td>\n",
              "      <td>0.0</td>\n",
              "      <td>0.9</td>\n",
              "      <td>-17.6902</td>\n",
              "      <td>-57.0022</td>\n",
              "      <td>1.3</td>\n",
              "      <td>2020-10-03</td>\n",
              "      <td>04:48:00</td>\n",
              "    </tr>\n",
              "    <tr>\n",
              "      <th>742960</th>\n",
              "      <td>NPP-375</td>\n",
              "      <td>Brasil</td>\n",
              "      <td>MATO GROSSO DO SUL</td>\n",
              "      <td>CORUMBA</td>\n",
              "      <td>Pantanal</td>\n",
              "      <td>4.0</td>\n",
              "      <td>6.8</td>\n",
              "      <td>0.0</td>\n",
              "      <td>-18.6623</td>\n",
              "      <td>-57.3391</td>\n",
              "      <td>20.9</td>\n",
              "      <td>2020-10-13</td>\n",
              "      <td>17:30:00</td>\n",
              "    </tr>\n",
              "  </tbody>\n",
              "</table>\n",
              "<p>395273 rows × 13 columns</p>\n",
              "</div>"
            ],
            "text/plain": [
              "       satelite    pais              estado  ...   frp        Data      Hora\n",
              "2       NPP-375  Brasil  MATO GROSSO DO SUL  ...   NaN  2014-10-15  17:02:00\n",
              "3       NPP-375  Brasil  MATO GROSSO DO SUL  ...   NaN  2014-10-09  17:15:00\n",
              "4       NPP-375  Brasil  MATO GROSSO DO SUL  ...   NaN  2014-10-15  17:02:00\n",
              "5       NPP-375  Brasil  MATO GROSSO DO SUL  ...   NaN  2014-10-15  17:03:00\n",
              "6       NPP-375  Brasil  MATO GROSSO DO SUL  ...   NaN  2014-10-15  17:02:00\n",
              "...         ...     ...                 ...  ...   ...         ...       ...\n",
              "742931  NPP-375  Brasil  MATO GROSSO DO SUL  ...   1.9  2020-10-02  05:06:00\n",
              "742940  NPP-375  Brasil         MATO GROSSO  ...   3.3  2020-10-12  05:18:00\n",
              "742942  NPP-375  Brasil         MATO GROSSO  ...   2.8  2020-10-12  05:18:00\n",
              "742956  NPP-375  Brasil  MATO GROSSO DO SUL  ...   1.3  2020-10-03  04:48:00\n",
              "742960  NPP-375  Brasil  MATO GROSSO DO SUL  ...  20.9  2020-10-13  17:30:00\n",
              "\n",
              "[395273 rows x 13 columns]"
            ]
          },
          "metadata": {
            "tags": []
          },
          "execution_count": 23
        }
      ]
    },
    {
      "cell_type": "markdown",
      "metadata": {
        "id": "tX3nZRV4oMWe"
      },
      "source": [
        "**ORGANIZANDO PRIMEIRA LINHA DO DATAFRAME**"
      ]
    },
    {
      "cell_type": "code",
      "metadata": {
        "id": "mHCavwn1j6qo"
      },
      "source": [
        "df = df[['Data','Hora','satelite','pais','estado','municipio','bioma','diasemchuva','precipitacao','riscofogo','latitude','longitude','frp']]"
      ],
      "execution_count": 25,
      "outputs": []
    },
    {
      "cell_type": "code",
      "metadata": {
        "id": "eX4ov5jekaMj",
        "colab": {
          "base_uri": "https://localhost:8080/",
          "height": 419
        },
        "outputId": "8e09866b-38b4-49b6-b1fa-c45b7a39d576"
      },
      "source": [
        "df"
      ],
      "execution_count": 26,
      "outputs": [
        {
          "output_type": "execute_result",
          "data": {
            "text/html": [
              "<div>\n",
              "<style scoped>\n",
              "    .dataframe tbody tr th:only-of-type {\n",
              "        vertical-align: middle;\n",
              "    }\n",
              "\n",
              "    .dataframe tbody tr th {\n",
              "        vertical-align: top;\n",
              "    }\n",
              "\n",
              "    .dataframe thead th {\n",
              "        text-align: right;\n",
              "    }\n",
              "</style>\n",
              "<table border=\"1\" class=\"dataframe\">\n",
              "  <thead>\n",
              "    <tr style=\"text-align: right;\">\n",
              "      <th></th>\n",
              "      <th>Data</th>\n",
              "      <th>Hora</th>\n",
              "      <th>satelite</th>\n",
              "      <th>pais</th>\n",
              "      <th>estado</th>\n",
              "      <th>municipio</th>\n",
              "      <th>bioma</th>\n",
              "      <th>diasemchuva</th>\n",
              "      <th>precipitacao</th>\n",
              "      <th>riscofogo</th>\n",
              "      <th>latitude</th>\n",
              "      <th>longitude</th>\n",
              "      <th>frp</th>\n",
              "    </tr>\n",
              "  </thead>\n",
              "  <tbody>\n",
              "    <tr>\n",
              "      <th>2</th>\n",
              "      <td>2014-10-15</td>\n",
              "      <td>17:02:00</td>\n",
              "      <td>NPP-375</td>\n",
              "      <td>Brasil</td>\n",
              "      <td>MATO GROSSO DO SUL</td>\n",
              "      <td>CORUMBA</td>\n",
              "      <td>Pantanal</td>\n",
              "      <td>8.0</td>\n",
              "      <td>0.0</td>\n",
              "      <td>1.0</td>\n",
              "      <td>-19.9664</td>\n",
              "      <td>-57.4599</td>\n",
              "      <td>NaN</td>\n",
              "    </tr>\n",
              "    <tr>\n",
              "      <th>3</th>\n",
              "      <td>2014-10-09</td>\n",
              "      <td>17:15:00</td>\n",
              "      <td>NPP-375</td>\n",
              "      <td>Brasil</td>\n",
              "      <td>MATO GROSSO DO SUL</td>\n",
              "      <td>CORUMBA</td>\n",
              "      <td>Pantanal</td>\n",
              "      <td>2.0</td>\n",
              "      <td>0.0</td>\n",
              "      <td>1.0</td>\n",
              "      <td>-19.8841</td>\n",
              "      <td>-57.3938</td>\n",
              "      <td>NaN</td>\n",
              "    </tr>\n",
              "    <tr>\n",
              "      <th>4</th>\n",
              "      <td>2014-10-15</td>\n",
              "      <td>17:02:00</td>\n",
              "      <td>NPP-375</td>\n",
              "      <td>Brasil</td>\n",
              "      <td>MATO GROSSO DO SUL</td>\n",
              "      <td>CORUMBA</td>\n",
              "      <td>Pantanal</td>\n",
              "      <td>8.0</td>\n",
              "      <td>0.0</td>\n",
              "      <td>1.0</td>\n",
              "      <td>-19.9342</td>\n",
              "      <td>-57.3920</td>\n",
              "      <td>NaN</td>\n",
              "    </tr>\n",
              "    <tr>\n",
              "      <th>5</th>\n",
              "      <td>2014-10-15</td>\n",
              "      <td>17:03:00</td>\n",
              "      <td>NPP-375</td>\n",
              "      <td>Brasil</td>\n",
              "      <td>MATO GROSSO DO SUL</td>\n",
              "      <td>CORUMBA</td>\n",
              "      <td>Pantanal</td>\n",
              "      <td>4.0</td>\n",
              "      <td>0.0</td>\n",
              "      <td>1.0</td>\n",
              "      <td>-18.5320</td>\n",
              "      <td>-56.6813</td>\n",
              "      <td>NaN</td>\n",
              "    </tr>\n",
              "    <tr>\n",
              "      <th>6</th>\n",
              "      <td>2014-10-15</td>\n",
              "      <td>17:02:00</td>\n",
              "      <td>NPP-375</td>\n",
              "      <td>Brasil</td>\n",
              "      <td>MATO GROSSO DO SUL</td>\n",
              "      <td>CORUMBA</td>\n",
              "      <td>Pantanal</td>\n",
              "      <td>8.0</td>\n",
              "      <td>0.0</td>\n",
              "      <td>0.8</td>\n",
              "      <td>-19.9478</td>\n",
              "      <td>-57.3313</td>\n",
              "      <td>NaN</td>\n",
              "    </tr>\n",
              "    <tr>\n",
              "      <th>...</th>\n",
              "      <td>...</td>\n",
              "      <td>...</td>\n",
              "      <td>...</td>\n",
              "      <td>...</td>\n",
              "      <td>...</td>\n",
              "      <td>...</td>\n",
              "      <td>...</td>\n",
              "      <td>...</td>\n",
              "      <td>...</td>\n",
              "      <td>...</td>\n",
              "      <td>...</td>\n",
              "      <td>...</td>\n",
              "      <td>...</td>\n",
              "    </tr>\n",
              "    <tr>\n",
              "      <th>742931</th>\n",
              "      <td>2020-10-02</td>\n",
              "      <td>05:06:00</td>\n",
              "      <td>NPP-375</td>\n",
              "      <td>Brasil</td>\n",
              "      <td>MATO GROSSO DO SUL</td>\n",
              "      <td>CORUMBA</td>\n",
              "      <td>Pantanal</td>\n",
              "      <td>11.0</td>\n",
              "      <td>0.0</td>\n",
              "      <td>1.0</td>\n",
              "      <td>-17.4586</td>\n",
              "      <td>-55.9273</td>\n",
              "      <td>1.9</td>\n",
              "    </tr>\n",
              "    <tr>\n",
              "      <th>742940</th>\n",
              "      <td>2020-10-12</td>\n",
              "      <td>05:18:00</td>\n",
              "      <td>NPP-375</td>\n",
              "      <td>Brasil</td>\n",
              "      <td>MATO GROSSO</td>\n",
              "      <td>POCONE</td>\n",
              "      <td>Pantanal</td>\n",
              "      <td>4.0</td>\n",
              "      <td>6.8</td>\n",
              "      <td>0.6</td>\n",
              "      <td>-17.7191</td>\n",
              "      <td>-57.3138</td>\n",
              "      <td>3.3</td>\n",
              "    </tr>\n",
              "    <tr>\n",
              "      <th>742942</th>\n",
              "      <td>2020-10-12</td>\n",
              "      <td>05:18:00</td>\n",
              "      <td>NPP-375</td>\n",
              "      <td>Brasil</td>\n",
              "      <td>MATO GROSSO</td>\n",
              "      <td>CACERES</td>\n",
              "      <td>Pantanal</td>\n",
              "      <td>4.0</td>\n",
              "      <td>5.4</td>\n",
              "      <td>0.3</td>\n",
              "      <td>-17.1433</td>\n",
              "      <td>-57.4232</td>\n",
              "      <td>2.8</td>\n",
              "    </tr>\n",
              "    <tr>\n",
              "      <th>742956</th>\n",
              "      <td>2020-10-03</td>\n",
              "      <td>04:48:00</td>\n",
              "      <td>NPP-375</td>\n",
              "      <td>Brasil</td>\n",
              "      <td>MATO GROSSO DO SUL</td>\n",
              "      <td>CORUMBA</td>\n",
              "      <td>Pantanal</td>\n",
              "      <td>0.0</td>\n",
              "      <td>0.0</td>\n",
              "      <td>0.9</td>\n",
              "      <td>-17.6902</td>\n",
              "      <td>-57.0022</td>\n",
              "      <td>1.3</td>\n",
              "    </tr>\n",
              "    <tr>\n",
              "      <th>742960</th>\n",
              "      <td>2020-10-13</td>\n",
              "      <td>17:30:00</td>\n",
              "      <td>NPP-375</td>\n",
              "      <td>Brasil</td>\n",
              "      <td>MATO GROSSO DO SUL</td>\n",
              "      <td>CORUMBA</td>\n",
              "      <td>Pantanal</td>\n",
              "      <td>4.0</td>\n",
              "      <td>6.8</td>\n",
              "      <td>0.0</td>\n",
              "      <td>-18.6623</td>\n",
              "      <td>-57.3391</td>\n",
              "      <td>20.9</td>\n",
              "    </tr>\n",
              "  </tbody>\n",
              "</table>\n",
              "<p>395273 rows × 13 columns</p>\n",
              "</div>"
            ],
            "text/plain": [
              "              Data      Hora satelite  ... latitude longitude   frp\n",
              "2       2014-10-15  17:02:00  NPP-375  ... -19.9664  -57.4599   NaN\n",
              "3       2014-10-09  17:15:00  NPP-375  ... -19.8841  -57.3938   NaN\n",
              "4       2014-10-15  17:02:00  NPP-375  ... -19.9342  -57.3920   NaN\n",
              "5       2014-10-15  17:03:00  NPP-375  ... -18.5320  -56.6813   NaN\n",
              "6       2014-10-15  17:02:00  NPP-375  ... -19.9478  -57.3313   NaN\n",
              "...            ...       ...      ...  ...      ...       ...   ...\n",
              "742931  2020-10-02  05:06:00  NPP-375  ... -17.4586  -55.9273   1.9\n",
              "742940  2020-10-12  05:18:00  NPP-375  ... -17.7191  -57.3138   3.3\n",
              "742942  2020-10-12  05:18:00  NPP-375  ... -17.1433  -57.4232   2.8\n",
              "742956  2020-10-03  04:48:00  NPP-375  ... -17.6902  -57.0022   1.3\n",
              "742960  2020-10-13  17:30:00  NPP-375  ... -18.6623  -57.3391  20.9\n",
              "\n",
              "[395273 rows x 13 columns]"
            ]
          },
          "metadata": {
            "tags": []
          },
          "execution_count": 26
        }
      ]
    },
    {
      "cell_type": "markdown",
      "metadata": {
        "id": "Bb0TOUcTNWIX"
      },
      "source": [
        "**DATASET QUEIMADAS**"
      ]
    },
    {
      "cell_type": "code",
      "metadata": {
        "id": "HqWRAGplNorn"
      },
      "source": [
        "from google.colab import drive"
      ],
      "execution_count": 27,
      "outputs": []
    },
    {
      "cell_type": "code",
      "metadata": {
        "colab": {
          "base_uri": "https://localhost:8080/"
        },
        "id": "JH91qdIoOBww",
        "outputId": "df66ea8a-e519-491d-e4ce-9efc836e80a1"
      },
      "source": [
        "drive.mount('/content/drive')"
      ],
      "execution_count": 28,
      "outputs": [
        {
          "output_type": "stream",
          "text": [
            "Mounted at /content/drive\n"
          ],
          "name": "stdout"
        }
      ]
    },
    {
      "cell_type": "code",
      "metadata": {
        "colab": {
          "base_uri": "https://localhost:8080/"
        },
        "id": "oHaKgtsdPNw-",
        "outputId": "a6c74b2e-6ec1-4678-af10-db627e6cd066"
      },
      "source": [
        "drive.mount(\"/content/drive\", force_remount=True)"
      ],
      "execution_count": 29,
      "outputs": [
        {
          "output_type": "stream",
          "text": [
            "Mounted at /content/drive\n"
          ],
          "name": "stdout"
        }
      ]
    },
    {
      "cell_type": "code",
      "metadata": {
        "colab": {
          "base_uri": "https://localhost:8080/"
        },
        "id": "82d8OhqZOM8S",
        "outputId": "c65f418b-5d4b-4f12-f441-9a1ab77ea546"
      },
      "source": [
        "!git clone https://github.com/charlespimentel/PROJ_QUEIMA_BR"
      ],
      "execution_count": 30,
      "outputs": [
        {
          "output_type": "stream",
          "text": [
            "Cloning into 'PROJ_QUEIMA_BR'...\n",
            "remote: Enumerating objects: 292, done.\u001b[K\n",
            "remote: Counting objects: 100% (292/292), done.\u001b[K\n",
            "remote: Compressing objects: 100% (247/247), done.\u001b[K\n",
            "remote: Total 292 (delta 146), reused 134 (delta 42), pack-reused 0\n",
            "Receiving objects: 100% (292/292), 34.84 MiB | 14.13 MiB/s, done.\n",
            "Resolving deltas: 100% (146/146), done.\n"
          ],
          "name": "stdout"
        }
      ]
    },
    {
      "cell_type": "code",
      "metadata": {
        "colab": {
          "base_uri": "https://localhost:8080/"
        },
        "id": "wlnuVv_NOjzq",
        "outputId": "aed8e8fb-f27e-4182-f885-7c28bb43beac"
      },
      "source": [
        "pip install geopandas"
      ],
      "execution_count": 31,
      "outputs": [
        {
          "output_type": "stream",
          "text": [
            "Collecting geopandas\n",
            "\u001b[?25l  Downloading https://files.pythonhosted.org/packages/d7/bf/e9cefb69d39155d122b6ddca53893b61535fa6ffdad70bf5ef708977f53f/geopandas-0.9.0-py2.py3-none-any.whl (994kB)\n",
            "\u001b[K     |████████████████████████████████| 1.0MB 5.3MB/s \n",
            "\u001b[?25hCollecting fiona>=1.8\n",
            "\u001b[?25l  Downloading https://files.pythonhosted.org/packages/ea/2a/404b22883298a3efe9c6ef8d67acbf2c38443fa366ee9cd4cd34e17626ea/Fiona-1.8.19-cp37-cp37m-manylinux1_x86_64.whl (15.3MB)\n",
            "\u001b[K     |████████████████████████████████| 15.3MB 328kB/s \n",
            "\u001b[?25hRequirement already satisfied: shapely>=1.6 in /usr/local/lib/python3.7/dist-packages (from geopandas) (1.7.1)\n",
            "Requirement already satisfied: pandas>=0.24.0 in /usr/local/lib/python3.7/dist-packages (from geopandas) (1.1.5)\n",
            "Collecting pyproj>=2.2.0\n",
            "\u001b[?25l  Downloading https://files.pythonhosted.org/packages/b1/72/d52e9ca81caef056062d71991b0e9b1d16af042245627c5d0e4916a36c4f/pyproj-3.0.1-cp37-cp37m-manylinux2010_x86_64.whl (6.5MB)\n",
            "\u001b[K     |████████████████████████████████| 6.5MB 48.9MB/s \n",
            "\u001b[?25hCollecting cligj>=0.5\n",
            "  Downloading https://files.pythonhosted.org/packages/42/1e/947eadf10d6804bf276eb8a038bd5307996dceaaa41cfd21b7a15ec62f5d/cligj-0.7.1-py3-none-any.whl\n",
            "Requirement already satisfied: attrs>=17 in /usr/local/lib/python3.7/dist-packages (from fiona>=1.8->geopandas) (20.3.0)\n",
            "Collecting munch\n",
            "  Downloading https://files.pythonhosted.org/packages/cc/ab/85d8da5c9a45e072301beb37ad7f833cd344e04c817d97e0cc75681d248f/munch-2.5.0-py2.py3-none-any.whl\n",
            "Collecting click-plugins>=1.0\n",
            "  Downloading https://files.pythonhosted.org/packages/e9/da/824b92d9942f4e472702488857914bdd50f73021efea15b4cad9aca8ecef/click_plugins-1.1.1-py2.py3-none-any.whl\n",
            "Requirement already satisfied: six>=1.7 in /usr/local/lib/python3.7/dist-packages (from fiona>=1.8->geopandas) (1.15.0)\n",
            "Requirement already satisfied: click<8,>=4.0 in /usr/local/lib/python3.7/dist-packages (from fiona>=1.8->geopandas) (7.1.2)\n",
            "Requirement already satisfied: certifi in /usr/local/lib/python3.7/dist-packages (from fiona>=1.8->geopandas) (2020.12.5)\n",
            "Requirement already satisfied: pytz>=2017.2 in /usr/local/lib/python3.7/dist-packages (from pandas>=0.24.0->geopandas) (2018.9)\n",
            "Requirement already satisfied: numpy>=1.15.4 in /usr/local/lib/python3.7/dist-packages (from pandas>=0.24.0->geopandas) (1.19.5)\n",
            "Requirement already satisfied: python-dateutil>=2.7.3 in /usr/local/lib/python3.7/dist-packages (from pandas>=0.24.0->geopandas) (2.8.1)\n",
            "Installing collected packages: cligj, munch, click-plugins, fiona, pyproj, geopandas\n",
            "Successfully installed click-plugins-1.1.1 cligj-0.7.1 fiona-1.8.19 geopandas-0.9.0 munch-2.5.0 pyproj-3.0.1\n"
          ],
          "name": "stdout"
        }
      ]
    },
    {
      "cell_type": "code",
      "metadata": {
        "id": "jdacd9x-Orwd"
      },
      "source": [
        "import geopandas as gpd"
      ],
      "execution_count": 33,
      "outputs": []
    },
    {
      "cell_type": "code",
      "metadata": {
        "id": "Vq2vrZJ0Ov4-"
      },
      "source": [
        "queimadas_df_2012 = gpd.read_file('PROJ_QUEIMA_BR/Data_Lasa_12_21/alarmes_hist_2012_pantanal.shp')\n",
        "queimadas_df_2013 = gpd.read_file('PROJ_QUEIMA_BR/Data_Lasa_12_21/alarmes_hist_2013_pantanal.shp')\n",
        "queimadas_df_2014 = gpd.read_file('PROJ_QUEIMA_BR/Data_Lasa_12_21/alarmes_hist_2014_pantanal.shp')\n",
        "queimadas_df_2015 = gpd.read_file('PROJ_QUEIMA_BR/Data_Lasa_12_21/alarmes_hist_2015_pantanal.shp')\n",
        "queimadas_df_2016 = gpd.read_file('PROJ_QUEIMA_BR/Data_Lasa_12_21/alarmes_hist_2016_pantanal.shp')\n",
        "queimadas_df_2017 = gpd.read_file('PROJ_QUEIMA_BR/Data_Lasa_12_21/alarmes_hist_2017_pantanal.shp')\n",
        "queimadas_df_2018 = gpd.read_file('PROJ_QUEIMA_BR/Data_Lasa_12_21/alarmes_hist_2018_pantanal.shp')\n",
        "queimadas_df_2019 = gpd.read_file('PROJ_QUEIMA_BR/Data_Lasa_12_21/alarmes_hist_2019_pantanal.shp')\n",
        "queimadas_df_2020 = gpd.read_file('PROJ_QUEIMA_BR/Data_Lasa_12_21/alarmes_hist_2020_pantanal.shp')"
      ],
      "execution_count": 34,
      "outputs": []
    },
    {
      "cell_type": "code",
      "metadata": {
        "id": "D_u87U2BpBcP"
      },
      "source": [
        "#Unindo os 9 datasets\n",
        "queimadas_df_ = pd.concat([queimadas_df_2012, queimadas_df_2013, queimadas_df_2014, queimadas_df_2015, queimadas_df_2016, queimadas_df_2017, queimadas_df_2018, queimadas_df_2019, queimadas_df_2020])"
      ],
      "execution_count": 35,
      "outputs": []
    },
    {
      "cell_type": "code",
      "metadata": {
        "colab": {
          "base_uri": "https://localhost:8080/",
          "height": 419
        },
        "id": "2KhucBwLTwkv",
        "outputId": "51f6523e-2543-4f81-d4cd-edac847c835e"
      },
      "source": [
        "queimadas_df_"
      ],
      "execution_count": 36,
      "outputs": [
        {
          "output_type": "execute_result",
          "data": {
            "text/html": [
              "<div>\n",
              "<style scoped>\n",
              "    .dataframe tbody tr th:only-of-type {\n",
              "        vertical-align: middle;\n",
              "    }\n",
              "\n",
              "    .dataframe tbody tr th {\n",
              "        vertical-align: top;\n",
              "    }\n",
              "\n",
              "    .dataframe thead th {\n",
              "        text-align: right;\n",
              "    }\n",
              "</style>\n",
              "<table border=\"1\" class=\"dataframe\">\n",
              "  <thead>\n",
              "    <tr style=\"text-align: right;\">\n",
              "      <th></th>\n",
              "      <th>DiaJuliano</th>\n",
              "      <th>Mes</th>\n",
              "      <th>Ano</th>\n",
              "      <th>Versao</th>\n",
              "      <th>NivConf</th>\n",
              "      <th>geometry</th>\n",
              "    </tr>\n",
              "  </thead>\n",
              "  <tbody>\n",
              "    <tr>\n",
              "      <th>0</th>\n",
              "      <td>260</td>\n",
              "      <td>09</td>\n",
              "      <td>2012</td>\n",
              "      <td>Alarmes-Histórico</td>\n",
              "      <td>0.3490</td>\n",
              "      <td>POLYGON ((-57.65500 -15.77500, -57.66000 -15.7...</td>\n",
              "    </tr>\n",
              "    <tr>\n",
              "      <th>1</th>\n",
              "      <td>258</td>\n",
              "      <td>09</td>\n",
              "      <td>2012</td>\n",
              "      <td>Alarmes-Histórico</td>\n",
              "      <td>0.3961</td>\n",
              "      <td>POLYGON ((-57.65500 -15.78000, -57.66000 -15.7...</td>\n",
              "    </tr>\n",
              "    <tr>\n",
              "      <th>2</th>\n",
              "      <td>298</td>\n",
              "      <td>10</td>\n",
              "      <td>2012</td>\n",
              "      <td>Alarmes-Histórico</td>\n",
              "      <td>0.3176</td>\n",
              "      <td>POLYGON ((-57.58000 -15.83000, -57.58500 -15.8...</td>\n",
              "    </tr>\n",
              "    <tr>\n",
              "      <th>3</th>\n",
              "      <td>253</td>\n",
              "      <td>09</td>\n",
              "      <td>2012</td>\n",
              "      <td>Alarmes-Histórico</td>\n",
              "      <td>0.3961</td>\n",
              "      <td>POLYGON ((-57.74000 -15.85000, -57.74500 -15.8...</td>\n",
              "    </tr>\n",
              "    <tr>\n",
              "      <th>4</th>\n",
              "      <td>235</td>\n",
              "      <td>08</td>\n",
              "      <td>2012</td>\n",
              "      <td>Alarmes-Histórico</td>\n",
              "      <td>0.3451</td>\n",
              "      <td>POLYGON ((-57.85000 -15.86000, -57.85500 -15.8...</td>\n",
              "    </tr>\n",
              "    <tr>\n",
              "      <th>...</th>\n",
              "      <td>...</td>\n",
              "      <td>...</td>\n",
              "      <td>...</td>\n",
              "      <td>...</td>\n",
              "      <td>...</td>\n",
              "      <td>...</td>\n",
              "    </tr>\n",
              "    <tr>\n",
              "      <th>98955</th>\n",
              "      <td>217</td>\n",
              "      <td>08</td>\n",
              "      <td>2020</td>\n",
              "      <td>Alarmes-Histórico</td>\n",
              "      <td>0.3804</td>\n",
              "      <td>POLYGON ((-57.98000 -22.08500, -57.98500 -22.0...</td>\n",
              "    </tr>\n",
              "    <tr>\n",
              "      <th>98956</th>\n",
              "      <td>217</td>\n",
              "      <td>08</td>\n",
              "      <td>2020</td>\n",
              "      <td>Alarmes-Histórico</td>\n",
              "      <td>0.8902</td>\n",
              "      <td>POLYGON ((-57.99000 -22.09000, -57.99500 -22.0...</td>\n",
              "    </tr>\n",
              "    <tr>\n",
              "      <th>98957</th>\n",
              "      <td>217</td>\n",
              "      <td>08</td>\n",
              "      <td>2020</td>\n",
              "      <td>Alarmes-Histórico</td>\n",
              "      <td>0.9490</td>\n",
              "      <td>POLYGON ((-57.98500 -22.09000, -57.99000 -22.0...</td>\n",
              "    </tr>\n",
              "    <tr>\n",
              "      <th>98958</th>\n",
              "      <td>217</td>\n",
              "      <td>08</td>\n",
              "      <td>2020</td>\n",
              "      <td>Alarmes-Histórico</td>\n",
              "      <td>0.6784</td>\n",
              "      <td>POLYGON ((-57.98000 -22.09000, -57.98500 -22.0...</td>\n",
              "    </tr>\n",
              "    <tr>\n",
              "      <th>98959</th>\n",
              "      <td>74</td>\n",
              "      <td>03</td>\n",
              "      <td>2020</td>\n",
              "      <td>Alarmes-Histórico</td>\n",
              "      <td>0.5843</td>\n",
              "      <td>POLYGON ((-57.99500 -22.09000, -57.99000 -22.0...</td>\n",
              "    </tr>\n",
              "  </tbody>\n",
              "</table>\n",
              "<p>340032 rows × 6 columns</p>\n",
              "</div>"
            ],
            "text/plain": [
              "       DiaJuliano  ...                                           geometry\n",
              "0             260  ...  POLYGON ((-57.65500 -15.77500, -57.66000 -15.7...\n",
              "1             258  ...  POLYGON ((-57.65500 -15.78000, -57.66000 -15.7...\n",
              "2             298  ...  POLYGON ((-57.58000 -15.83000, -57.58500 -15.8...\n",
              "3             253  ...  POLYGON ((-57.74000 -15.85000, -57.74500 -15.8...\n",
              "4             235  ...  POLYGON ((-57.85000 -15.86000, -57.85500 -15.8...\n",
              "...           ...  ...                                                ...\n",
              "98955         217  ...  POLYGON ((-57.98000 -22.08500, -57.98500 -22.0...\n",
              "98956         217  ...  POLYGON ((-57.99000 -22.09000, -57.99500 -22.0...\n",
              "98957         217  ...  POLYGON ((-57.98500 -22.09000, -57.99000 -22.0...\n",
              "98958         217  ...  POLYGON ((-57.98000 -22.09000, -57.98500 -22.0...\n",
              "98959          74  ...  POLYGON ((-57.99500 -22.09000, -57.99000 -22.0...\n",
              "\n",
              "[340032 rows x 6 columns]"
            ]
          },
          "metadata": {
            "tags": []
          },
          "execution_count": 36
        }
      ]
    },
    {
      "cell_type": "code",
      "metadata": {
        "colab": {
          "base_uri": "https://localhost:8080/",
          "height": 182
        },
        "id": "RUfvSiicYn0m",
        "outputId": "2f322868-bde4-4520-daf5-e477d9738791"
      },
      "source": [
        "tost = queimadas_df_.copy()\n",
        "tost= tost.to_crs({'init': 'epsg:3857'})\n",
        "print (tost.crs)\n",
        "tost.head(2)"
      ],
      "execution_count": 37,
      "outputs": [
        {
          "output_type": "stream",
          "text": [
            "/usr/local/lib/python3.7/dist-packages/pyproj/crs/crs.py:53: FutureWarning: '+init=<authority>:<code>' syntax is deprecated. '<authority>:<code>' is the preferred initialization method. When making the change, be mindful of axis order changes: https://pyproj4.github.io/pyproj/stable/gotchas.html#axis-order-changes-in-proj-6\n",
            "  return _prepare_from_string(\" \".join(pjargs))\n"
          ],
          "name": "stderr"
        },
        {
          "output_type": "stream",
          "text": [
            "+init=epsg:3857 +type=crs\n"
          ],
          "name": "stdout"
        },
        {
          "output_type": "execute_result",
          "data": {
            "text/html": [
              "<div>\n",
              "<style scoped>\n",
              "    .dataframe tbody tr th:only-of-type {\n",
              "        vertical-align: middle;\n",
              "    }\n",
              "\n",
              "    .dataframe tbody tr th {\n",
              "        vertical-align: top;\n",
              "    }\n",
              "\n",
              "    .dataframe thead th {\n",
              "        text-align: right;\n",
              "    }\n",
              "</style>\n",
              "<table border=\"1\" class=\"dataframe\">\n",
              "  <thead>\n",
              "    <tr style=\"text-align: right;\">\n",
              "      <th></th>\n",
              "      <th>DiaJuliano</th>\n",
              "      <th>Mes</th>\n",
              "      <th>Ano</th>\n",
              "      <th>Versao</th>\n",
              "      <th>NivConf</th>\n",
              "      <th>geometry</th>\n",
              "    </tr>\n",
              "  </thead>\n",
              "  <tbody>\n",
              "    <tr>\n",
              "      <th>0</th>\n",
              "      <td>260</td>\n",
              "      <td>09</td>\n",
              "      <td>2012</td>\n",
              "      <td>Alarmes-Histórico</td>\n",
              "      <td>0.3490</td>\n",
              "      <td>POLYGON ((-6418125.242 -1778681.098, -6418681....</td>\n",
              "    </tr>\n",
              "    <tr>\n",
              "      <th>1</th>\n",
              "      <td>258</td>\n",
              "      <td>09</td>\n",
              "      <td>2012</td>\n",
              "      <td>Alarmes-Histórico</td>\n",
              "      <td>0.3961</td>\n",
              "      <td>POLYGON ((-6418125.242 -1779259.486, -6418681....</td>\n",
              "    </tr>\n",
              "  </tbody>\n",
              "</table>\n",
              "</div>"
            ],
            "text/plain": [
              "   DiaJuliano Mes  ...  NivConf                                           geometry\n",
              "0         260  09  ...   0.3490  POLYGON ((-6418125.242 -1778681.098, -6418681....\n",
              "1         258  09  ...   0.3961  POLYGON ((-6418125.242 -1779259.486, -6418681....\n",
              "\n",
              "[2 rows x 6 columns]"
            ]
          },
          "metadata": {
            "tags": []
          },
          "execution_count": 37
        }
      ]
    },
    {
      "cell_type": "code",
      "metadata": {
        "colab": {
          "base_uri": "https://localhost:8080/",
          "height": 419
        },
        "id": "ssesyVG2YcaM",
        "outputId": "b4465ff1-bde5-4cf8-f7cf-2525150b86a4"
      },
      "source": [
        "tost[\"area\"] = tost['geometry'].area/ 10**6\n",
        "tost"
      ],
      "execution_count": 38,
      "outputs": [
        {
          "output_type": "execute_result",
          "data": {
            "text/html": [
              "<div>\n",
              "<style scoped>\n",
              "    .dataframe tbody tr th:only-of-type {\n",
              "        vertical-align: middle;\n",
              "    }\n",
              "\n",
              "    .dataframe tbody tr th {\n",
              "        vertical-align: top;\n",
              "    }\n",
              "\n",
              "    .dataframe thead th {\n",
              "        text-align: right;\n",
              "    }\n",
              "</style>\n",
              "<table border=\"1\" class=\"dataframe\">\n",
              "  <thead>\n",
              "    <tr style=\"text-align: right;\">\n",
              "      <th></th>\n",
              "      <th>DiaJuliano</th>\n",
              "      <th>Mes</th>\n",
              "      <th>Ano</th>\n",
              "      <th>Versao</th>\n",
              "      <th>NivConf</th>\n",
              "      <th>geometry</th>\n",
              "      <th>area</th>\n",
              "    </tr>\n",
              "  </thead>\n",
              "  <tbody>\n",
              "    <tr>\n",
              "      <th>0</th>\n",
              "      <td>260</td>\n",
              "      <td>09</td>\n",
              "      <td>2012</td>\n",
              "      <td>Alarmes-Histórico</td>\n",
              "      <td>0.3490</td>\n",
              "      <td>POLYGON ((-6418125.242 -1778681.098, -6418681....</td>\n",
              "      <td>0.321922</td>\n",
              "    </tr>\n",
              "    <tr>\n",
              "      <th>1</th>\n",
              "      <td>258</td>\n",
              "      <td>09</td>\n",
              "      <td>2012</td>\n",
              "      <td>Alarmes-Histórico</td>\n",
              "      <td>0.3961</td>\n",
              "      <td>POLYGON ((-6418125.242 -1779259.486, -6418681....</td>\n",
              "      <td>0.321929</td>\n",
              "    </tr>\n",
              "    <tr>\n",
              "      <th>2</th>\n",
              "      <td>298</td>\n",
              "      <td>10</td>\n",
              "      <td>2012</td>\n",
              "      <td>Alarmes-Histórico</td>\n",
              "      <td>0.3176</td>\n",
              "      <td>POLYGON ((-6409776.280 -1785044.155, -6410332....</td>\n",
              "      <td>0.322009</td>\n",
              "    </tr>\n",
              "    <tr>\n",
              "      <th>3</th>\n",
              "      <td>253</td>\n",
              "      <td>09</td>\n",
              "      <td>2012</td>\n",
              "      <td>Alarmes-Histórico</td>\n",
              "      <td>0.3961</td>\n",
              "      <td>POLYGON ((-6427587.398 -1787358.423, -6428143....</td>\n",
              "      <td>0.322041</td>\n",
              "    </tr>\n",
              "    <tr>\n",
              "      <th>4</th>\n",
              "      <td>235</td>\n",
              "      <td>08</td>\n",
              "      <td>2012</td>\n",
              "      <td>Alarmes-Histórico</td>\n",
              "      <td>0.3451</td>\n",
              "      <td>POLYGON ((-6439832.542 -1788515.643, -6440389....</td>\n",
              "      <td>0.322057</td>\n",
              "    </tr>\n",
              "    <tr>\n",
              "      <th>...</th>\n",
              "      <td>...</td>\n",
              "      <td>...</td>\n",
              "      <td>...</td>\n",
              "      <td>...</td>\n",
              "      <td>...</td>\n",
              "      <td>...</td>\n",
              "      <td>...</td>\n",
              "    </tr>\n",
              "    <tr>\n",
              "      <th>98955</th>\n",
              "      <td>217</td>\n",
              "      <td>08</td>\n",
              "      <td>2020</td>\n",
              "      <td>Alarmes-Histórico</td>\n",
              "      <td>0.3804</td>\n",
              "      <td>POLYGON ((-6454304.076 -2521733.563, -6454860....</td>\n",
              "      <td>0.334326</td>\n",
              "    </tr>\n",
              "    <tr>\n",
              "      <th>98956</th>\n",
              "      <td>217</td>\n",
              "      <td>08</td>\n",
              "      <td>2020</td>\n",
              "      <td>Alarmes-Histórico</td>\n",
              "      <td>0.8902</td>\n",
              "      <td>POLYGON ((-6455417.271 -2522334.244, -6455973....</td>\n",
              "      <td>0.334338</td>\n",
              "    </tr>\n",
              "    <tr>\n",
              "      <th>98957</th>\n",
              "      <td>217</td>\n",
              "      <td>08</td>\n",
              "      <td>2020</td>\n",
              "      <td>Alarmes-Histórico</td>\n",
              "      <td>0.9490</td>\n",
              "      <td>POLYGON ((-6454860.674 -2522334.244, -6455417....</td>\n",
              "      <td>0.334338</td>\n",
              "    </tr>\n",
              "    <tr>\n",
              "      <th>98958</th>\n",
              "      <td>217</td>\n",
              "      <td>08</td>\n",
              "      <td>2020</td>\n",
              "      <td>Alarmes-Histórico</td>\n",
              "      <td>0.6784</td>\n",
              "      <td>POLYGON ((-6454304.076 -2522334.244, -6454860....</td>\n",
              "      <td>0.334338</td>\n",
              "    </tr>\n",
              "    <tr>\n",
              "      <th>98959</th>\n",
              "      <td>74</td>\n",
              "      <td>03</td>\n",
              "      <td>2020</td>\n",
              "      <td>Alarmes-Histórico</td>\n",
              "      <td>0.5843</td>\n",
              "      <td>POLYGON ((-6455973.869 -2522334.244, -6455417....</td>\n",
              "      <td>0.334349</td>\n",
              "    </tr>\n",
              "  </tbody>\n",
              "</table>\n",
              "<p>340032 rows × 7 columns</p>\n",
              "</div>"
            ],
            "text/plain": [
              "       DiaJuliano  ...      area\n",
              "0             260  ...  0.321922\n",
              "1             258  ...  0.321929\n",
              "2             298  ...  0.322009\n",
              "3             253  ...  0.322041\n",
              "4             235  ...  0.322057\n",
              "...           ...  ...       ...\n",
              "98955         217  ...  0.334326\n",
              "98956         217  ...  0.334338\n",
              "98957         217  ...  0.334338\n",
              "98958         217  ...  0.334338\n",
              "98959          74  ...  0.334349\n",
              "\n",
              "[340032 rows x 7 columns]"
            ]
          },
          "metadata": {
            "tags": []
          },
          "execution_count": 38
        }
      ]
    },
    {
      "cell_type": "code",
      "metadata": {
        "colab": {
          "base_uri": "https://localhost:8080/",
          "height": 306
        },
        "id": "jBvNTaOuqhA5",
        "outputId": "61d09be8-d8d6-4516-8ffd-cfc6c935dbfa"
      },
      "source": [
        "tost.plot()"
      ],
      "execution_count": 39,
      "outputs": [
        {
          "output_type": "execute_result",
          "data": {
            "text/plain": [
              "<matplotlib.axes._subplots.AxesSubplot at 0x7f2536b33890>"
            ]
          },
          "metadata": {
            "tags": []
          },
          "execution_count": 39
        },
        {
          "output_type": "display_data",
          "data": {
            "image/png": "[encoded data removed]",
            "text/plain": [
              "<Figure size 432x288 with 1 Axes>"
            ]
          },
          "metadata": {
            "tags": [],
            "needs_background": "light"
          }
        }
      ]
    },
    {
      "cell_type": "code",
      "metadata": {
        "id": "hokCQfH9reeL"
      },
      "source": [
        "world = tost"
      ],
      "execution_count": 42,
      "outputs": []
    },
    {
      "cell_type": "code",
      "metadata": {
        "colab": {
          "base_uri": "https://localhost:8080/",
          "height": 35
        },
        "id": "-v6NUlQRruW4",
        "outputId": "a71b5032-c8c2-487c-ccc2-1ef433e9d74f"
      },
      "source": [
        "world.geometry.name"
      ],
      "execution_count": 43,
      "outputs": [
        {
          "output_type": "execute_result",
          "data": {
            "application/vnd.google.colaboratory.intrinsic+json": {
              "type": "string"
            },
            "text/plain": [
              "'geometry'"
            ]
          },
          "metadata": {
            "tags": []
          },
          "execution_count": 43
        }
      ]
    },
    {
      "cell_type": "code",
      "metadata": {
        "id": "hZA8H6YKrx-Z"
      },
      "source": [
        "world = world.rename(columns={'geometry': 'borders'}).set_geometry('borders')"
      ],
      "execution_count": 44,
      "outputs": []
    },
    {
      "cell_type": "code",
      "metadata": {
        "colab": {
          "base_uri": "https://localhost:8080/",
          "height": 35
        },
        "id": "4m8oZQbyr0lv",
        "outputId": "2bb728fd-0769-4c68-d03b-3e628a7ae6db"
      },
      "source": [
        "world.geometry.name"
      ],
      "execution_count": 45,
      "outputs": [
        {
          "output_type": "execute_result",
          "data": {
            "application/vnd.google.colaboratory.intrinsic+json": {
              "type": "string"
            },
            "text/plain": [
              "'borders'"
            ]
          },
          "metadata": {
            "tags": []
          },
          "execution_count": 45
        }
      ]
    },
    {
      "cell_type": "code",
      "metadata": {
        "id": "bMfznNt5r3in"
      },
      "source": [
        "world['centroid_column'] = world.centroid"
      ],
      "execution_count": 46,
      "outputs": []
    },
    {
      "cell_type": "code",
      "metadata": {
        "id": "UBIlTvXEr6mY"
      },
      "source": [
        "world = world.set_geometry('centroid_column')"
      ],
      "execution_count": 47,
      "outputs": []
    },
    {
      "cell_type": "code",
      "metadata": {
        "colab": {
          "base_uri": "https://localhost:8080/",
          "height": 306
        },
        "id": "gkltlf4yr89-",
        "outputId": "5a8b4996-16f9-42bc-d415-f1a093a1ab09"
      },
      "source": [
        "world.plot()"
      ],
      "execution_count": 48,
      "outputs": [
        {
          "output_type": "execute_result",
          "data": {
            "text/plain": [
              "<matplotlib.axes._subplots.AxesSubplot at 0x7f252645fad0>"
            ]
          },
          "metadata": {
            "tags": []
          },
          "execution_count": 48
        },
        {
          "output_type": "display_data",
          "data": {
            "image/png": "[encoded data removed]",
            "text/plain": [
              "<Figure size 432x288 with 1 Axes>"
            ]
          },
          "metadata": {
            "tags": [],
            "needs_background": "light"
          }
        }
      ]
    },
    {
      "cell_type": "code",
      "metadata": {
        "colab": {
          "base_uri": "https://localhost:8080/"
        },
        "id": "FyQ0W0VssKnP",
        "outputId": "9a8b5b8d-fad0-4dff-cc4a-2ba8b9435766"
      },
      "source": [
        "world['centroid_column'].head()"
      ],
      "execution_count": 49,
      "outputs": [
        {
          "output_type": "execute_result",
          "data": {
            "text/plain": [
              "0    POINT (-6418403.540 -1778391.911)\n",
              "1    POINT (-6418403.540 -1778970.292)\n",
              "2    POINT (-6410054.579 -1784754.889)\n",
              "3    POINT (-6427865.697 -1787069.129)\n",
              "4    POINT (-6440110.841 -1788226.334)\n",
              "Name: centroid_column, dtype: geometry"
            ]
          },
          "metadata": {
            "tags": []
          },
          "execution_count": 49
        }
      ]
    },
    {
      "cell_type": "code",
      "metadata": {
        "id": "AtbltKzYsVJo"
      },
      "source": [
        "gpd.options.display_precision = 9"
      ],
      "execution_count": 51,
      "outputs": []
    },
    {
      "cell_type": "code",
      "metadata": {
        "colab": {
          "base_uri": "https://localhost:8080/"
        },
        "id": "_vujQw-kse2Q",
        "outputId": "feaf8cf3-789d-47d5-9342-50d4c5d7de17"
      },
      "source": [
        "world['centroid_column'].head()"
      ],
      "execution_count": 52,
      "outputs": [
        {
          "output_type": "execute_result",
          "data": {
            "text/plain": [
              "0    POINT (-6418403.540449318 -1778391.910910133)\n",
              "1    POINT (-6418403.540449318 -1778970.292094022)\n",
              "2    POINT (-6410054.578656507 -1784754.889249812)\n",
              "3    POINT (-6427865.697127813 -1787069.128582859)\n",
              "4    POINT (-6440110.841170693 -1788226.334199942)\n",
              "Name: centroid_column, dtype: geometry"
            ]
          },
          "metadata": {
            "tags": []
          },
          "execution_count": 52
        }
      ]
    }
  ]
}