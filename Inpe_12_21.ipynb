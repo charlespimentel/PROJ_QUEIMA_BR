{
  "nbformat": 4,
  "nbformat_minor": 0,
  "metadata": {
    "colab": {
      "name": "Inpe_12_21.ipynb",
      "provenance": [],
      "authorship_tag": "ABX9TyOFw3hl6FgfrW8ocydP8QCC",
      "include_colab_link": true
    },
    "kernelspec": {
      "name": "python3",
      "display_name": "Python 3"
    },
    "language_info": {
      "name": "python"
    }
  },
  "cells": [
    {
      "cell_type": "markdown",
      "metadata": {
        "id": "view-in-github",
        "colab_type": "text"
      },
      "source": [
        "<a href=\"https://colab.research.google.com/github/charlespimentel/PROJ_QUEIMA_BR/blob/main/Inpe_12_21.ipynb\" target=\"_parent\"><img src=\"https://colab.research.google.com/assets/colab-badge.svg\" alt=\"Open In Colab\"/></a>"
      ]
    },
    {
      "cell_type": "markdown",
      "metadata": {
        "id": "2z7Qp88Ly87w"
      },
      "source": [
        "**IMPORTANDO BIBLIOTECAS**"
      ]
    },
    {
      "cell_type": "code",
      "metadata": {
        "id": "E0O8p_FNeH8d"
      },
      "source": [
        "import numpy as np\n",
        "import pandas as pd\n",
        "import csv\n",
        "import matplotlib.pyplot as plt\n",
        "import datetime"
      ],
      "execution_count": 63,
      "outputs": []
    },
    {
      "cell_type": "markdown",
      "metadata": {
        "id": "zP299keDzDxB"
      },
      "source": [
        "**DATASETS DE JANEIRO DE 2012 a MARÇO DE 2021**"
      ]
    },
    {
      "cell_type": "code",
      "metadata": {
        "id": "pWmoy7U3eQep"
      },
      "source": [
        "df2012 = pd.read_csv('https://raw.githubusercontent.com/charlespimentel/PROJ_QUEIMA_BR/main/Data_Inpe_12_21/Focos_2012-01-01_2012-12-31.csv', sep=',')\n",
        "df2013 = pd.read_csv('https://raw.githubusercontent.com/charlespimentel/PROJ_QUEIMA_BR/main/Data_Inpe_12_21/Focos_2013-01-01_2013-12-31.csv', sep=',')\n",
        "df2014 = pd.read_csv('https://raw.githubusercontent.com/charlespimentel/PROJ_QUEIMA_BR/main/Data_Inpe_12_21/Focos_2014-01-01_2014-12-31.csv', sep=',')\n",
        "df2015 = pd.read_csv('https://raw.githubusercontent.com/charlespimentel/PROJ_QUEIMA_BR/main/Data_Inpe_12_21/Focos_2015-01-01_2015-12-31.csv', sep=',')\n",
        "df2016 = pd.read_csv('https://raw.githubusercontent.com/charlespimentel/PROJ_QUEIMA_BR/main/Data_Inpe_12_21/Focos_2016-01-01_2016-12-31.csv', sep=',')\n",
        "df2017 = pd.read_csv('https://raw.githubusercontent.com/charlespimentel/PROJ_QUEIMA_BR/main/Data_Inpe_12_21/Focos_2017-01-01_2017-12-31.csv', sep=',')\n",
        "df2018 = pd.read_csv('https://raw.githubusercontent.com/charlespimentel/PROJ_QUEIMA_BR/main/Data_Inpe_12_21/Focos_2018-01-01_2018-12-31.csv', sep=',')\n",
        "df2019 = pd.read_csv('https://raw.githubusercontent.com/charlespimentel/PROJ_QUEIMA_BR/main/Data_Inpe_12_21/Focos_2019-01-01_2019-12-31.csv', sep=',')\n",
        "df2020 = pd.read_csv('https://raw.githubusercontent.com/charlespimentel/PROJ_QUEIMA_BR/main/Data_Inpe_12_21/Focos_2020-01-01_2020-12-31.csv', sep=',')\n",
        "df2021 = pd.read_csv('https://raw.githubusercontent.com/charlespimentel/PROJ_QUEIMA_BR/main/Data_Inpe_12_21/Focos_2021-01-01_2021-03-31.csv', sep=',')"
      ],
      "execution_count": null,
      "outputs": []
    },
    {
      "cell_type": "markdown",
      "metadata": {
        "id": "vYIRvjbmzN2g"
      },
      "source": [
        "**CINCO PRIMEIRAS LINHAS DE ANO ESCOLHIDO**"
      ]
    },
    {
      "cell_type": "code",
      "metadata": {
        "id": "zMlVTQiiiDiW"
      },
      "source": [
        "df2021.head(5)"
      ],
      "execution_count": null,
      "outputs": []
    },
    {
      "cell_type": "markdown",
      "metadata": {
        "id": "hBBCSvhXzTf2"
      },
      "source": [
        "**UNINDO OS 10 DATASETS**"
      ]
    },
    {
      "cell_type": "code",
      "metadata": {
        "id": "75nbklsnjeKF"
      },
      "source": [
        "#Unindo os 10 datasets\n",
        "df = pd.concat([df2012, df2013, df2014, df2015, df2016, df2017, df2018, df2019, df2020, df2021])"
      ],
      "execution_count": null,
      "outputs": []
    },
    {
      "cell_type": "markdown",
      "metadata": {
        "id": "kuGdOgIJzeUA"
      },
      "source": [
        "**n PRIMEIRAS LINHAS DO DATASET**"
      ]
    },
    {
      "cell_type": "code",
      "metadata": {
        "colab": {
          "base_uri": "https://localhost:8080/",
          "height": 402
        },
        "id": "-qOcDYOTksP0",
        "outputId": "377b610d-aa47-4b22-cf7b-a47b7b8a9cac"
      },
      "source": [
        "df.head(140000)"
      ],
      "execution_count": 53,
      "outputs": [
        {
          "output_type": "execute_result",
          "data": {
            "text/html": [
              "<div>\n",
              "<style scoped>\n",
              "    .dataframe tbody tr th:only-of-type {\n",
              "        vertical-align: middle;\n",
              "    }\n",
              "\n",
              "    .dataframe tbody tr th {\n",
              "        vertical-align: top;\n",
              "    }\n",
              "\n",
              "    .dataframe thead th {\n",
              "        text-align: right;\n",
              "    }\n",
              "</style>\n",
              "<table border=\"1\" class=\"dataframe\">\n",
              "  <thead>\n",
              "    <tr style=\"text-align: right;\">\n",
              "      <th></th>\n",
              "      <th>datahora</th>\n",
              "      <th>satelite</th>\n",
              "      <th>pais</th>\n",
              "      <th>estado</th>\n",
              "      <th>municipio</th>\n",
              "      <th>bioma</th>\n",
              "      <th>diasemchuva</th>\n",
              "      <th>precipitacao</th>\n",
              "      <th>riscofogo</th>\n",
              "      <th>latitude</th>\n",
              "      <th>longitude</th>\n",
              "      <th>frp</th>\n",
              "    </tr>\n",
              "  </thead>\n",
              "  <tbody>\n",
              "    <tr>\n",
              "      <th>0</th>\n",
              "      <td>2012/01/07 05:02:00</td>\n",
              "      <td>AQUA_M-M</td>\n",
              "      <td>Brasil</td>\n",
              "      <td>MATO GROSSO</td>\n",
              "      <td>POCONE</td>\n",
              "      <td>Pantanal</td>\n",
              "      <td>NaN</td>\n",
              "      <td>NaN</td>\n",
              "      <td>NaN</td>\n",
              "      <td>-17.1380</td>\n",
              "      <td>-57.3260</td>\n",
              "      <td>NaN</td>\n",
              "    </tr>\n",
              "    <tr>\n",
              "      <th>1</th>\n",
              "      <td>2012/01/07 05:02:00</td>\n",
              "      <td>AQUA_M-M</td>\n",
              "      <td>Brasil</td>\n",
              "      <td>MATO GROSSO</td>\n",
              "      <td>CACERES</td>\n",
              "      <td>Pantanal</td>\n",
              "      <td>NaN</td>\n",
              "      <td>NaN</td>\n",
              "      <td>NaN</td>\n",
              "      <td>-16.9140</td>\n",
              "      <td>-57.6930</td>\n",
              "      <td>NaN</td>\n",
              "    </tr>\n",
              "    <tr>\n",
              "      <th>2</th>\n",
              "      <td>2012/01/07 05:02:00</td>\n",
              "      <td>AQUA_M-M</td>\n",
              "      <td>Brasil</td>\n",
              "      <td>MATO GROSSO</td>\n",
              "      <td>POCONE</td>\n",
              "      <td>Pantanal</td>\n",
              "      <td>NaN</td>\n",
              "      <td>NaN</td>\n",
              "      <td>NaN</td>\n",
              "      <td>-17.1180</td>\n",
              "      <td>-57.3220</td>\n",
              "      <td>NaN</td>\n",
              "    </tr>\n",
              "    <tr>\n",
              "      <th>3</th>\n",
              "      <td>2012/01/07 05:02:00</td>\n",
              "      <td>AQUA_M-M</td>\n",
              "      <td>Brasil</td>\n",
              "      <td>MATO GROSSO</td>\n",
              "      <td>POCONE</td>\n",
              "      <td>Pantanal</td>\n",
              "      <td>NaN</td>\n",
              "      <td>NaN</td>\n",
              "      <td>NaN</td>\n",
              "      <td>-17.1170</td>\n",
              "      <td>-57.3270</td>\n",
              "      <td>NaN</td>\n",
              "    </tr>\n",
              "    <tr>\n",
              "      <th>4</th>\n",
              "      <td>2012/01/07 05:02:00</td>\n",
              "      <td>AQUA_M-M</td>\n",
              "      <td>Brasil</td>\n",
              "      <td>MATO GROSSO</td>\n",
              "      <td>CACERES</td>\n",
              "      <td>Pantanal</td>\n",
              "      <td>NaN</td>\n",
              "      <td>NaN</td>\n",
              "      <td>NaN</td>\n",
              "      <td>-16.9010</td>\n",
              "      <td>-57.7040</td>\n",
              "      <td>NaN</td>\n",
              "    </tr>\n",
              "    <tr>\n",
              "      <th>...</th>\n",
              "      <td>...</td>\n",
              "      <td>...</td>\n",
              "      <td>...</td>\n",
              "      <td>...</td>\n",
              "      <td>...</td>\n",
              "      <td>...</td>\n",
              "      <td>...</td>\n",
              "      <td>...</td>\n",
              "      <td>...</td>\n",
              "      <td>...</td>\n",
              "      <td>...</td>\n",
              "      <td>...</td>\n",
              "    </tr>\n",
              "    <tr>\n",
              "      <th>5166</th>\n",
              "      <td>2014/01/03 17:21:00</td>\n",
              "      <td>AQUA_M-T</td>\n",
              "      <td>Brasil</td>\n",
              "      <td>MATO GROSSO DO SUL</td>\n",
              "      <td>AQUIDAUANA</td>\n",
              "      <td>Pantanal</td>\n",
              "      <td>4.0</td>\n",
              "      <td>0.0</td>\n",
              "      <td>0.1</td>\n",
              "      <td>-19.4740</td>\n",
              "      <td>-56.3850</td>\n",
              "      <td>NaN</td>\n",
              "    </tr>\n",
              "    <tr>\n",
              "      <th>5167</th>\n",
              "      <td>2014/01/03 17:21:00</td>\n",
              "      <td>AQUA_M-T</td>\n",
              "      <td>Brasil</td>\n",
              "      <td>MATO GROSSO DO SUL</td>\n",
              "      <td>CORUMBA</td>\n",
              "      <td>Pantanal</td>\n",
              "      <td>2.0</td>\n",
              "      <td>0.1</td>\n",
              "      <td>0.0</td>\n",
              "      <td>-20.1970</td>\n",
              "      <td>-57.3860</td>\n",
              "      <td>NaN</td>\n",
              "    </tr>\n",
              "    <tr>\n",
              "      <th>5168</th>\n",
              "      <td>2014/01/03 17:21:00</td>\n",
              "      <td>AQUA_M-T</td>\n",
              "      <td>Brasil</td>\n",
              "      <td>MATO GROSSO DO SUL</td>\n",
              "      <td>CORUMBA</td>\n",
              "      <td>Pantanal</td>\n",
              "      <td>2.0</td>\n",
              "      <td>0.0</td>\n",
              "      <td>0.8</td>\n",
              "      <td>-18.2740</td>\n",
              "      <td>-55.3710</td>\n",
              "      <td>NaN</td>\n",
              "    </tr>\n",
              "    <tr>\n",
              "      <th>5169</th>\n",
              "      <td>2014/01/08 17:47:00</td>\n",
              "      <td>NPP-375</td>\n",
              "      <td>Brasil</td>\n",
              "      <td>MATO GROSSO</td>\n",
              "      <td>CACERES</td>\n",
              "      <td>Pantanal</td>\n",
              "      <td>0.0</td>\n",
              "      <td>0.3</td>\n",
              "      <td>0.1</td>\n",
              "      <td>-16.2745</td>\n",
              "      <td>-58.2828</td>\n",
              "      <td>NaN</td>\n",
              "    </tr>\n",
              "    <tr>\n",
              "      <th>5170</th>\n",
              "      <td>2014/01/02 13:52:00</td>\n",
              "      <td>TERRA_M-T</td>\n",
              "      <td>Brasil</td>\n",
              "      <td>MATO GROSSO DO SUL</td>\n",
              "      <td>CORUMBA</td>\n",
              "      <td>Pantanal</td>\n",
              "      <td>0.0</td>\n",
              "      <td>0.0</td>\n",
              "      <td>0.0</td>\n",
              "      <td>-20.2020</td>\n",
              "      <td>-57.3810</td>\n",
              "      <td>NaN</td>\n",
              "    </tr>\n",
              "  </tbody>\n",
              "</table>\n",
              "<p>140000 rows × 12 columns</p>\n",
              "</div>"
            ],
            "text/plain": [
              "                 datahora   satelite    pais  ... latitude longitude frp\n",
              "0     2012/01/07 05:02:00   AQUA_M-M  Brasil  ... -17.1380  -57.3260 NaN\n",
              "1     2012/01/07 05:02:00   AQUA_M-M  Brasil  ... -16.9140  -57.6930 NaN\n",
              "2     2012/01/07 05:02:00   AQUA_M-M  Brasil  ... -17.1180  -57.3220 NaN\n",
              "3     2012/01/07 05:02:00   AQUA_M-M  Brasil  ... -17.1170  -57.3270 NaN\n",
              "4     2012/01/07 05:02:00   AQUA_M-M  Brasil  ... -16.9010  -57.7040 NaN\n",
              "...                   ...        ...     ...  ...      ...       ...  ..\n",
              "5166  2014/01/03 17:21:00   AQUA_M-T  Brasil  ... -19.4740  -56.3850 NaN\n",
              "5167  2014/01/03 17:21:00   AQUA_M-T  Brasil  ... -20.1970  -57.3860 NaN\n",
              "5168  2014/01/03 17:21:00   AQUA_M-T  Brasil  ... -18.2740  -55.3710 NaN\n",
              "5169  2014/01/08 17:47:00    NPP-375  Brasil  ... -16.2745  -58.2828 NaN\n",
              "5170  2014/01/02 13:52:00  TERRA_M-T  Brasil  ... -20.2020  -57.3810 NaN\n",
              "\n",
              "[140000 rows x 12 columns]"
            ]
          },
          "metadata": {
            "tags": []
          },
          "execution_count": 53
        }
      ]
    },
    {
      "cell_type": "code",
      "metadata": {
        "colab": {
          "base_uri": "https://localhost:8080/",
          "height": 402
        },
        "id": "upDX8dd_k0Lv",
        "outputId": "adaaf997-bd8f-4ecc-cca4-f27c20184026"
      },
      "source": [
        "df.tail(700000)"
      ],
      "execution_count": 61,
      "outputs": [
        {
          "output_type": "execute_result",
          "data": {
            "text/html": [
              "<div>\n",
              "<style scoped>\n",
              "    .dataframe tbody tr th:only-of-type {\n",
              "        vertical-align: middle;\n",
              "    }\n",
              "\n",
              "    .dataframe tbody tr th {\n",
              "        vertical-align: top;\n",
              "    }\n",
              "\n",
              "    .dataframe thead th {\n",
              "        text-align: right;\n",
              "    }\n",
              "</style>\n",
              "<table border=\"1\" class=\"dataframe\">\n",
              "  <thead>\n",
              "    <tr style=\"text-align: right;\">\n",
              "      <th></th>\n",
              "      <th>datahora</th>\n",
              "      <th>satelite</th>\n",
              "      <th>pais</th>\n",
              "      <th>estado</th>\n",
              "      <th>municipio</th>\n",
              "      <th>bioma</th>\n",
              "      <th>diasemchuva</th>\n",
              "      <th>precipitacao</th>\n",
              "      <th>riscofogo</th>\n",
              "      <th>latitude</th>\n",
              "      <th>longitude</th>\n",
              "      <th>frp</th>\n",
              "    </tr>\n",
              "  </thead>\n",
              "  <tbody>\n",
              "    <tr>\n",
              "      <th>46885</th>\n",
              "      <td>2020/08/19 09:27:59</td>\n",
              "      <td>NOAA-19D</td>\n",
              "      <td>Brasil</td>\n",
              "      <td>MATO GROSSO</td>\n",
              "      <td>POCONE</td>\n",
              "      <td>Pantanal</td>\n",
              "      <td>11.0</td>\n",
              "      <td>0.0</td>\n",
              "      <td>1.0</td>\n",
              "      <td>-16.6334</td>\n",
              "      <td>-56.5624</td>\n",
              "      <td>NaN</td>\n",
              "    </tr>\n",
              "    <tr>\n",
              "      <th>46886</th>\n",
              "      <td>2020/08/19 09:28:04</td>\n",
              "      <td>NOAA-19D</td>\n",
              "      <td>Brasil</td>\n",
              "      <td>MATO GROSSO</td>\n",
              "      <td>BARAO DE MELGACO</td>\n",
              "      <td>Pantanal</td>\n",
              "      <td>6.0</td>\n",
              "      <td>0.0</td>\n",
              "      <td>1.0</td>\n",
              "      <td>-17.0070</td>\n",
              "      <td>-56.2862</td>\n",
              "      <td>NaN</td>\n",
              "    </tr>\n",
              "    <tr>\n",
              "      <th>46887</th>\n",
              "      <td>2020/08/19 09:28:08</td>\n",
              "      <td>NOAA-19D</td>\n",
              "      <td>Brasil</td>\n",
              "      <td>MATO GROSSO</td>\n",
              "      <td>POCONE</td>\n",
              "      <td>Pantanal</td>\n",
              "      <td>3.0</td>\n",
              "      <td>0.0</td>\n",
              "      <td>1.0</td>\n",
              "      <td>-17.0672</td>\n",
              "      <td>-57.0852</td>\n",
              "      <td>NaN</td>\n",
              "    </tr>\n",
              "    <tr>\n",
              "      <th>46888</th>\n",
              "      <td>2020/08/19 09:28:00</td>\n",
              "      <td>NOAA-19D</td>\n",
              "      <td>Brasil</td>\n",
              "      <td>MATO GROSSO</td>\n",
              "      <td>POCONE</td>\n",
              "      <td>Pantanal</td>\n",
              "      <td>8.0</td>\n",
              "      <td>0.0</td>\n",
              "      <td>1.0</td>\n",
              "      <td>-16.6569</td>\n",
              "      <td>-56.7147</td>\n",
              "      <td>NaN</td>\n",
              "    </tr>\n",
              "    <tr>\n",
              "      <th>46889</th>\n",
              "      <td>2020/08/19 09:28:00</td>\n",
              "      <td>NOAA-19D</td>\n",
              "      <td>Brasil</td>\n",
              "      <td>MATO GROSSO</td>\n",
              "      <td>POCONE</td>\n",
              "      <td>Pantanal</td>\n",
              "      <td>12.0</td>\n",
              "      <td>0.0</td>\n",
              "      <td>1.0</td>\n",
              "      <td>-16.6650</td>\n",
              "      <td>-56.7261</td>\n",
              "      <td>NaN</td>\n",
              "    </tr>\n",
              "    <tr>\n",
              "      <th>...</th>\n",
              "      <td>...</td>\n",
              "      <td>...</td>\n",
              "      <td>...</td>\n",
              "      <td>...</td>\n",
              "      <td>...</td>\n",
              "      <td>...</td>\n",
              "      <td>...</td>\n",
              "      <td>...</td>\n",
              "      <td>...</td>\n",
              "      <td>...</td>\n",
              "      <td>...</td>\n",
              "      <td>...</td>\n",
              "    </tr>\n",
              "    <tr>\n",
              "      <th>3903</th>\n",
              "      <td>2021/03/31 03:10:00</td>\n",
              "      <td>TERRA_M-M</td>\n",
              "      <td>Brasil</td>\n",
              "      <td>MATO GROSSO DO SUL</td>\n",
              "      <td>PORTO MURTINHO</td>\n",
              "      <td>Pantanal</td>\n",
              "      <td>3.0</td>\n",
              "      <td>0.0</td>\n",
              "      <td>0.2</td>\n",
              "      <td>-21.2760</td>\n",
              "      <td>-57.8400</td>\n",
              "      <td>55.0</td>\n",
              "    </tr>\n",
              "    <tr>\n",
              "      <th>3904</th>\n",
              "      <td>2021/03/31 03:10:00</td>\n",
              "      <td>TERRA_M-M</td>\n",
              "      <td>Brasil</td>\n",
              "      <td>MATO GROSSO DO SUL</td>\n",
              "      <td>PORTO MURTINHO</td>\n",
              "      <td>Pantanal</td>\n",
              "      <td>3.0</td>\n",
              "      <td>0.0</td>\n",
              "      <td>0.2</td>\n",
              "      <td>-21.2640</td>\n",
              "      <td>-57.8360</td>\n",
              "      <td>68.3</td>\n",
              "    </tr>\n",
              "    <tr>\n",
              "      <th>3905</th>\n",
              "      <td>2021/03/31 04:42:00</td>\n",
              "      <td>NOAA-20</td>\n",
              "      <td>Brasil</td>\n",
              "      <td>MATO GROSSO DO SUL</td>\n",
              "      <td>PORTO MURTINHO</td>\n",
              "      <td>Pantanal</td>\n",
              "      <td>3.0</td>\n",
              "      <td>0.0</td>\n",
              "      <td>0.2</td>\n",
              "      <td>-21.2743</td>\n",
              "      <td>-57.8375</td>\n",
              "      <td>3.2</td>\n",
              "    </tr>\n",
              "    <tr>\n",
              "      <th>3906</th>\n",
              "      <td>2021/03/31 04:42:00</td>\n",
              "      <td>NOAA-20</td>\n",
              "      <td>Brasil</td>\n",
              "      <td>MATO GROSSO DO SUL</td>\n",
              "      <td>RIO VERDE DE MATO GROSSO</td>\n",
              "      <td>Pantanal</td>\n",
              "      <td>7.0</td>\n",
              "      <td>0.0</td>\n",
              "      <td>0.4</td>\n",
              "      <td>-18.6196</td>\n",
              "      <td>-55.2020</td>\n",
              "      <td>8.9</td>\n",
              "    </tr>\n",
              "    <tr>\n",
              "      <th>3907</th>\n",
              "      <td>2021/03/31 04:42:00</td>\n",
              "      <td>NOAA-20</td>\n",
              "      <td>Brasil</td>\n",
              "      <td>MATO GROSSO DO SUL</td>\n",
              "      <td>RIO VERDE DE MATO GROSSO</td>\n",
              "      <td>Pantanal</td>\n",
              "      <td>7.0</td>\n",
              "      <td>0.0</td>\n",
              "      <td>0.1</td>\n",
              "      <td>-18.6295</td>\n",
              "      <td>-55.2082</td>\n",
              "      <td>2.3</td>\n",
              "    </tr>\n",
              "  </tbody>\n",
              "</table>\n",
              "<p>700000 rows × 12 columns</p>\n",
              "</div>"
            ],
            "text/plain": [
              "                  datahora   satelite    pais  ... latitude longitude   frp\n",
              "46885  2020/08/19 09:27:59   NOAA-19D  Brasil  ... -16.6334  -56.5624   NaN\n",
              "46886  2020/08/19 09:28:04   NOAA-19D  Brasil  ... -17.0070  -56.2862   NaN\n",
              "46887  2020/08/19 09:28:08   NOAA-19D  Brasil  ... -17.0672  -57.0852   NaN\n",
              "46888  2020/08/19 09:28:00   NOAA-19D  Brasil  ... -16.6569  -56.7147   NaN\n",
              "46889  2020/08/19 09:28:00   NOAA-19D  Brasil  ... -16.6650  -56.7261   NaN\n",
              "...                    ...        ...     ...  ...      ...       ...   ...\n",
              "3903   2021/03/31 03:10:00  TERRA_M-M  Brasil  ... -21.2760  -57.8400  55.0\n",
              "3904   2021/03/31 03:10:00  TERRA_M-M  Brasil  ... -21.2640  -57.8360  68.3\n",
              "3905   2021/03/31 04:42:00    NOAA-20  Brasil  ... -21.2743  -57.8375   3.2\n",
              "3906   2021/03/31 04:42:00    NOAA-20  Brasil  ... -18.6196  -55.2020   8.9\n",
              "3907   2021/03/31 04:42:00    NOAA-20  Brasil  ... -18.6295  -55.2082   2.3\n",
              "\n",
              "[700000 rows x 12 columns]"
            ]
          },
          "metadata": {
            "tags": []
          },
          "execution_count": 61
        }
      ]
    },
    {
      "cell_type": "markdown",
      "metadata": {
        "id": "IulaqivpywME"
      },
      "source": [
        "**TAMANHO DO DATASET**"
      ]
    },
    {
      "cell_type": "code",
      "metadata": {
        "colab": {
          "base_uri": "https://localhost:8080/"
        },
        "id": "eIGipaXslmhp",
        "outputId": "89bbe97d-95e3-4a43-f9d2-cdad730a8cfa"
      },
      "source": [
        "print(f'Tamanho do Dataframe: {df.shape[0]} linhas e {df.shape[1]} colunas') # Descreve o tamanho do dataframe em uma tupla"
      ],
      "execution_count": 55,
      "outputs": [
        {
          "output_type": "stream",
          "text": [
            "Tamanho do Dataframe: 1331375 linhas e 12 colunas\n"
          ],
          "name": "stdout"
        }
      ]
    },
    {
      "cell_type": "markdown",
      "metadata": {
        "id": "D0nORowWy3qk"
      },
      "source": [
        "**INFORMAÇÕES GERAIS DO DATASET**"
      ]
    },
    {
      "cell_type": "code",
      "metadata": {
        "colab": {
          "base_uri": "https://localhost:8080/",
          "height": 284
        },
        "id": "SCbfTXUxlZnz",
        "outputId": "4561d7ce-3d44-41a9-8f73-4353bb6c9b5a"
      },
      "source": [
        "df.describe().round(2) # Resume e descreve algumas operações gerais do Dataset. Round(2) arredonda para 2 casas decimais."
      ],
      "execution_count": 56,
      "outputs": [
        {
          "output_type": "execute_result",
          "data": {
            "text/html": [
              "<div>\n",
              "<style scoped>\n",
              "    .dataframe tbody tr th:only-of-type {\n",
              "        vertical-align: middle;\n",
              "    }\n",
              "\n",
              "    .dataframe tbody tr th {\n",
              "        vertical-align: top;\n",
              "    }\n",
              "\n",
              "    .dataframe thead th {\n",
              "        text-align: right;\n",
              "    }\n",
              "</style>\n",
              "<table border=\"1\" class=\"dataframe\">\n",
              "  <thead>\n",
              "    <tr style=\"text-align: right;\">\n",
              "      <th></th>\n",
              "      <th>diasemchuva</th>\n",
              "      <th>precipitacao</th>\n",
              "      <th>riscofogo</th>\n",
              "      <th>latitude</th>\n",
              "      <th>longitude</th>\n",
              "      <th>frp</th>\n",
              "    </tr>\n",
              "  </thead>\n",
              "  <tbody>\n",
              "    <tr>\n",
              "      <th>count</th>\n",
              "      <td>1183732.00</td>\n",
              "      <td>1183732.00</td>\n",
              "      <td>1183732.00</td>\n",
              "      <td>1331375.00</td>\n",
              "      <td>1331375.00</td>\n",
              "      <td>377209.00</td>\n",
              "    </tr>\n",
              "    <tr>\n",
              "      <th>mean</th>\n",
              "      <td>14.46</td>\n",
              "      <td>0.77</td>\n",
              "      <td>-21.07</td>\n",
              "      <td>-18.03</td>\n",
              "      <td>-56.98</td>\n",
              "      <td>26.49</td>\n",
              "    </tr>\n",
              "    <tr>\n",
              "      <th>std</th>\n",
              "      <td>18.47</td>\n",
              "      <td>3.71</td>\n",
              "      <td>146.19</td>\n",
              "      <td>1.33</td>\n",
              "      <td>0.76</td>\n",
              "      <td>71.06</td>\n",
              "    </tr>\n",
              "    <tr>\n",
              "      <th>min</th>\n",
              "      <td>0.00</td>\n",
              "      <td>0.00</td>\n",
              "      <td>-999.00</td>\n",
              "      <td>-22.14</td>\n",
              "      <td>-59.18</td>\n",
              "      <td>0.00</td>\n",
              "    </tr>\n",
              "    <tr>\n",
              "      <th>25%</th>\n",
              "      <td>3.00</td>\n",
              "      <td>0.00</td>\n",
              "      <td>0.60</td>\n",
              "      <td>-19.12</td>\n",
              "      <td>-57.52</td>\n",
              "      <td>4.30</td>\n",
              "    </tr>\n",
              "    <tr>\n",
              "      <th>50%</th>\n",
              "      <td>8.00</td>\n",
              "      <td>0.00</td>\n",
              "      <td>1.00</td>\n",
              "      <td>-17.63</td>\n",
              "      <td>-57.18</td>\n",
              "      <td>9.70</td>\n",
              "    </tr>\n",
              "    <tr>\n",
              "      <th>75%</th>\n",
              "      <td>19.00</td>\n",
              "      <td>0.00</td>\n",
              "      <td>1.00</td>\n",
              "      <td>-16.96</td>\n",
              "      <td>-56.38</td>\n",
              "      <td>23.70</td>\n",
              "    </tr>\n",
              "    <tr>\n",
              "      <th>max</th>\n",
              "      <td>119.00</td>\n",
              "      <td>138.00</td>\n",
              "      <td>1.00</td>\n",
              "      <td>-15.53</td>\n",
              "      <td>-54.92</td>\n",
              "      <td>4196.50</td>\n",
              "    </tr>\n",
              "  </tbody>\n",
              "</table>\n",
              "</div>"
            ],
            "text/plain": [
              "       diasemchuva  precipitacao   riscofogo    latitude   longitude        frp\n",
              "count   1183732.00    1183732.00  1183732.00  1331375.00  1331375.00  377209.00\n",
              "mean         14.46          0.77      -21.07      -18.03      -56.98      26.49\n",
              "std          18.47          3.71      146.19        1.33        0.76      71.06\n",
              "min           0.00          0.00     -999.00      -22.14      -59.18       0.00\n",
              "25%           3.00          0.00        0.60      -19.12      -57.52       4.30\n",
              "50%           8.00          0.00        1.00      -17.63      -57.18       9.70\n",
              "75%          19.00          0.00        1.00      -16.96      -56.38      23.70\n",
              "max         119.00        138.00        1.00      -15.53      -54.92    4196.50"
            ]
          },
          "metadata": {
            "tags": []
          },
          "execution_count": 56
        }
      ]
    },
    {
      "cell_type": "markdown",
      "metadata": {
        "id": "1APoKEM-4Njd"
      },
      "source": [
        "**FAZENDO A MÉDIA DE UMA COLUNA ESCOLHIDA**"
      ]
    },
    {
      "cell_type": "code",
      "metadata": {
        "colab": {
          "base_uri": "https://localhost:8080/"
        },
        "id": "oqOXzue-uxCE",
        "outputId": "995807ec-cc71-4346-eb64-329a1fd50b43"
      },
      "source": [
        "df = pd.DataFrame(df)\n",
        "mean_df = df['riscofogo'].mean()\n",
        "print(mean_df)"
      ],
      "execution_count": 57,
      "outputs": [
        {
          "output_type": "stream",
          "text": [
            "-21.07365805776664\n"
          ],
          "name": "stdout"
        }
      ]
    },
    {
      "cell_type": "code",
      "metadata": {
        "colab": {
          "base_uri": "https://localhost:8080/"
        },
        "id": "kZNq60Y3v5sN",
        "outputId": "5ea82cd9-abbb-43d8-cbb3-2f26d962cb6b"
      },
      "source": [
        "print(df.riscofogo.count()) #Contagem de dados não-nulos de uma coluna específica"
      ],
      "execution_count": 58,
      "outputs": [
        {
          "output_type": "stream",
          "text": [
            "1183732\n"
          ],
          "name": "stdout"
        }
      ]
    },
    {
      "cell_type": "code",
      "metadata": {
        "colab": {
          "base_uri": "https://localhost:8080/"
        },
        "id": "5lStfzxEwb-s",
        "outputId": "99afee81-9514-4daf-afe1-d34f069a5136"
      },
      "source": [
        "print(df['riscofogo'].isna().sum())"
      ],
      "execution_count": 59,
      "outputs": [
        {
          "output_type": "stream",
          "text": [
            "147643\n"
          ],
          "name": "stdout"
        }
      ]
    },
    {
      "cell_type": "markdown",
      "metadata": {
        "id": "xVcGaY7M3M_B"
      },
      "source": [
        "**SEPARANDO DATA E HORA - PARTE 1 - Transformando a coluna para datetime**"
      ]
    },
    {
      "cell_type": "code",
      "metadata": {
        "id": "aaZmb77t1Vcl"
      },
      "source": [
        "df['datahora'] = pd.to_datetime(df['datahora'])"
      ],
      "execution_count": 65,
      "outputs": []
    },
    {
      "cell_type": "markdown",
      "metadata": {
        "id": "nTmT2Clm3qZs"
      },
      "source": [
        "**SEPARANDO DATA E HORA - PARTE 2**"
      ]
    },
    {
      "cell_type": "code",
      "metadata": {
        "id": "XNaGZB_02bPp"
      },
      "source": [
        "# Coluna 'Data'\n",
        "df['Data'] = df['datahora'].dt.strftime('%Y-%m-%d')\n",
        "# Coluna 'Hora'\n",
        "df['Hora'] = df['datahora'].dt.strftime('%H:%M:%S')"
      ],
      "execution_count": 66,
      "outputs": []
    },
    {
      "cell_type": "code",
      "metadata": {
        "colab": {
          "base_uri": "https://localhost:8080/",
          "height": 195
        },
        "id": "xA1FwC6_2x4f",
        "outputId": "a028c886-b7bc-4228-d9d4-fb06d937d6e8"
      },
      "source": [
        "df.head(5)"
      ],
      "execution_count": 67,
      "outputs": [
        {
          "output_type": "execute_result",
          "data": {
            "text/html": [
              "<div>\n",
              "<style scoped>\n",
              "    .dataframe tbody tr th:only-of-type {\n",
              "        vertical-align: middle;\n",
              "    }\n",
              "\n",
              "    .dataframe tbody tr th {\n",
              "        vertical-align: top;\n",
              "    }\n",
              "\n",
              "    .dataframe thead th {\n",
              "        text-align: right;\n",
              "    }\n",
              "</style>\n",
              "<table border=\"1\" class=\"dataframe\">\n",
              "  <thead>\n",
              "    <tr style=\"text-align: right;\">\n",
              "      <th></th>\n",
              "      <th>datahora</th>\n",
              "      <th>satelite</th>\n",
              "      <th>pais</th>\n",
              "      <th>estado</th>\n",
              "      <th>municipio</th>\n",
              "      <th>bioma</th>\n",
              "      <th>diasemchuva</th>\n",
              "      <th>precipitacao</th>\n",
              "      <th>riscofogo</th>\n",
              "      <th>latitude</th>\n",
              "      <th>longitude</th>\n",
              "      <th>frp</th>\n",
              "      <th>Data</th>\n",
              "      <th>Hora</th>\n",
              "    </tr>\n",
              "  </thead>\n",
              "  <tbody>\n",
              "    <tr>\n",
              "      <th>0</th>\n",
              "      <td>2012-01-07 05:02:00</td>\n",
              "      <td>AQUA_M-M</td>\n",
              "      <td>Brasil</td>\n",
              "      <td>MATO GROSSO</td>\n",
              "      <td>POCONE</td>\n",
              "      <td>Pantanal</td>\n",
              "      <td>NaN</td>\n",
              "      <td>NaN</td>\n",
              "      <td>NaN</td>\n",
              "      <td>-17.138</td>\n",
              "      <td>-57.326</td>\n",
              "      <td>NaN</td>\n",
              "      <td>2012-01-07</td>\n",
              "      <td>05:02:00</td>\n",
              "    </tr>\n",
              "    <tr>\n",
              "      <th>1</th>\n",
              "      <td>2012-01-07 05:02:00</td>\n",
              "      <td>AQUA_M-M</td>\n",
              "      <td>Brasil</td>\n",
              "      <td>MATO GROSSO</td>\n",
              "      <td>CACERES</td>\n",
              "      <td>Pantanal</td>\n",
              "      <td>NaN</td>\n",
              "      <td>NaN</td>\n",
              "      <td>NaN</td>\n",
              "      <td>-16.914</td>\n",
              "      <td>-57.693</td>\n",
              "      <td>NaN</td>\n",
              "      <td>2012-01-07</td>\n",
              "      <td>05:02:00</td>\n",
              "    </tr>\n",
              "    <tr>\n",
              "      <th>2</th>\n",
              "      <td>2012-01-07 05:02:00</td>\n",
              "      <td>AQUA_M-M</td>\n",
              "      <td>Brasil</td>\n",
              "      <td>MATO GROSSO</td>\n",
              "      <td>POCONE</td>\n",
              "      <td>Pantanal</td>\n",
              "      <td>NaN</td>\n",
              "      <td>NaN</td>\n",
              "      <td>NaN</td>\n",
              "      <td>-17.118</td>\n",
              "      <td>-57.322</td>\n",
              "      <td>NaN</td>\n",
              "      <td>2012-01-07</td>\n",
              "      <td>05:02:00</td>\n",
              "    </tr>\n",
              "    <tr>\n",
              "      <th>3</th>\n",
              "      <td>2012-01-07 05:02:00</td>\n",
              "      <td>AQUA_M-M</td>\n",
              "      <td>Brasil</td>\n",
              "      <td>MATO GROSSO</td>\n",
              "      <td>POCONE</td>\n",
              "      <td>Pantanal</td>\n",
              "      <td>NaN</td>\n",
              "      <td>NaN</td>\n",
              "      <td>NaN</td>\n",
              "      <td>-17.117</td>\n",
              "      <td>-57.327</td>\n",
              "      <td>NaN</td>\n",
              "      <td>2012-01-07</td>\n",
              "      <td>05:02:00</td>\n",
              "    </tr>\n",
              "    <tr>\n",
              "      <th>4</th>\n",
              "      <td>2012-01-07 05:02:00</td>\n",
              "      <td>AQUA_M-M</td>\n",
              "      <td>Brasil</td>\n",
              "      <td>MATO GROSSO</td>\n",
              "      <td>CACERES</td>\n",
              "      <td>Pantanal</td>\n",
              "      <td>NaN</td>\n",
              "      <td>NaN</td>\n",
              "      <td>NaN</td>\n",
              "      <td>-16.901</td>\n",
              "      <td>-57.704</td>\n",
              "      <td>NaN</td>\n",
              "      <td>2012-01-07</td>\n",
              "      <td>05:02:00</td>\n",
              "    </tr>\n",
              "  </tbody>\n",
              "</table>\n",
              "</div>"
            ],
            "text/plain": [
              "             datahora  satelite    pais  ... frp        Data      Hora\n",
              "0 2012-01-07 05:02:00  AQUA_M-M  Brasil  ... NaN  2012-01-07  05:02:00\n",
              "1 2012-01-07 05:02:00  AQUA_M-M  Brasil  ... NaN  2012-01-07  05:02:00\n",
              "2 2012-01-07 05:02:00  AQUA_M-M  Brasil  ... NaN  2012-01-07  05:02:00\n",
              "3 2012-01-07 05:02:00  AQUA_M-M  Brasil  ... NaN  2012-01-07  05:02:00\n",
              "4 2012-01-07 05:02:00  AQUA_M-M  Brasil  ... NaN  2012-01-07  05:02:00\n",
              "\n",
              "[5 rows x 14 columns]"
            ]
          },
          "metadata": {
            "tags": []
          },
          "execution_count": 67
        }
      ]
    },
    {
      "cell_type": "markdown",
      "metadata": {
        "id": "NLvWPRvb3urw"
      },
      "source": [
        "**DELETANDO A COLUNA datahora**\n"
      ]
    },
    {
      "cell_type": "code",
      "metadata": {
        "id": "JjmbRJvX3uM8"
      },
      "source": [
        "# Remove a coluna 'Data e Hora'\n",
        "del df['datahora']"
      ],
      "execution_count": 68,
      "outputs": []
    },
    {
      "cell_type": "code",
      "metadata": {
        "colab": {
          "base_uri": "https://localhost:8080/",
          "height": 195
        },
        "id": "qe-HJTbz3KxQ",
        "outputId": "82a58ef5-75f1-4d67-b7d8-707954f90f0c"
      },
      "source": [
        "df.head(5)"
      ],
      "execution_count": 69,
      "outputs": [
        {
          "output_type": "execute_result",
          "data": {
            "text/html": [
              "<div>\n",
              "<style scoped>\n",
              "    .dataframe tbody tr th:only-of-type {\n",
              "        vertical-align: middle;\n",
              "    }\n",
              "\n",
              "    .dataframe tbody tr th {\n",
              "        vertical-align: top;\n",
              "    }\n",
              "\n",
              "    .dataframe thead th {\n",
              "        text-align: right;\n",
              "    }\n",
              "</style>\n",
              "<table border=\"1\" class=\"dataframe\">\n",
              "  <thead>\n",
              "    <tr style=\"text-align: right;\">\n",
              "      <th></th>\n",
              "      <th>satelite</th>\n",
              "      <th>pais</th>\n",
              "      <th>estado</th>\n",
              "      <th>municipio</th>\n",
              "      <th>bioma</th>\n",
              "      <th>diasemchuva</th>\n",
              "      <th>precipitacao</th>\n",
              "      <th>riscofogo</th>\n",
              "      <th>latitude</th>\n",
              "      <th>longitude</th>\n",
              "      <th>frp</th>\n",
              "      <th>Data</th>\n",
              "      <th>Hora</th>\n",
              "    </tr>\n",
              "  </thead>\n",
              "  <tbody>\n",
              "    <tr>\n",
              "      <th>0</th>\n",
              "      <td>AQUA_M-M</td>\n",
              "      <td>Brasil</td>\n",
              "      <td>MATO GROSSO</td>\n",
              "      <td>POCONE</td>\n",
              "      <td>Pantanal</td>\n",
              "      <td>NaN</td>\n",
              "      <td>NaN</td>\n",
              "      <td>NaN</td>\n",
              "      <td>-17.138</td>\n",
              "      <td>-57.326</td>\n",
              "      <td>NaN</td>\n",
              "      <td>2012-01-07</td>\n",
              "      <td>05:02:00</td>\n",
              "    </tr>\n",
              "    <tr>\n",
              "      <th>1</th>\n",
              "      <td>AQUA_M-M</td>\n",
              "      <td>Brasil</td>\n",
              "      <td>MATO GROSSO</td>\n",
              "      <td>CACERES</td>\n",
              "      <td>Pantanal</td>\n",
              "      <td>NaN</td>\n",
              "      <td>NaN</td>\n",
              "      <td>NaN</td>\n",
              "      <td>-16.914</td>\n",
              "      <td>-57.693</td>\n",
              "      <td>NaN</td>\n",
              "      <td>2012-01-07</td>\n",
              "      <td>05:02:00</td>\n",
              "    </tr>\n",
              "    <tr>\n",
              "      <th>2</th>\n",
              "      <td>AQUA_M-M</td>\n",
              "      <td>Brasil</td>\n",
              "      <td>MATO GROSSO</td>\n",
              "      <td>POCONE</td>\n",
              "      <td>Pantanal</td>\n",
              "      <td>NaN</td>\n",
              "      <td>NaN</td>\n",
              "      <td>NaN</td>\n",
              "      <td>-17.118</td>\n",
              "      <td>-57.322</td>\n",
              "      <td>NaN</td>\n",
              "      <td>2012-01-07</td>\n",
              "      <td>05:02:00</td>\n",
              "    </tr>\n",
              "    <tr>\n",
              "      <th>3</th>\n",
              "      <td>AQUA_M-M</td>\n",
              "      <td>Brasil</td>\n",
              "      <td>MATO GROSSO</td>\n",
              "      <td>POCONE</td>\n",
              "      <td>Pantanal</td>\n",
              "      <td>NaN</td>\n",
              "      <td>NaN</td>\n",
              "      <td>NaN</td>\n",
              "      <td>-17.117</td>\n",
              "      <td>-57.327</td>\n",
              "      <td>NaN</td>\n",
              "      <td>2012-01-07</td>\n",
              "      <td>05:02:00</td>\n",
              "    </tr>\n",
              "    <tr>\n",
              "      <th>4</th>\n",
              "      <td>AQUA_M-M</td>\n",
              "      <td>Brasil</td>\n",
              "      <td>MATO GROSSO</td>\n",
              "      <td>CACERES</td>\n",
              "      <td>Pantanal</td>\n",
              "      <td>NaN</td>\n",
              "      <td>NaN</td>\n",
              "      <td>NaN</td>\n",
              "      <td>-16.901</td>\n",
              "      <td>-57.704</td>\n",
              "      <td>NaN</td>\n",
              "      <td>2012-01-07</td>\n",
              "      <td>05:02:00</td>\n",
              "    </tr>\n",
              "  </tbody>\n",
              "</table>\n",
              "</div>"
            ],
            "text/plain": [
              "   satelite    pais       estado  ... frp        Data      Hora\n",
              "0  AQUA_M-M  Brasil  MATO GROSSO  ... NaN  2012-01-07  05:02:00\n",
              "1  AQUA_M-M  Brasil  MATO GROSSO  ... NaN  2012-01-07  05:02:00\n",
              "2  AQUA_M-M  Brasil  MATO GROSSO  ... NaN  2012-01-07  05:02:00\n",
              "3  AQUA_M-M  Brasil  MATO GROSSO  ... NaN  2012-01-07  05:02:00\n",
              "4  AQUA_M-M  Brasil  MATO GROSSO  ... NaN  2012-01-07  05:02:00\n",
              "\n",
              "[5 rows x 13 columns]"
            ]
          },
          "metadata": {
            "tags": []
          },
          "execution_count": 69
        }
      ]
    },
    {
      "cell_type": "markdown",
      "metadata": {
        "id": "Jn7WXKSz5vsA"
      },
      "source": [
        "**RETIRANDO AS LINHAS COM riscofogo = NaN**"
      ]
    },
    {
      "cell_type": "code",
      "metadata": {
        "id": "xztHV3p35fYc"
      },
      "source": [
        "df = df.dropna(subset=[\"riscofogo\"])"
      ],
      "execution_count": 70,
      "outputs": []
    },
    {
      "cell_type": "code",
      "metadata": {
        "colab": {
          "base_uri": "https://localhost:8080/",
          "height": 195
        },
        "id": "kmsrb0U85oj1",
        "outputId": "0e187f77-84f3-4db2-c2cb-a856cba11582"
      },
      "source": [
        "df.head(5)"
      ],
      "execution_count": 71,
      "outputs": [
        {
          "output_type": "execute_result",
          "data": {
            "text/html": [
              "<div>\n",
              "<style scoped>\n",
              "    .dataframe tbody tr th:only-of-type {\n",
              "        vertical-align: middle;\n",
              "    }\n",
              "\n",
              "    .dataframe tbody tr th {\n",
              "        vertical-align: top;\n",
              "    }\n",
              "\n",
              "    .dataframe thead th {\n",
              "        text-align: right;\n",
              "    }\n",
              "</style>\n",
              "<table border=\"1\" class=\"dataframe\">\n",
              "  <thead>\n",
              "    <tr style=\"text-align: right;\">\n",
              "      <th></th>\n",
              "      <th>satelite</th>\n",
              "      <th>pais</th>\n",
              "      <th>estado</th>\n",
              "      <th>municipio</th>\n",
              "      <th>bioma</th>\n",
              "      <th>diasemchuva</th>\n",
              "      <th>precipitacao</th>\n",
              "      <th>riscofogo</th>\n",
              "      <th>latitude</th>\n",
              "      <th>longitude</th>\n",
              "      <th>frp</th>\n",
              "      <th>Data</th>\n",
              "      <th>Hora</th>\n",
              "    </tr>\n",
              "  </thead>\n",
              "  <tbody>\n",
              "    <tr>\n",
              "      <th>0</th>\n",
              "      <td>AQUA_M-M</td>\n",
              "      <td>Brasil</td>\n",
              "      <td>MATO GROSSO DO SUL</td>\n",
              "      <td>AQUIDAUANA</td>\n",
              "      <td>Pantanal</td>\n",
              "      <td>4.0</td>\n",
              "      <td>0.0</td>\n",
              "      <td>0.2</td>\n",
              "      <td>-19.4670</td>\n",
              "      <td>-56.3880</td>\n",
              "      <td>NaN</td>\n",
              "      <td>2014-01-03</td>\n",
              "      <td>05:10:00</td>\n",
              "    </tr>\n",
              "    <tr>\n",
              "      <th>1</th>\n",
              "      <td>AQUA_M-M</td>\n",
              "      <td>Brasil</td>\n",
              "      <td>MATO GROSSO</td>\n",
              "      <td>CACERES</td>\n",
              "      <td>Pantanal</td>\n",
              "      <td>2.0</td>\n",
              "      <td>0.0</td>\n",
              "      <td>0.9</td>\n",
              "      <td>-16.2360</td>\n",
              "      <td>-58.5860</td>\n",
              "      <td>NaN</td>\n",
              "      <td>2014-10-09</td>\n",
              "      <td>05:15:00</td>\n",
              "    </tr>\n",
              "    <tr>\n",
              "      <th>2</th>\n",
              "      <td>NPP-375</td>\n",
              "      <td>Brasil</td>\n",
              "      <td>MATO GROSSO DO SUL</td>\n",
              "      <td>CORUMBA</td>\n",
              "      <td>Pantanal</td>\n",
              "      <td>8.0</td>\n",
              "      <td>0.0</td>\n",
              "      <td>1.0</td>\n",
              "      <td>-19.9664</td>\n",
              "      <td>-57.4599</td>\n",
              "      <td>NaN</td>\n",
              "      <td>2014-10-15</td>\n",
              "      <td>17:02:00</td>\n",
              "    </tr>\n",
              "    <tr>\n",
              "      <th>3</th>\n",
              "      <td>NPP-375</td>\n",
              "      <td>Brasil</td>\n",
              "      <td>MATO GROSSO DO SUL</td>\n",
              "      <td>CORUMBA</td>\n",
              "      <td>Pantanal</td>\n",
              "      <td>2.0</td>\n",
              "      <td>0.0</td>\n",
              "      <td>1.0</td>\n",
              "      <td>-19.8841</td>\n",
              "      <td>-57.3938</td>\n",
              "      <td>NaN</td>\n",
              "      <td>2014-10-09</td>\n",
              "      <td>17:15:00</td>\n",
              "    </tr>\n",
              "    <tr>\n",
              "      <th>4</th>\n",
              "      <td>NPP-375</td>\n",
              "      <td>Brasil</td>\n",
              "      <td>MATO GROSSO DO SUL</td>\n",
              "      <td>CORUMBA</td>\n",
              "      <td>Pantanal</td>\n",
              "      <td>8.0</td>\n",
              "      <td>0.0</td>\n",
              "      <td>1.0</td>\n",
              "      <td>-19.9342</td>\n",
              "      <td>-57.3920</td>\n",
              "      <td>NaN</td>\n",
              "      <td>2014-10-15</td>\n",
              "      <td>17:02:00</td>\n",
              "    </tr>\n",
              "  </tbody>\n",
              "</table>\n",
              "</div>"
            ],
            "text/plain": [
              "   satelite    pais              estado  ... frp        Data      Hora\n",
              "0  AQUA_M-M  Brasil  MATO GROSSO DO SUL  ... NaN  2014-01-03  05:10:00\n",
              "1  AQUA_M-M  Brasil         MATO GROSSO  ... NaN  2014-10-09  05:15:00\n",
              "2   NPP-375  Brasil  MATO GROSSO DO SUL  ... NaN  2014-10-15  17:02:00\n",
              "3   NPP-375  Brasil  MATO GROSSO DO SUL  ... NaN  2014-10-09  17:15:00\n",
              "4   NPP-375  Brasil  MATO GROSSO DO SUL  ... NaN  2014-10-15  17:02:00\n",
              "\n",
              "[5 rows x 13 columns]"
            ]
          },
          "metadata": {
            "tags": []
          },
          "execution_count": 71
        }
      ]
    },
    {
      "cell_type": "markdown",
      "metadata": {
        "id": "00o0QbAx5-iq"
      },
      "source": [
        "**TAMANHO DO DATASET APÓS PRIMEIRA LIMPEZA**"
      ]
    },
    {
      "cell_type": "code",
      "metadata": {
        "colab": {
          "base_uri": "https://localhost:8080/"
        },
        "id": "uJJgNBNO6H14",
        "outputId": "81a46f55-805f-4c93-f957-2a0f9014c3a1"
      },
      "source": [
        "print(f'Tamanho do Dataframe: {df.shape[0]} linhas e {df.shape[1]} colunas') # Descreve o tamanho do dataframe em uma tupla"
      ],
      "execution_count": 72,
      "outputs": [
        {
          "output_type": "stream",
          "text": [
            "Tamanho do Dataframe: 1183732 linhas e 13 colunas\n"
          ],
          "name": "stdout"
        }
      ]
    },
    {
      "cell_type": "markdown",
      "metadata": {
        "id": "oRieBr1RAeh6"
      },
      "source": [
        "**Informação sobre Risco Fogo**\n",
        "*   Mínimo, abaixo de 0,15;\n",
        "*   Baixo, de 0,15 a 0,4;\n",
        "*   Médio, de 0,4 a 0,7;\n",
        "*   Alto, de 0,7 a 0,95 e;\n",
        "*   Crítico, acima de 0.95."
      ]
    }
  ]
}