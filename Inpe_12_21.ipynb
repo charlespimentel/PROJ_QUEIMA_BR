{
  "nbformat": 4,
  "nbformat_minor": 0,
  "metadata": {
    "colab": {
      "name": "Inpe_12_21.ipynb",
      "provenance": [],
      "authorship_tag": "ABX9TyNPgz03XAp1r8BVQmgG7+zE",
      "include_colab_link": true
    },
    "kernelspec": {
      "name": "python3",
      "display_name": "Python 3"
    },
    "language_info": {
      "name": "python"
    }
  },
  "cells": [
    {
      "cell_type": "markdown",
      "metadata": {
        "id": "view-in-github",
        "colab_type": "text"
      },
      "source": [
        "<a href=\"https://colab.research.google.com/github/charlespimentel/PROJ_QUEIMA_BR/blob/main/Inpe_12_21.ipynb\" target=\"_parent\"><img src=\"https://colab.research.google.com/assets/colab-badge.svg\" alt=\"Open In Colab\"/></a>"
      ]
    },
    {
      "cell_type": "code",
      "metadata": {
        "id": "E0O8p_FNeH8d"
      },
      "source": [
        "import numpy as np\n",
        "import pandas as pd\n",
        "import csv\n",
        "import matplotlib.pyplot as plt"
      ],
      "execution_count": 23,
      "outputs": []
    },
    {
      "cell_type": "markdown",
      "metadata": {
        "id": "LBKpLWnReROT"
      },
      "source": [
        "2012-2021"
      ]
    },
    {
      "cell_type": "code",
      "metadata": {
        "id": "pWmoy7U3eQep"
      },
      "source": [
        "df2012 = pd.read_csv('https://raw.githubusercontent.com/charlespimentel/PROJ_QUEIMA_BR/main/Data_Inpe_12_21/Focos_2012-01-01_2012-12-31.csv', sep=',')\n",
        "df2013 = pd.read_csv('https://raw.githubusercontent.com/charlespimentel/PROJ_QUEIMA_BR/main/Data_Inpe_12_21/Focos_2013-01-01_2013-12-31.csv', sep=',')\n",
        "df2014 = pd.read_csv('https://raw.githubusercontent.com/charlespimentel/PROJ_QUEIMA_BR/main/Data_Inpe_12_21/Focos_2014-01-01_2014-12-31.csv', sep=',')\n",
        "df2015 = pd.read_csv('https://raw.githubusercontent.com/charlespimentel/PROJ_QUEIMA_BR/main/Data_Inpe_12_21/Focos_2015-01-01_2015-12-31.csv', sep=',')\n",
        "df2016 = pd.read_csv('https://raw.githubusercontent.com/charlespimentel/PROJ_QUEIMA_BR/main/Data_Inpe_12_21/Focos_2016-01-01_2016-12-31.csv', sep=',')\n",
        "df2017 = pd.read_csv('https://raw.githubusercontent.com/charlespimentel/PROJ_QUEIMA_BR/main/Data_Inpe_12_21/Focos_2017-01-01_2017-12-31.csv', sep=',')\n",
        "df2018 = pd.read_csv('https://raw.githubusercontent.com/charlespimentel/PROJ_QUEIMA_BR/main/Data_Inpe_12_21/Focos_2018-01-01_2018-12-31.csv', sep=',')\n",
        "df2019 = pd.read_csv('https://raw.githubusercontent.com/charlespimentel/PROJ_QUEIMA_BR/main/Data_Inpe_12_21/Focos_2019-01-01_2019-12-31.csv', sep=',')\n",
        "df2020 = pd.read_csv('https://raw.githubusercontent.com/charlespimentel/PROJ_QUEIMA_BR/main/Data_Inpe_12_21/Focos_2020-01-01_2020-12-31.csv', sep=',')\n",
        "df2021 = pd.read_csv('https://raw.githubusercontent.com/charlespimentel/PROJ_QUEIMA_BR/main/Data_Inpe_12_21/Focos_2021-01-01_2021-03-31.csv', sep=',')"
      ],
      "execution_count": 8,
      "outputs": []
    },
    {
      "cell_type": "code",
      "metadata": {
        "id": "zMlVTQiiiDiW"
      },
      "source": [
        "df2021.head(5)"
      ],
      "execution_count": null,
      "outputs": []
    },
    {
      "cell_type": "code",
      "metadata": {
        "id": "75nbklsnjeKF"
      },
      "source": [
        "#Unindo os 10 datasets\n",
        "df = pd.concat([df2012, df2013, df2014, df2015, df2016, df2017, df2018, df2019, df2020, df2021])"
      ],
      "execution_count": 19,
      "outputs": []
    },
    {
      "cell_type": "code",
      "metadata": {
        "colab": {
          "base_uri": "https://localhost:8080/",
          "height": 136
        },
        "id": "-qOcDYOTksP0",
        "outputId": "c76d8883-f1c2-479f-8a08-7f9c83ed06e5"
      },
      "source": [
        "df.head(3)"
      ],
      "execution_count": 20,
      "outputs": [
        {
          "output_type": "execute_result",
          "data": {
            "text/html": [
              "<div>\n",
              "<style scoped>\n",
              "    .dataframe tbody tr th:only-of-type {\n",
              "        vertical-align: middle;\n",
              "    }\n",
              "\n",
              "    .dataframe tbody tr th {\n",
              "        vertical-align: top;\n",
              "    }\n",
              "\n",
              "    .dataframe thead th {\n",
              "        text-align: right;\n",
              "    }\n",
              "</style>\n",
              "<table border=\"1\" class=\"dataframe\">\n",
              "  <thead>\n",
              "    <tr style=\"text-align: right;\">\n",
              "      <th></th>\n",
              "      <th>datahora</th>\n",
              "      <th>satelite</th>\n",
              "      <th>pais</th>\n",
              "      <th>estado</th>\n",
              "      <th>municipio</th>\n",
              "      <th>bioma</th>\n",
              "      <th>diasemchuva</th>\n",
              "      <th>precipitacao</th>\n",
              "      <th>riscofogo</th>\n",
              "      <th>latitude</th>\n",
              "      <th>longitude</th>\n",
              "      <th>frp</th>\n",
              "    </tr>\n",
              "  </thead>\n",
              "  <tbody>\n",
              "    <tr>\n",
              "      <th>0</th>\n",
              "      <td>2012/01/07 05:02:00</td>\n",
              "      <td>AQUA_M-M</td>\n",
              "      <td>Brasil</td>\n",
              "      <td>MATO GROSSO</td>\n",
              "      <td>POCONE</td>\n",
              "      <td>Pantanal</td>\n",
              "      <td>NaN</td>\n",
              "      <td>NaN</td>\n",
              "      <td>NaN</td>\n",
              "      <td>-17.138</td>\n",
              "      <td>-57.326</td>\n",
              "      <td>NaN</td>\n",
              "    </tr>\n",
              "    <tr>\n",
              "      <th>1</th>\n",
              "      <td>2012/01/07 05:02:00</td>\n",
              "      <td>AQUA_M-M</td>\n",
              "      <td>Brasil</td>\n",
              "      <td>MATO GROSSO</td>\n",
              "      <td>CACERES</td>\n",
              "      <td>Pantanal</td>\n",
              "      <td>NaN</td>\n",
              "      <td>NaN</td>\n",
              "      <td>NaN</td>\n",
              "      <td>-16.914</td>\n",
              "      <td>-57.693</td>\n",
              "      <td>NaN</td>\n",
              "    </tr>\n",
              "    <tr>\n",
              "      <th>2</th>\n",
              "      <td>2012/01/07 05:02:00</td>\n",
              "      <td>AQUA_M-M</td>\n",
              "      <td>Brasil</td>\n",
              "      <td>MATO GROSSO</td>\n",
              "      <td>POCONE</td>\n",
              "      <td>Pantanal</td>\n",
              "      <td>NaN</td>\n",
              "      <td>NaN</td>\n",
              "      <td>NaN</td>\n",
              "      <td>-17.118</td>\n",
              "      <td>-57.322</td>\n",
              "      <td>NaN</td>\n",
              "    </tr>\n",
              "  </tbody>\n",
              "</table>\n",
              "</div>"
            ],
            "text/plain": [
              "              datahora  satelite    pais  ... latitude longitude frp\n",
              "0  2012/01/07 05:02:00  AQUA_M-M  Brasil  ...  -17.138   -57.326 NaN\n",
              "1  2012/01/07 05:02:00  AQUA_M-M  Brasil  ...  -16.914   -57.693 NaN\n",
              "2  2012/01/07 05:02:00  AQUA_M-M  Brasil  ...  -17.118   -57.322 NaN\n",
              "\n",
              "[3 rows x 12 columns]"
            ]
          },
          "metadata": {
            "tags": []
          },
          "execution_count": 20
        }
      ]
    },
    {
      "cell_type": "code",
      "metadata": {
        "colab": {
          "base_uri": "https://localhost:8080/",
          "height": 136
        },
        "id": "upDX8dd_k0Lv",
        "outputId": "b22eb71d-b1ef-47c1-c64b-45d23f757731"
      },
      "source": [
        "df.tail(3)"
      ],
      "execution_count": 21,
      "outputs": [
        {
          "output_type": "execute_result",
          "data": {
            "text/html": [
              "<div>\n",
              "<style scoped>\n",
              "    .dataframe tbody tr th:only-of-type {\n",
              "        vertical-align: middle;\n",
              "    }\n",
              "\n",
              "    .dataframe tbody tr th {\n",
              "        vertical-align: top;\n",
              "    }\n",
              "\n",
              "    .dataframe thead th {\n",
              "        text-align: right;\n",
              "    }\n",
              "</style>\n",
              "<table border=\"1\" class=\"dataframe\">\n",
              "  <thead>\n",
              "    <tr style=\"text-align: right;\">\n",
              "      <th></th>\n",
              "      <th>datahora</th>\n",
              "      <th>satelite</th>\n",
              "      <th>pais</th>\n",
              "      <th>estado</th>\n",
              "      <th>municipio</th>\n",
              "      <th>bioma</th>\n",
              "      <th>diasemchuva</th>\n",
              "      <th>precipitacao</th>\n",
              "      <th>riscofogo</th>\n",
              "      <th>latitude</th>\n",
              "      <th>longitude</th>\n",
              "      <th>frp</th>\n",
              "    </tr>\n",
              "  </thead>\n",
              "  <tbody>\n",
              "    <tr>\n",
              "      <th>3905</th>\n",
              "      <td>2021/03/31 04:42:00</td>\n",
              "      <td>NOAA-20</td>\n",
              "      <td>Brasil</td>\n",
              "      <td>MATO GROSSO DO SUL</td>\n",
              "      <td>PORTO MURTINHO</td>\n",
              "      <td>Pantanal</td>\n",
              "      <td>3.0</td>\n",
              "      <td>0.0</td>\n",
              "      <td>0.2</td>\n",
              "      <td>-21.2743</td>\n",
              "      <td>-57.8375</td>\n",
              "      <td>3.2</td>\n",
              "    </tr>\n",
              "    <tr>\n",
              "      <th>3906</th>\n",
              "      <td>2021/03/31 04:42:00</td>\n",
              "      <td>NOAA-20</td>\n",
              "      <td>Brasil</td>\n",
              "      <td>MATO GROSSO DO SUL</td>\n",
              "      <td>RIO VERDE DE MATO GROSSO</td>\n",
              "      <td>Pantanal</td>\n",
              "      <td>7.0</td>\n",
              "      <td>0.0</td>\n",
              "      <td>0.4</td>\n",
              "      <td>-18.6196</td>\n",
              "      <td>-55.2020</td>\n",
              "      <td>8.9</td>\n",
              "    </tr>\n",
              "    <tr>\n",
              "      <th>3907</th>\n",
              "      <td>2021/03/31 04:42:00</td>\n",
              "      <td>NOAA-20</td>\n",
              "      <td>Brasil</td>\n",
              "      <td>MATO GROSSO DO SUL</td>\n",
              "      <td>RIO VERDE DE MATO GROSSO</td>\n",
              "      <td>Pantanal</td>\n",
              "      <td>7.0</td>\n",
              "      <td>0.0</td>\n",
              "      <td>0.1</td>\n",
              "      <td>-18.6295</td>\n",
              "      <td>-55.2082</td>\n",
              "      <td>2.3</td>\n",
              "    </tr>\n",
              "  </tbody>\n",
              "</table>\n",
              "</div>"
            ],
            "text/plain": [
              "                 datahora satelite    pais  ... latitude longitude  frp\n",
              "3905  2021/03/31 04:42:00  NOAA-20  Brasil  ... -21.2743  -57.8375  3.2\n",
              "3906  2021/03/31 04:42:00  NOAA-20  Brasil  ... -18.6196  -55.2020  8.9\n",
              "3907  2021/03/31 04:42:00  NOAA-20  Brasil  ... -18.6295  -55.2082  2.3\n",
              "\n",
              "[3 rows x 12 columns]"
            ]
          },
          "metadata": {
            "tags": []
          },
          "execution_count": 21
        }
      ]
    },
    {
      "cell_type": "code",
      "metadata": {
        "colab": {
          "base_uri": "https://localhost:8080/",
          "height": 284
        },
        "id": "SCbfTXUxlZnz",
        "outputId": "92f5d93b-5f75-4bab-f1fa-f237286bcf81"
      },
      "source": [
        "df.describe().round(2) # Resume e descreve algumas operações gerais do Dataset. Round(2) arredonda para 2 casas decimais."
      ],
      "execution_count": 24,
      "outputs": [
        {
          "output_type": "execute_result",
          "data": {
            "text/html": [
              "<div>\n",
              "<style scoped>\n",
              "    .dataframe tbody tr th:only-of-type {\n",
              "        vertical-align: middle;\n",
              "    }\n",
              "\n",
              "    .dataframe tbody tr th {\n",
              "        vertical-align: top;\n",
              "    }\n",
              "\n",
              "    .dataframe thead th {\n",
              "        text-align: right;\n",
              "    }\n",
              "</style>\n",
              "<table border=\"1\" class=\"dataframe\">\n",
              "  <thead>\n",
              "    <tr style=\"text-align: right;\">\n",
              "      <th></th>\n",
              "      <th>diasemchuva</th>\n",
              "      <th>precipitacao</th>\n",
              "      <th>riscofogo</th>\n",
              "      <th>latitude</th>\n",
              "      <th>longitude</th>\n",
              "      <th>frp</th>\n",
              "    </tr>\n",
              "  </thead>\n",
              "  <tbody>\n",
              "    <tr>\n",
              "      <th>count</th>\n",
              "      <td>1183732.00</td>\n",
              "      <td>1183732.00</td>\n",
              "      <td>1183732.00</td>\n",
              "      <td>1331375.00</td>\n",
              "      <td>1331375.00</td>\n",
              "      <td>377209.00</td>\n",
              "    </tr>\n",
              "    <tr>\n",
              "      <th>mean</th>\n",
              "      <td>14.46</td>\n",
              "      <td>0.77</td>\n",
              "      <td>-21.07</td>\n",
              "      <td>-18.03</td>\n",
              "      <td>-56.98</td>\n",
              "      <td>26.49</td>\n",
              "    </tr>\n",
              "    <tr>\n",
              "      <th>std</th>\n",
              "      <td>18.47</td>\n",
              "      <td>3.71</td>\n",
              "      <td>146.19</td>\n",
              "      <td>1.33</td>\n",
              "      <td>0.76</td>\n",
              "      <td>71.06</td>\n",
              "    </tr>\n",
              "    <tr>\n",
              "      <th>min</th>\n",
              "      <td>0.00</td>\n",
              "      <td>0.00</td>\n",
              "      <td>-999.00</td>\n",
              "      <td>-22.14</td>\n",
              "      <td>-59.18</td>\n",
              "      <td>0.00</td>\n",
              "    </tr>\n",
              "    <tr>\n",
              "      <th>25%</th>\n",
              "      <td>3.00</td>\n",
              "      <td>0.00</td>\n",
              "      <td>0.60</td>\n",
              "      <td>-19.12</td>\n",
              "      <td>-57.52</td>\n",
              "      <td>4.30</td>\n",
              "    </tr>\n",
              "    <tr>\n",
              "      <th>50%</th>\n",
              "      <td>8.00</td>\n",
              "      <td>0.00</td>\n",
              "      <td>1.00</td>\n",
              "      <td>-17.63</td>\n",
              "      <td>-57.18</td>\n",
              "      <td>9.70</td>\n",
              "    </tr>\n",
              "    <tr>\n",
              "      <th>75%</th>\n",
              "      <td>19.00</td>\n",
              "      <td>0.00</td>\n",
              "      <td>1.00</td>\n",
              "      <td>-16.96</td>\n",
              "      <td>-56.38</td>\n",
              "      <td>23.70</td>\n",
              "    </tr>\n",
              "    <tr>\n",
              "      <th>max</th>\n",
              "      <td>119.00</td>\n",
              "      <td>138.00</td>\n",
              "      <td>1.00</td>\n",
              "      <td>-15.53</td>\n",
              "      <td>-54.92</td>\n",
              "      <td>4196.50</td>\n",
              "    </tr>\n",
              "  </tbody>\n",
              "</table>\n",
              "</div>"
            ],
            "text/plain": [
              "       diasemchuva  precipitacao   riscofogo    latitude   longitude        frp\n",
              "count   1183732.00    1183732.00  1183732.00  1331375.00  1331375.00  377209.00\n",
              "mean         14.46          0.77      -21.07      -18.03      -56.98      26.49\n",
              "std          18.47          3.71      146.19        1.33        0.76      71.06\n",
              "min           0.00          0.00     -999.00      -22.14      -59.18       0.00\n",
              "25%           3.00          0.00        0.60      -19.12      -57.52       4.30\n",
              "50%           8.00          0.00        1.00      -17.63      -57.18       9.70\n",
              "75%          19.00          0.00        1.00      -16.96      -56.38      23.70\n",
              "max         119.00        138.00        1.00      -15.53      -54.92    4196.50"
            ]
          },
          "metadata": {
            "tags": []
          },
          "execution_count": 24
        }
      ]
    },
    {
      "cell_type": "code",
      "metadata": {
        "colab": {
          "base_uri": "https://localhost:8080/"
        },
        "id": "eIGipaXslmhp",
        "outputId": "406a2c2f-fed2-4c4b-d13f-fe4b1b91c783"
      },
      "source": [
        "print(f'Tamanho do Dataframe: {df.shape[0]} linhas e {df.shape[1]} colunas') # Descreve o tamanho do dataframe em uma tupla"
      ],
      "execution_count": 25,
      "outputs": [
        {
          "output_type": "stream",
          "text": [
            "Tamanho do Dataframe: 1331375 linhas e 12 colunas\n"
          ],
          "name": "stdout"
        }
      ]
    }
  ]
}