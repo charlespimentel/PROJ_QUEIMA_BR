{
  "nbformat": 4,
  "nbformat_minor": 0,
  "metadata": {
    "colab": {
      "name": "Inpe_12_21.ipynb",
      "provenance": [],
      "include_colab_link": true
    },
    "kernelspec": {
      "name": "python3",
      "display_name": "Python 3"
    },
    "language_info": {
      "name": "python"
    }
  },
  "cells": [
    {
      "cell_type": "markdown",
      "metadata": {
        "id": "view-in-github",
        "colab_type": "text"
      },
      "source": [
        "<a href=\"https://colab.research.google.com/github/charlespimentel/PROJ_QUEIMA_BR/blob/main/Inpe_12_21.ipynb\" target=\"_parent\"><img src=\"https://colab.research.google.com/assets/colab-badge.svg\" alt=\"Open In Colab\"/></a>"
      ]
    },
    {
      "cell_type": "markdown",
      "metadata": {
        "id": "2z7Qp88Ly87w"
      },
      "source": [
        "**IMPORTANDO BIBLIOTECAS**"
      ]
    },
    {
      "cell_type": "code",
      "metadata": {
        "id": "E0O8p_FNeH8d"
      },
      "source": [
        "import numpy as np\n",
        "import pandas as pd\n",
        "import csv\n",
        "import matplotlib.pyplot as plt\n",
        "import datetime"
      ],
      "execution_count": null,
      "outputs": []
    },
    {
      "cell_type": "markdown",
      "metadata": {
        "id": "zP299keDzDxB"
      },
      "source": [
        "**DATASETS DE JANEIRO DE 2012 a MARÇO DE 2021**- PANTANAL\n",
        "\n",
        "---\n",
        "\n"
      ]
    },
    {
      "cell_type": "markdown",
      "metadata": {
        "id": "e5EJpzfefq-g"
      },
      "source": [
        "Os datasets foram baixados, ano a ano, em 04/04/2021 no endereço https://queimadas.dgi.inpe.br//queimadas/bdqueimadas/#tabela-de-atributos"
      ]
    },
    {
      "cell_type": "code",
      "metadata": {
        "id": "pWmoy7U3eQep"
      },
      "source": [
        "df2012 = pd.read_csv('https://raw.githubusercontent.com/charlespimentel/PROJ_QUEIMA_BR/main/Data_Inpe_12_21/Focos_2012-01-01_2012-12-31.csv', sep=',')\n",
        "df2013 = pd.read_csv('https://raw.githubusercontent.com/charlespimentel/PROJ_QUEIMA_BR/main/Data_Inpe_12_21/Focos_2013-01-01_2013-12-31.csv', sep=',')\n",
        "df2014 = pd.read_csv('https://raw.githubusercontent.com/charlespimentel/PROJ_QUEIMA_BR/main/Data_Inpe_12_21/Focos_2014-01-01_2014-12-31.csv', sep=',')\n",
        "df2015 = pd.read_csv('https://raw.githubusercontent.com/charlespimentel/PROJ_QUEIMA_BR/main/Data_Inpe_12_21/Focos_2015-01-01_2015-12-31.csv', sep=',')\n",
        "df2016 = pd.read_csv('https://raw.githubusercontent.com/charlespimentel/PROJ_QUEIMA_BR/main/Data_Inpe_12_21/Focos_2016-01-01_2016-12-31.csv', sep=',')\n",
        "df2017 = pd.read_csv('https://raw.githubusercontent.com/charlespimentel/PROJ_QUEIMA_BR/main/Data_Inpe_12_21/Focos_2017-01-01_2017-12-31.csv', sep=',')\n",
        "df2018 = pd.read_csv('https://raw.githubusercontent.com/charlespimentel/PROJ_QUEIMA_BR/main/Data_Inpe_12_21/Focos_2018-01-01_2018-12-31.csv', sep=',')\n",
        "df2019 = pd.read_csv('https://raw.githubusercontent.com/charlespimentel/PROJ_QUEIMA_BR/main/Data_Inpe_12_21/Focos_2019-01-01_2019-12-31.csv', sep=',')\n",
        "df2020 = pd.read_csv('https://raw.githubusercontent.com/charlespimentel/PROJ_QUEIMA_BR/main/Data_Inpe_12_21/Focos_2020-01-01_2020-12-31.csv', sep=',')\n",
        "df2021 = pd.read_csv('https://raw.githubusercontent.com/charlespimentel/PROJ_QUEIMA_BR/main/Data_Inpe_12_21/Focos_2021-01-01_2021-03-31.csv', sep=',')"
      ],
      "execution_count": null,
      "outputs": []
    },
    {
      "cell_type": "code",
      "metadata": {
        "colab": {
          "base_uri": "https://localhost:8080/"
        },
        "id": "yEh_MLu_afoa",
        "outputId": "6af6169b-2872-468e-9d78-56e06d9db44d"
      },
      "source": [
        "print(f'Tamanho do Dataframe: {df2014.shape[0]} linhas e {df2014.shape[1]} colunas') # Descreve o tamanho do dataframe em uma tupla"
      ],
      "execution_count": null,
      "outputs": [
        {
          "output_type": "stream",
          "text": [
            "Tamanho do Dataframe: 14815 linhas e 12 colunas\n"
          ],
          "name": "stdout"
        }
      ]
    },
    {
      "cell_type": "markdown",
      "metadata": {
        "id": "vYIRvjbmzN2g"
      },
      "source": [
        "**CINCO PRIMEIRAS LINHAS DE ANO ESCOLHIDO**"
      ]
    },
    {
      "cell_type": "code",
      "metadata": {
        "id": "zMlVTQiiiDiW",
        "colab": {
          "base_uri": "https://localhost:8080/",
          "height": 195
        },
        "outputId": "a2f3a691-b37f-40ac-b868-4b928fb2e12d"
      },
      "source": [
        "df2014.head()"
      ],
      "execution_count": null,
      "outputs": [
        {
          "output_type": "execute_result",
          "data": {
            "text/html": [
              "<div>\n",
              "<style scoped>\n",
              "    .dataframe tbody tr th:only-of-type {\n",
              "        vertical-align: middle;\n",
              "    }\n",
              "\n",
              "    .dataframe tbody tr th {\n",
              "        vertical-align: top;\n",
              "    }\n",
              "\n",
              "    .dataframe thead th {\n",
              "        text-align: right;\n",
              "    }\n",
              "</style>\n",
              "<table border=\"1\" class=\"dataframe\">\n",
              "  <thead>\n",
              "    <tr style=\"text-align: right;\">\n",
              "      <th></th>\n",
              "      <th>datahora</th>\n",
              "      <th>satelite</th>\n",
              "      <th>pais</th>\n",
              "      <th>estado</th>\n",
              "      <th>municipio</th>\n",
              "      <th>bioma</th>\n",
              "      <th>diasemchuva</th>\n",
              "      <th>precipitacao</th>\n",
              "      <th>riscofogo</th>\n",
              "      <th>latitude</th>\n",
              "      <th>longitude</th>\n",
              "      <th>frp</th>\n",
              "    </tr>\n",
              "  </thead>\n",
              "  <tbody>\n",
              "    <tr>\n",
              "      <th>0</th>\n",
              "      <td>2014/01/03 05:10:00</td>\n",
              "      <td>AQUA_M-M</td>\n",
              "      <td>Brasil</td>\n",
              "      <td>MATO GROSSO DO SUL</td>\n",
              "      <td>AQUIDAUANA</td>\n",
              "      <td>Pantanal</td>\n",
              "      <td>4</td>\n",
              "      <td>0.0</td>\n",
              "      <td>0.2</td>\n",
              "      <td>-19.4670</td>\n",
              "      <td>-56.3880</td>\n",
              "      <td>NaN</td>\n",
              "    </tr>\n",
              "    <tr>\n",
              "      <th>1</th>\n",
              "      <td>2014/10/09 05:15:00</td>\n",
              "      <td>AQUA_M-M</td>\n",
              "      <td>Brasil</td>\n",
              "      <td>MATO GROSSO</td>\n",
              "      <td>CACERES</td>\n",
              "      <td>Pantanal</td>\n",
              "      <td>2</td>\n",
              "      <td>0.0</td>\n",
              "      <td>0.9</td>\n",
              "      <td>-16.2360</td>\n",
              "      <td>-58.5860</td>\n",
              "      <td>NaN</td>\n",
              "    </tr>\n",
              "    <tr>\n",
              "      <th>2</th>\n",
              "      <td>2014/10/15 17:02:00</td>\n",
              "      <td>NPP-375</td>\n",
              "      <td>Brasil</td>\n",
              "      <td>MATO GROSSO DO SUL</td>\n",
              "      <td>CORUMBA</td>\n",
              "      <td>Pantanal</td>\n",
              "      <td>8</td>\n",
              "      <td>0.0</td>\n",
              "      <td>1.0</td>\n",
              "      <td>-19.9664</td>\n",
              "      <td>-57.4599</td>\n",
              "      <td>NaN</td>\n",
              "    </tr>\n",
              "    <tr>\n",
              "      <th>3</th>\n",
              "      <td>2014/10/09 17:15:00</td>\n",
              "      <td>NPP-375</td>\n",
              "      <td>Brasil</td>\n",
              "      <td>MATO GROSSO DO SUL</td>\n",
              "      <td>CORUMBA</td>\n",
              "      <td>Pantanal</td>\n",
              "      <td>2</td>\n",
              "      <td>0.0</td>\n",
              "      <td>1.0</td>\n",
              "      <td>-19.8841</td>\n",
              "      <td>-57.3938</td>\n",
              "      <td>NaN</td>\n",
              "    </tr>\n",
              "    <tr>\n",
              "      <th>4</th>\n",
              "      <td>2014/10/15 17:02:00</td>\n",
              "      <td>NPP-375</td>\n",
              "      <td>Brasil</td>\n",
              "      <td>MATO GROSSO DO SUL</td>\n",
              "      <td>CORUMBA</td>\n",
              "      <td>Pantanal</td>\n",
              "      <td>8</td>\n",
              "      <td>0.0</td>\n",
              "      <td>1.0</td>\n",
              "      <td>-19.9342</td>\n",
              "      <td>-57.3920</td>\n",
              "      <td>NaN</td>\n",
              "    </tr>\n",
              "  </tbody>\n",
              "</table>\n",
              "</div>"
            ],
            "text/plain": [
              "              datahora  satelite    pais  ... latitude longitude frp\n",
              "0  2014/01/03 05:10:00  AQUA_M-M  Brasil  ... -19.4670  -56.3880 NaN\n",
              "1  2014/10/09 05:15:00  AQUA_M-M  Brasil  ... -16.2360  -58.5860 NaN\n",
              "2  2014/10/15 17:02:00   NPP-375  Brasil  ... -19.9664  -57.4599 NaN\n",
              "3  2014/10/09 17:15:00   NPP-375  Brasil  ... -19.8841  -57.3938 NaN\n",
              "4  2014/10/15 17:02:00   NPP-375  Brasil  ... -19.9342  -57.3920 NaN\n",
              "\n",
              "[5 rows x 12 columns]"
            ]
          },
          "metadata": {
            "tags": []
          },
          "execution_count": 11
        }
      ]
    },
    {
      "cell_type": "markdown",
      "metadata": {
        "id": "hBBCSvhXzTf2"
      },
      "source": [
        "**UNINDO OS 10 DATASETS**"
      ]
    },
    {
      "cell_type": "code",
      "metadata": {
        "id": "75nbklsnjeKF"
      },
      "source": [
        "#Unindo os 10 datasets\n",
        "df = pd.concat([df2012, df2013, df2014, df2015, df2016, df2017, df2018, df2019, df2020, df2021])"
      ],
      "execution_count": null,
      "outputs": []
    },
    {
      "cell_type": "markdown",
      "metadata": {
        "id": "kuGdOgIJzeUA"
      },
      "source": [
        "**n PRIMEIRAS LINHAS DO DATASET**"
      ]
    },
    {
      "cell_type": "code",
      "metadata": {
        "colab": {
          "base_uri": "https://localhost:8080/",
          "height": 195
        },
        "id": "-qOcDYOTksP0",
        "outputId": "57599f38-3006-4999-b7a0-bf73a2de2e7d"
      },
      "source": [
        "df.head() #primeiras linhas"
      ],
      "execution_count": null,
      "outputs": [
        {
          "output_type": "execute_result",
          "data": {
            "text/html": [
              "<div>\n",
              "<style scoped>\n",
              "    .dataframe tbody tr th:only-of-type {\n",
              "        vertical-align: middle;\n",
              "    }\n",
              "\n",
              "    .dataframe tbody tr th {\n",
              "        vertical-align: top;\n",
              "    }\n",
              "\n",
              "    .dataframe thead th {\n",
              "        text-align: right;\n",
              "    }\n",
              "</style>\n",
              "<table border=\"1\" class=\"dataframe\">\n",
              "  <thead>\n",
              "    <tr style=\"text-align: right;\">\n",
              "      <th></th>\n",
              "      <th>datahora</th>\n",
              "      <th>satelite</th>\n",
              "      <th>pais</th>\n",
              "      <th>estado</th>\n",
              "      <th>municipio</th>\n",
              "      <th>bioma</th>\n",
              "      <th>diasemchuva</th>\n",
              "      <th>precipitacao</th>\n",
              "      <th>riscofogo</th>\n",
              "      <th>latitude</th>\n",
              "      <th>longitude</th>\n",
              "      <th>frp</th>\n",
              "    </tr>\n",
              "  </thead>\n",
              "  <tbody>\n",
              "    <tr>\n",
              "      <th>0</th>\n",
              "      <td>2012/01/07 05:02:00</td>\n",
              "      <td>AQUA_M-M</td>\n",
              "      <td>Brasil</td>\n",
              "      <td>MATO GROSSO</td>\n",
              "      <td>POCONE</td>\n",
              "      <td>Pantanal</td>\n",
              "      <td>NaN</td>\n",
              "      <td>NaN</td>\n",
              "      <td>NaN</td>\n",
              "      <td>-17.138</td>\n",
              "      <td>-57.326</td>\n",
              "      <td>NaN</td>\n",
              "    </tr>\n",
              "    <tr>\n",
              "      <th>1</th>\n",
              "      <td>2012/01/07 05:02:00</td>\n",
              "      <td>AQUA_M-M</td>\n",
              "      <td>Brasil</td>\n",
              "      <td>MATO GROSSO</td>\n",
              "      <td>CACERES</td>\n",
              "      <td>Pantanal</td>\n",
              "      <td>NaN</td>\n",
              "      <td>NaN</td>\n",
              "      <td>NaN</td>\n",
              "      <td>-16.914</td>\n",
              "      <td>-57.693</td>\n",
              "      <td>NaN</td>\n",
              "    </tr>\n",
              "    <tr>\n",
              "      <th>2</th>\n",
              "      <td>2012/01/07 05:02:00</td>\n",
              "      <td>AQUA_M-M</td>\n",
              "      <td>Brasil</td>\n",
              "      <td>MATO GROSSO</td>\n",
              "      <td>POCONE</td>\n",
              "      <td>Pantanal</td>\n",
              "      <td>NaN</td>\n",
              "      <td>NaN</td>\n",
              "      <td>NaN</td>\n",
              "      <td>-17.118</td>\n",
              "      <td>-57.322</td>\n",
              "      <td>NaN</td>\n",
              "    </tr>\n",
              "    <tr>\n",
              "      <th>3</th>\n",
              "      <td>2012/01/07 05:02:00</td>\n",
              "      <td>AQUA_M-M</td>\n",
              "      <td>Brasil</td>\n",
              "      <td>MATO GROSSO</td>\n",
              "      <td>POCONE</td>\n",
              "      <td>Pantanal</td>\n",
              "      <td>NaN</td>\n",
              "      <td>NaN</td>\n",
              "      <td>NaN</td>\n",
              "      <td>-17.117</td>\n",
              "      <td>-57.327</td>\n",
              "      <td>NaN</td>\n",
              "    </tr>\n",
              "    <tr>\n",
              "      <th>4</th>\n",
              "      <td>2012/01/07 05:02:00</td>\n",
              "      <td>AQUA_M-M</td>\n",
              "      <td>Brasil</td>\n",
              "      <td>MATO GROSSO</td>\n",
              "      <td>CACERES</td>\n",
              "      <td>Pantanal</td>\n",
              "      <td>NaN</td>\n",
              "      <td>NaN</td>\n",
              "      <td>NaN</td>\n",
              "      <td>-16.901</td>\n",
              "      <td>-57.704</td>\n",
              "      <td>NaN</td>\n",
              "    </tr>\n",
              "  </tbody>\n",
              "</table>\n",
              "</div>"
            ],
            "text/plain": [
              "              datahora  satelite    pais  ... latitude longitude frp\n",
              "0  2012/01/07 05:02:00  AQUA_M-M  Brasil  ...  -17.138   -57.326 NaN\n",
              "1  2012/01/07 05:02:00  AQUA_M-M  Brasil  ...  -16.914   -57.693 NaN\n",
              "2  2012/01/07 05:02:00  AQUA_M-M  Brasil  ...  -17.118   -57.322 NaN\n",
              "3  2012/01/07 05:02:00  AQUA_M-M  Brasil  ...  -17.117   -57.327 NaN\n",
              "4  2012/01/07 05:02:00  AQUA_M-M  Brasil  ...  -16.901   -57.704 NaN\n",
              "\n",
              "[5 rows x 12 columns]"
            ]
          },
          "metadata": {
            "tags": []
          },
          "execution_count": 17
        }
      ]
    },
    {
      "cell_type": "markdown",
      "metadata": {
        "id": "qfcyj37fd8aj"
      },
      "source": [
        "**n ÚLTIMAS LINHAS DO DATASET**"
      ]
    },
    {
      "cell_type": "code",
      "metadata": {
        "colab": {
          "base_uri": "https://localhost:8080/",
          "height": 195
        },
        "id": "upDX8dd_k0Lv",
        "outputId": "97c8caf3-5520-4286-eda7-a49227ec0c67"
      },
      "source": [
        "df.tail() #últimas linhas"
      ],
      "execution_count": null,
      "outputs": [
        {
          "output_type": "execute_result",
          "data": {
            "text/html": [
              "<div>\n",
              "<style scoped>\n",
              "    .dataframe tbody tr th:only-of-type {\n",
              "        vertical-align: middle;\n",
              "    }\n",
              "\n",
              "    .dataframe tbody tr th {\n",
              "        vertical-align: top;\n",
              "    }\n",
              "\n",
              "    .dataframe thead th {\n",
              "        text-align: right;\n",
              "    }\n",
              "</style>\n",
              "<table border=\"1\" class=\"dataframe\">\n",
              "  <thead>\n",
              "    <tr style=\"text-align: right;\">\n",
              "      <th></th>\n",
              "      <th>datahora</th>\n",
              "      <th>satelite</th>\n",
              "      <th>pais</th>\n",
              "      <th>estado</th>\n",
              "      <th>municipio</th>\n",
              "      <th>bioma</th>\n",
              "      <th>diasemchuva</th>\n",
              "      <th>precipitacao</th>\n",
              "      <th>riscofogo</th>\n",
              "      <th>latitude</th>\n",
              "      <th>longitude</th>\n",
              "      <th>frp</th>\n",
              "    </tr>\n",
              "  </thead>\n",
              "  <tbody>\n",
              "    <tr>\n",
              "      <th>3903</th>\n",
              "      <td>2021/03/31 03:10:00</td>\n",
              "      <td>TERRA_M-M</td>\n",
              "      <td>Brasil</td>\n",
              "      <td>MATO GROSSO DO SUL</td>\n",
              "      <td>PORTO MURTINHO</td>\n",
              "      <td>Pantanal</td>\n",
              "      <td>3.0</td>\n",
              "      <td>0.0</td>\n",
              "      <td>0.2</td>\n",
              "      <td>-21.2760</td>\n",
              "      <td>-57.8400</td>\n",
              "      <td>55.0</td>\n",
              "    </tr>\n",
              "    <tr>\n",
              "      <th>3904</th>\n",
              "      <td>2021/03/31 03:10:00</td>\n",
              "      <td>TERRA_M-M</td>\n",
              "      <td>Brasil</td>\n",
              "      <td>MATO GROSSO DO SUL</td>\n",
              "      <td>PORTO MURTINHO</td>\n",
              "      <td>Pantanal</td>\n",
              "      <td>3.0</td>\n",
              "      <td>0.0</td>\n",
              "      <td>0.2</td>\n",
              "      <td>-21.2640</td>\n",
              "      <td>-57.8360</td>\n",
              "      <td>68.3</td>\n",
              "    </tr>\n",
              "    <tr>\n",
              "      <th>3905</th>\n",
              "      <td>2021/03/31 04:42:00</td>\n",
              "      <td>NOAA-20</td>\n",
              "      <td>Brasil</td>\n",
              "      <td>MATO GROSSO DO SUL</td>\n",
              "      <td>PORTO MURTINHO</td>\n",
              "      <td>Pantanal</td>\n",
              "      <td>3.0</td>\n",
              "      <td>0.0</td>\n",
              "      <td>0.2</td>\n",
              "      <td>-21.2743</td>\n",
              "      <td>-57.8375</td>\n",
              "      <td>3.2</td>\n",
              "    </tr>\n",
              "    <tr>\n",
              "      <th>3906</th>\n",
              "      <td>2021/03/31 04:42:00</td>\n",
              "      <td>NOAA-20</td>\n",
              "      <td>Brasil</td>\n",
              "      <td>MATO GROSSO DO SUL</td>\n",
              "      <td>RIO VERDE DE MATO GROSSO</td>\n",
              "      <td>Pantanal</td>\n",
              "      <td>7.0</td>\n",
              "      <td>0.0</td>\n",
              "      <td>0.4</td>\n",
              "      <td>-18.6196</td>\n",
              "      <td>-55.2020</td>\n",
              "      <td>8.9</td>\n",
              "    </tr>\n",
              "    <tr>\n",
              "      <th>3907</th>\n",
              "      <td>2021/03/31 04:42:00</td>\n",
              "      <td>NOAA-20</td>\n",
              "      <td>Brasil</td>\n",
              "      <td>MATO GROSSO DO SUL</td>\n",
              "      <td>RIO VERDE DE MATO GROSSO</td>\n",
              "      <td>Pantanal</td>\n",
              "      <td>7.0</td>\n",
              "      <td>0.0</td>\n",
              "      <td>0.1</td>\n",
              "      <td>-18.6295</td>\n",
              "      <td>-55.2082</td>\n",
              "      <td>2.3</td>\n",
              "    </tr>\n",
              "  </tbody>\n",
              "</table>\n",
              "</div>"
            ],
            "text/plain": [
              "                 datahora   satelite    pais  ... latitude longitude   frp\n",
              "3903  2021/03/31 03:10:00  TERRA_M-M  Brasil  ... -21.2760  -57.8400  55.0\n",
              "3904  2021/03/31 03:10:00  TERRA_M-M  Brasil  ... -21.2640  -57.8360  68.3\n",
              "3905  2021/03/31 04:42:00    NOAA-20  Brasil  ... -21.2743  -57.8375   3.2\n",
              "3906  2021/03/31 04:42:00    NOAA-20  Brasil  ... -18.6196  -55.2020   8.9\n",
              "3907  2021/03/31 04:42:00    NOAA-20  Brasil  ... -18.6295  -55.2082   2.3\n",
              "\n",
              "[5 rows x 12 columns]"
            ]
          },
          "metadata": {
            "tags": []
          },
          "execution_count": 18
        }
      ]
    },
    {
      "cell_type": "markdown",
      "metadata": {
        "id": "IulaqivpywME"
      },
      "source": [
        "**TAMANHO DO DATASET**"
      ]
    },
    {
      "cell_type": "code",
      "metadata": {
        "colab": {
          "base_uri": "https://localhost:8080/"
        },
        "id": "eIGipaXslmhp",
        "outputId": "43006394-fd96-4968-bc27-c87710159dd3"
      },
      "source": [
        "print(f'Tamanho do Dataframe: {df.shape[0]} linhas e {df.shape[1]} colunas') # Descreve o tamanho do dataframe em uma tupla"
      ],
      "execution_count": null,
      "outputs": [
        {
          "output_type": "stream",
          "text": [
            "Tamanho do Dataframe: 1331375 linhas e 12 colunas\n"
          ],
          "name": "stdout"
        }
      ]
    },
    {
      "cell_type": "markdown",
      "metadata": {
        "id": "D0nORowWy3qk"
      },
      "source": [
        "**INFORMAÇÕES GERAIS DO DATASET**"
      ]
    },
    {
      "cell_type": "code",
      "metadata": {
        "colab": {
          "base_uri": "https://localhost:8080/",
          "height": 284
        },
        "id": "SCbfTXUxlZnz",
        "outputId": "d1b3fa27-611b-4c5f-89e9-84959d761f20"
      },
      "source": [
        "df.describe().round(2) # Resume e descreve algumas operações gerais do Dataset. Round(2) arredonda para 2 casas decimais."
      ],
      "execution_count": null,
      "outputs": [
        {
          "output_type": "execute_result",
          "data": {
            "text/html": [
              "<div>\n",
              "<style scoped>\n",
              "    .dataframe tbody tr th:only-of-type {\n",
              "        vertical-align: middle;\n",
              "    }\n",
              "\n",
              "    .dataframe tbody tr th {\n",
              "        vertical-align: top;\n",
              "    }\n",
              "\n",
              "    .dataframe thead th {\n",
              "        text-align: right;\n",
              "    }\n",
              "</style>\n",
              "<table border=\"1\" class=\"dataframe\">\n",
              "  <thead>\n",
              "    <tr style=\"text-align: right;\">\n",
              "      <th></th>\n",
              "      <th>diasemchuva</th>\n",
              "      <th>precipitacao</th>\n",
              "      <th>riscofogo</th>\n",
              "      <th>latitude</th>\n",
              "      <th>longitude</th>\n",
              "      <th>frp</th>\n",
              "    </tr>\n",
              "  </thead>\n",
              "  <tbody>\n",
              "    <tr>\n",
              "      <th>count</th>\n",
              "      <td>1183732.00</td>\n",
              "      <td>1183732.00</td>\n",
              "      <td>1183732.00</td>\n",
              "      <td>1331375.00</td>\n",
              "      <td>1331375.00</td>\n",
              "      <td>377209.00</td>\n",
              "    </tr>\n",
              "    <tr>\n",
              "      <th>mean</th>\n",
              "      <td>14.46</td>\n",
              "      <td>0.77</td>\n",
              "      <td>-21.07</td>\n",
              "      <td>-18.03</td>\n",
              "      <td>-56.98</td>\n",
              "      <td>26.49</td>\n",
              "    </tr>\n",
              "    <tr>\n",
              "      <th>std</th>\n",
              "      <td>18.47</td>\n",
              "      <td>3.71</td>\n",
              "      <td>146.19</td>\n",
              "      <td>1.33</td>\n",
              "      <td>0.76</td>\n",
              "      <td>71.06</td>\n",
              "    </tr>\n",
              "    <tr>\n",
              "      <th>min</th>\n",
              "      <td>0.00</td>\n",
              "      <td>0.00</td>\n",
              "      <td>-999.00</td>\n",
              "      <td>-22.14</td>\n",
              "      <td>-59.18</td>\n",
              "      <td>0.00</td>\n",
              "    </tr>\n",
              "    <tr>\n",
              "      <th>25%</th>\n",
              "      <td>3.00</td>\n",
              "      <td>0.00</td>\n",
              "      <td>0.60</td>\n",
              "      <td>-19.12</td>\n",
              "      <td>-57.52</td>\n",
              "      <td>4.30</td>\n",
              "    </tr>\n",
              "    <tr>\n",
              "      <th>50%</th>\n",
              "      <td>8.00</td>\n",
              "      <td>0.00</td>\n",
              "      <td>1.00</td>\n",
              "      <td>-17.63</td>\n",
              "      <td>-57.18</td>\n",
              "      <td>9.70</td>\n",
              "    </tr>\n",
              "    <tr>\n",
              "      <th>75%</th>\n",
              "      <td>19.00</td>\n",
              "      <td>0.00</td>\n",
              "      <td>1.00</td>\n",
              "      <td>-16.96</td>\n",
              "      <td>-56.38</td>\n",
              "      <td>23.70</td>\n",
              "    </tr>\n",
              "    <tr>\n",
              "      <th>max</th>\n",
              "      <td>119.00</td>\n",
              "      <td>138.00</td>\n",
              "      <td>1.00</td>\n",
              "      <td>-15.53</td>\n",
              "      <td>-54.92</td>\n",
              "      <td>4196.50</td>\n",
              "    </tr>\n",
              "  </tbody>\n",
              "</table>\n",
              "</div>"
            ],
            "text/plain": [
              "       diasemchuva  precipitacao   riscofogo    latitude   longitude        frp\n",
              "count   1183732.00    1183732.00  1183732.00  1331375.00  1331375.00  377209.00\n",
              "mean         14.46          0.77      -21.07      -18.03      -56.98      26.49\n",
              "std          18.47          3.71      146.19        1.33        0.76      71.06\n",
              "min           0.00          0.00     -999.00      -22.14      -59.18       0.00\n",
              "25%           3.00          0.00        0.60      -19.12      -57.52       4.30\n",
              "50%           8.00          0.00        1.00      -17.63      -57.18       9.70\n",
              "75%          19.00          0.00        1.00      -16.96      -56.38      23.70\n",
              "max         119.00        138.00        1.00      -15.53      -54.92    4196.50"
            ]
          },
          "metadata": {
            "tags": []
          },
          "execution_count": 20
        }
      ]
    },
    {
      "cell_type": "markdown",
      "metadata": {
        "id": "1APoKEM-4Njd"
      },
      "source": [
        "**FAZENDO A MÉDIA DE UMA COLUNA ESCOLHIDA**"
      ]
    },
    {
      "cell_type": "code",
      "metadata": {
        "colab": {
          "base_uri": "https://localhost:8080/"
        },
        "id": "oqOXzue-uxCE",
        "outputId": "a06cf6f3-539e-46de-8502-dac5b23c6f0c"
      },
      "source": [
        "df = pd.DataFrame(df)\n",
        "mean_df = df['riscofogo'].mean()\n",
        "print(mean_df)"
      ],
      "execution_count": null,
      "outputs": [
        {
          "output_type": "stream",
          "text": [
            "-21.07365805776664\n"
          ],
          "name": "stdout"
        }
      ]
    },
    {
      "cell_type": "code",
      "metadata": {
        "colab": {
          "base_uri": "https://localhost:8080/"
        },
        "id": "kZNq60Y3v5sN",
        "outputId": "b134818d-5aea-49ac-c322-b41100e2e009"
      },
      "source": [
        "print(df.riscofogo.count()) #Contagem de dados não-nulos de uma coluna específica"
      ],
      "execution_count": null,
      "outputs": [
        {
          "output_type": "stream",
          "text": [
            "1183732\n"
          ],
          "name": "stdout"
        }
      ]
    },
    {
      "cell_type": "code",
      "metadata": {
        "colab": {
          "base_uri": "https://localhost:8080/"
        },
        "id": "5lStfzxEwb-s",
        "outputId": "bade5d01-196d-482d-e38f-10e1649cf9fb"
      },
      "source": [
        "print(df['riscofogo'].isna().sum()) #Contagem de dados nulos de uma coluna específica"
      ],
      "execution_count": null,
      "outputs": [
        {
          "output_type": "stream",
          "text": [
            "147643\n"
          ],
          "name": "stdout"
        }
      ]
    },
    {
      "cell_type": "markdown",
      "metadata": {
        "id": "xVcGaY7M3M_B"
      },
      "source": [
        "**SEPARANDO DATA E HORA - PARTE 1 - Transformando a coluna para datetime**"
      ]
    },
    {
      "cell_type": "code",
      "metadata": {
        "id": "aaZmb77t1Vcl"
      },
      "source": [
        "df['datahora'] = pd.to_datetime(df['datahora'])"
      ],
      "execution_count": null,
      "outputs": []
    },
    {
      "cell_type": "markdown",
      "metadata": {
        "id": "nTmT2Clm3qZs"
      },
      "source": [
        "**SEPARANDO DATA E HORA - PARTE 2**"
      ]
    },
    {
      "cell_type": "code",
      "metadata": {
        "id": "XNaGZB_02bPp"
      },
      "source": [
        "# Coluna 'Data'\n",
        "df['Data'] = df['datahora'].dt.strftime('%Y-%m-%d')\n",
        "# Coluna 'Hora'\n",
        "df['Hora'] = df['datahora'].dt.strftime('%H:%M:%S')"
      ],
      "execution_count": null,
      "outputs": []
    },
    {
      "cell_type": "code",
      "metadata": {
        "colab": {
          "base_uri": "https://localhost:8080/",
          "height": 195
        },
        "id": "xA1FwC6_2x4f",
        "outputId": "6f5c32cf-bfa2-4c32-f698-348f37bd0195"
      },
      "source": [
        "df.head(5)"
      ],
      "execution_count": null,
      "outputs": [
        {
          "output_type": "execute_result",
          "data": {
            "text/html": [
              "<div>\n",
              "<style scoped>\n",
              "    .dataframe tbody tr th:only-of-type {\n",
              "        vertical-align: middle;\n",
              "    }\n",
              "\n",
              "    .dataframe tbody tr th {\n",
              "        vertical-align: top;\n",
              "    }\n",
              "\n",
              "    .dataframe thead th {\n",
              "        text-align: right;\n",
              "    }\n",
              "</style>\n",
              "<table border=\"1\" class=\"dataframe\">\n",
              "  <thead>\n",
              "    <tr style=\"text-align: right;\">\n",
              "      <th></th>\n",
              "      <th>datahora</th>\n",
              "      <th>satelite</th>\n",
              "      <th>pais</th>\n",
              "      <th>estado</th>\n",
              "      <th>municipio</th>\n",
              "      <th>bioma</th>\n",
              "      <th>diasemchuva</th>\n",
              "      <th>precipitacao</th>\n",
              "      <th>riscofogo</th>\n",
              "      <th>latitude</th>\n",
              "      <th>longitude</th>\n",
              "      <th>frp</th>\n",
              "      <th>Data</th>\n",
              "      <th>Hora</th>\n",
              "    </tr>\n",
              "  </thead>\n",
              "  <tbody>\n",
              "    <tr>\n",
              "      <th>0</th>\n",
              "      <td>2012-01-07 05:02:00</td>\n",
              "      <td>AQUA_M-M</td>\n",
              "      <td>Brasil</td>\n",
              "      <td>MATO GROSSO</td>\n",
              "      <td>POCONE</td>\n",
              "      <td>Pantanal</td>\n",
              "      <td>NaN</td>\n",
              "      <td>NaN</td>\n",
              "      <td>NaN</td>\n",
              "      <td>-17.138</td>\n",
              "      <td>-57.326</td>\n",
              "      <td>NaN</td>\n",
              "      <td>2012-01-07</td>\n",
              "      <td>05:02:00</td>\n",
              "    </tr>\n",
              "    <tr>\n",
              "      <th>1</th>\n",
              "      <td>2012-01-07 05:02:00</td>\n",
              "      <td>AQUA_M-M</td>\n",
              "      <td>Brasil</td>\n",
              "      <td>MATO GROSSO</td>\n",
              "      <td>CACERES</td>\n",
              "      <td>Pantanal</td>\n",
              "      <td>NaN</td>\n",
              "      <td>NaN</td>\n",
              "      <td>NaN</td>\n",
              "      <td>-16.914</td>\n",
              "      <td>-57.693</td>\n",
              "      <td>NaN</td>\n",
              "      <td>2012-01-07</td>\n",
              "      <td>05:02:00</td>\n",
              "    </tr>\n",
              "    <tr>\n",
              "      <th>2</th>\n",
              "      <td>2012-01-07 05:02:00</td>\n",
              "      <td>AQUA_M-M</td>\n",
              "      <td>Brasil</td>\n",
              "      <td>MATO GROSSO</td>\n",
              "      <td>POCONE</td>\n",
              "      <td>Pantanal</td>\n",
              "      <td>NaN</td>\n",
              "      <td>NaN</td>\n",
              "      <td>NaN</td>\n",
              "      <td>-17.118</td>\n",
              "      <td>-57.322</td>\n",
              "      <td>NaN</td>\n",
              "      <td>2012-01-07</td>\n",
              "      <td>05:02:00</td>\n",
              "    </tr>\n",
              "    <tr>\n",
              "      <th>3</th>\n",
              "      <td>2012-01-07 05:02:00</td>\n",
              "      <td>AQUA_M-M</td>\n",
              "      <td>Brasil</td>\n",
              "      <td>MATO GROSSO</td>\n",
              "      <td>POCONE</td>\n",
              "      <td>Pantanal</td>\n",
              "      <td>NaN</td>\n",
              "      <td>NaN</td>\n",
              "      <td>NaN</td>\n",
              "      <td>-17.117</td>\n",
              "      <td>-57.327</td>\n",
              "      <td>NaN</td>\n",
              "      <td>2012-01-07</td>\n",
              "      <td>05:02:00</td>\n",
              "    </tr>\n",
              "    <tr>\n",
              "      <th>4</th>\n",
              "      <td>2012-01-07 05:02:00</td>\n",
              "      <td>AQUA_M-M</td>\n",
              "      <td>Brasil</td>\n",
              "      <td>MATO GROSSO</td>\n",
              "      <td>CACERES</td>\n",
              "      <td>Pantanal</td>\n",
              "      <td>NaN</td>\n",
              "      <td>NaN</td>\n",
              "      <td>NaN</td>\n",
              "      <td>-16.901</td>\n",
              "      <td>-57.704</td>\n",
              "      <td>NaN</td>\n",
              "      <td>2012-01-07</td>\n",
              "      <td>05:02:00</td>\n",
              "    </tr>\n",
              "  </tbody>\n",
              "</table>\n",
              "</div>"
            ],
            "text/plain": [
              "             datahora  satelite    pais  ... frp        Data      Hora\n",
              "0 2012-01-07 05:02:00  AQUA_M-M  Brasil  ... NaN  2012-01-07  05:02:00\n",
              "1 2012-01-07 05:02:00  AQUA_M-M  Brasil  ... NaN  2012-01-07  05:02:00\n",
              "2 2012-01-07 05:02:00  AQUA_M-M  Brasil  ... NaN  2012-01-07  05:02:00\n",
              "3 2012-01-07 05:02:00  AQUA_M-M  Brasil  ... NaN  2012-01-07  05:02:00\n",
              "4 2012-01-07 05:02:00  AQUA_M-M  Brasil  ... NaN  2012-01-07  05:02:00\n",
              "\n",
              "[5 rows x 14 columns]"
            ]
          },
          "metadata": {
            "tags": []
          },
          "execution_count": 26
        }
      ]
    },
    {
      "cell_type": "markdown",
      "metadata": {
        "id": "NLvWPRvb3urw"
      },
      "source": [
        "**DELETANDO A COLUNA datahora**\n"
      ]
    },
    {
      "cell_type": "code",
      "metadata": {
        "id": "JjmbRJvX3uM8"
      },
      "source": [
        "# Remove a coluna 'Data e Hora'\n",
        "del df['datahora']"
      ],
      "execution_count": null,
      "outputs": []
    },
    {
      "cell_type": "code",
      "metadata": {
        "colab": {
          "base_uri": "https://localhost:8080/",
          "height": 195
        },
        "id": "qe-HJTbz3KxQ",
        "outputId": "aca5a720-cb7c-4d21-e944-154a4f56af86"
      },
      "source": [
        "df.head(5)"
      ],
      "execution_count": null,
      "outputs": [
        {
          "output_type": "execute_result",
          "data": {
            "text/html": [
              "<div>\n",
              "<style scoped>\n",
              "    .dataframe tbody tr th:only-of-type {\n",
              "        vertical-align: middle;\n",
              "    }\n",
              "\n",
              "    .dataframe tbody tr th {\n",
              "        vertical-align: top;\n",
              "    }\n",
              "\n",
              "    .dataframe thead th {\n",
              "        text-align: right;\n",
              "    }\n",
              "</style>\n",
              "<table border=\"1\" class=\"dataframe\">\n",
              "  <thead>\n",
              "    <tr style=\"text-align: right;\">\n",
              "      <th></th>\n",
              "      <th>satelite</th>\n",
              "      <th>pais</th>\n",
              "      <th>estado</th>\n",
              "      <th>municipio</th>\n",
              "      <th>bioma</th>\n",
              "      <th>diasemchuva</th>\n",
              "      <th>precipitacao</th>\n",
              "      <th>riscofogo</th>\n",
              "      <th>latitude</th>\n",
              "      <th>longitude</th>\n",
              "      <th>frp</th>\n",
              "      <th>Data</th>\n",
              "      <th>Hora</th>\n",
              "    </tr>\n",
              "  </thead>\n",
              "  <tbody>\n",
              "    <tr>\n",
              "      <th>0</th>\n",
              "      <td>AQUA_M-M</td>\n",
              "      <td>Brasil</td>\n",
              "      <td>MATO GROSSO</td>\n",
              "      <td>POCONE</td>\n",
              "      <td>Pantanal</td>\n",
              "      <td>NaN</td>\n",
              "      <td>NaN</td>\n",
              "      <td>NaN</td>\n",
              "      <td>-17.138</td>\n",
              "      <td>-57.326</td>\n",
              "      <td>NaN</td>\n",
              "      <td>2012-01-07</td>\n",
              "      <td>05:02:00</td>\n",
              "    </tr>\n",
              "    <tr>\n",
              "      <th>1</th>\n",
              "      <td>AQUA_M-M</td>\n",
              "      <td>Brasil</td>\n",
              "      <td>MATO GROSSO</td>\n",
              "      <td>CACERES</td>\n",
              "      <td>Pantanal</td>\n",
              "      <td>NaN</td>\n",
              "      <td>NaN</td>\n",
              "      <td>NaN</td>\n",
              "      <td>-16.914</td>\n",
              "      <td>-57.693</td>\n",
              "      <td>NaN</td>\n",
              "      <td>2012-01-07</td>\n",
              "      <td>05:02:00</td>\n",
              "    </tr>\n",
              "    <tr>\n",
              "      <th>2</th>\n",
              "      <td>AQUA_M-M</td>\n",
              "      <td>Brasil</td>\n",
              "      <td>MATO GROSSO</td>\n",
              "      <td>POCONE</td>\n",
              "      <td>Pantanal</td>\n",
              "      <td>NaN</td>\n",
              "      <td>NaN</td>\n",
              "      <td>NaN</td>\n",
              "      <td>-17.118</td>\n",
              "      <td>-57.322</td>\n",
              "      <td>NaN</td>\n",
              "      <td>2012-01-07</td>\n",
              "      <td>05:02:00</td>\n",
              "    </tr>\n",
              "    <tr>\n",
              "      <th>3</th>\n",
              "      <td>AQUA_M-M</td>\n",
              "      <td>Brasil</td>\n",
              "      <td>MATO GROSSO</td>\n",
              "      <td>POCONE</td>\n",
              "      <td>Pantanal</td>\n",
              "      <td>NaN</td>\n",
              "      <td>NaN</td>\n",
              "      <td>NaN</td>\n",
              "      <td>-17.117</td>\n",
              "      <td>-57.327</td>\n",
              "      <td>NaN</td>\n",
              "      <td>2012-01-07</td>\n",
              "      <td>05:02:00</td>\n",
              "    </tr>\n",
              "    <tr>\n",
              "      <th>4</th>\n",
              "      <td>AQUA_M-M</td>\n",
              "      <td>Brasil</td>\n",
              "      <td>MATO GROSSO</td>\n",
              "      <td>CACERES</td>\n",
              "      <td>Pantanal</td>\n",
              "      <td>NaN</td>\n",
              "      <td>NaN</td>\n",
              "      <td>NaN</td>\n",
              "      <td>-16.901</td>\n",
              "      <td>-57.704</td>\n",
              "      <td>NaN</td>\n",
              "      <td>2012-01-07</td>\n",
              "      <td>05:02:00</td>\n",
              "    </tr>\n",
              "  </tbody>\n",
              "</table>\n",
              "</div>"
            ],
            "text/plain": [
              "   satelite    pais       estado  ... frp        Data      Hora\n",
              "0  AQUA_M-M  Brasil  MATO GROSSO  ... NaN  2012-01-07  05:02:00\n",
              "1  AQUA_M-M  Brasil  MATO GROSSO  ... NaN  2012-01-07  05:02:00\n",
              "2  AQUA_M-M  Brasil  MATO GROSSO  ... NaN  2012-01-07  05:02:00\n",
              "3  AQUA_M-M  Brasil  MATO GROSSO  ... NaN  2012-01-07  05:02:00\n",
              "4  AQUA_M-M  Brasil  MATO GROSSO  ... NaN  2012-01-07  05:02:00\n",
              "\n",
              "[5 rows x 13 columns]"
            ]
          },
          "metadata": {
            "tags": []
          },
          "execution_count": 28
        }
      ]
    },
    {
      "cell_type": "markdown",
      "metadata": {
        "id": "Jn7WXKSz5vsA"
      },
      "source": [
        "**RETIRANDO AS LINHAS COM riscofogo = NaN**"
      ]
    },
    {
      "cell_type": "code",
      "metadata": {
        "id": "xztHV3p35fYc"
      },
      "source": [
        "df = df.dropna(subset=[\"riscofogo\"])"
      ],
      "execution_count": null,
      "outputs": []
    },
    {
      "cell_type": "code",
      "metadata": {
        "colab": {
          "base_uri": "https://localhost:8080/",
          "height": 195
        },
        "id": "kmsrb0U85oj1",
        "outputId": "1e779f9e-7e3c-47cc-b0d2-9fdabd58dfdb"
      },
      "source": [
        "df.head(5)"
      ],
      "execution_count": null,
      "outputs": [
        {
          "output_type": "execute_result",
          "data": {
            "text/html": [
              "<div>\n",
              "<style scoped>\n",
              "    .dataframe tbody tr th:only-of-type {\n",
              "        vertical-align: middle;\n",
              "    }\n",
              "\n",
              "    .dataframe tbody tr th {\n",
              "        vertical-align: top;\n",
              "    }\n",
              "\n",
              "    .dataframe thead th {\n",
              "        text-align: right;\n",
              "    }\n",
              "</style>\n",
              "<table border=\"1\" class=\"dataframe\">\n",
              "  <thead>\n",
              "    <tr style=\"text-align: right;\">\n",
              "      <th></th>\n",
              "      <th>satelite</th>\n",
              "      <th>pais</th>\n",
              "      <th>estado</th>\n",
              "      <th>municipio</th>\n",
              "      <th>bioma</th>\n",
              "      <th>diasemchuva</th>\n",
              "      <th>precipitacao</th>\n",
              "      <th>riscofogo</th>\n",
              "      <th>latitude</th>\n",
              "      <th>longitude</th>\n",
              "      <th>frp</th>\n",
              "      <th>Data</th>\n",
              "      <th>Hora</th>\n",
              "    </tr>\n",
              "  </thead>\n",
              "  <tbody>\n",
              "    <tr>\n",
              "      <th>0</th>\n",
              "      <td>AQUA_M-M</td>\n",
              "      <td>Brasil</td>\n",
              "      <td>MATO GROSSO DO SUL</td>\n",
              "      <td>AQUIDAUANA</td>\n",
              "      <td>Pantanal</td>\n",
              "      <td>4.0</td>\n",
              "      <td>0.0</td>\n",
              "      <td>0.2</td>\n",
              "      <td>-19.4670</td>\n",
              "      <td>-56.3880</td>\n",
              "      <td>NaN</td>\n",
              "      <td>2014-01-03</td>\n",
              "      <td>05:10:00</td>\n",
              "    </tr>\n",
              "    <tr>\n",
              "      <th>1</th>\n",
              "      <td>AQUA_M-M</td>\n",
              "      <td>Brasil</td>\n",
              "      <td>MATO GROSSO</td>\n",
              "      <td>CACERES</td>\n",
              "      <td>Pantanal</td>\n",
              "      <td>2.0</td>\n",
              "      <td>0.0</td>\n",
              "      <td>0.9</td>\n",
              "      <td>-16.2360</td>\n",
              "      <td>-58.5860</td>\n",
              "      <td>NaN</td>\n",
              "      <td>2014-10-09</td>\n",
              "      <td>05:15:00</td>\n",
              "    </tr>\n",
              "    <tr>\n",
              "      <th>2</th>\n",
              "      <td>NPP-375</td>\n",
              "      <td>Brasil</td>\n",
              "      <td>MATO GROSSO DO SUL</td>\n",
              "      <td>CORUMBA</td>\n",
              "      <td>Pantanal</td>\n",
              "      <td>8.0</td>\n",
              "      <td>0.0</td>\n",
              "      <td>1.0</td>\n",
              "      <td>-19.9664</td>\n",
              "      <td>-57.4599</td>\n",
              "      <td>NaN</td>\n",
              "      <td>2014-10-15</td>\n",
              "      <td>17:02:00</td>\n",
              "    </tr>\n",
              "    <tr>\n",
              "      <th>3</th>\n",
              "      <td>NPP-375</td>\n",
              "      <td>Brasil</td>\n",
              "      <td>MATO GROSSO DO SUL</td>\n",
              "      <td>CORUMBA</td>\n",
              "      <td>Pantanal</td>\n",
              "      <td>2.0</td>\n",
              "      <td>0.0</td>\n",
              "      <td>1.0</td>\n",
              "      <td>-19.8841</td>\n",
              "      <td>-57.3938</td>\n",
              "      <td>NaN</td>\n",
              "      <td>2014-10-09</td>\n",
              "      <td>17:15:00</td>\n",
              "    </tr>\n",
              "    <tr>\n",
              "      <th>4</th>\n",
              "      <td>NPP-375</td>\n",
              "      <td>Brasil</td>\n",
              "      <td>MATO GROSSO DO SUL</td>\n",
              "      <td>CORUMBA</td>\n",
              "      <td>Pantanal</td>\n",
              "      <td>8.0</td>\n",
              "      <td>0.0</td>\n",
              "      <td>1.0</td>\n",
              "      <td>-19.9342</td>\n",
              "      <td>-57.3920</td>\n",
              "      <td>NaN</td>\n",
              "      <td>2014-10-15</td>\n",
              "      <td>17:02:00</td>\n",
              "    </tr>\n",
              "  </tbody>\n",
              "</table>\n",
              "</div>"
            ],
            "text/plain": [
              "   satelite    pais              estado  ... frp        Data      Hora\n",
              "0  AQUA_M-M  Brasil  MATO GROSSO DO SUL  ... NaN  2014-01-03  05:10:00\n",
              "1  AQUA_M-M  Brasil         MATO GROSSO  ... NaN  2014-10-09  05:15:00\n",
              "2   NPP-375  Brasil  MATO GROSSO DO SUL  ... NaN  2014-10-15  17:02:00\n",
              "3   NPP-375  Brasil  MATO GROSSO DO SUL  ... NaN  2014-10-09  17:15:00\n",
              "4   NPP-375  Brasil  MATO GROSSO DO SUL  ... NaN  2014-10-15  17:02:00\n",
              "\n",
              "[5 rows x 13 columns]"
            ]
          },
          "metadata": {
            "tags": []
          },
          "execution_count": 30
        }
      ]
    },
    {
      "cell_type": "markdown",
      "metadata": {
        "id": "00o0QbAx5-iq"
      },
      "source": [
        "**TAMANHO DO DATASET APÓS PRIMEIRA LIMPEZA**"
      ]
    },
    {
      "cell_type": "code",
      "metadata": {
        "colab": {
          "base_uri": "https://localhost:8080/"
        },
        "id": "uJJgNBNO6H14",
        "outputId": "7c9fb0ea-924f-4626-a8db-37c09c108345"
      },
      "source": [
        "print(f'Tamanho do Dataframe: {df.shape[0]} linhas e {df.shape[1]} colunas') # Descreve o tamanho do dataframe em uma tupla"
      ],
      "execution_count": null,
      "outputs": [
        {
          "output_type": "stream",
          "text": [
            "Tamanho do Dataframe: 1183732 linhas e 13 colunas\n"
          ],
          "name": "stdout"
        }
      ]
    },
    {
      "cell_type": "markdown",
      "metadata": {
        "id": "oRieBr1RAeh6"
      },
      "source": [
        "**Informação sobre Risco Fogo**\n",
        "*   Mínimo, abaixo de 0,15;\n",
        "*   Baixo, de 0,15 a 0,4;\n",
        "*   Médio, de 0,4 a 0,7;\n",
        "*   Alto, de 0,7 a 0,95 e;\n",
        "*   Crítico, acima de 0.95."
      ]
    },
    {
      "cell_type": "markdown",
      "metadata": {
        "id": "52dfXaQ5cXZb"
      },
      "source": [
        "**CRIANDO TUPLA (LATITUDE,LONGITUDE)**"
      ]
    },
    {
      "cell_type": "code",
      "metadata": {
        "id": "Shr6q8uZavZS"
      },
      "source": [
        "df['coordenadas_mapa'] = list(zip(df.latitude, df.longitude))"
      ],
      "execution_count": null,
      "outputs": []
    },
    {
      "cell_type": "code",
      "metadata": {
        "colab": {
          "base_uri": "https://localhost:8080/"
        },
        "id": "JWnimKR4b4B4",
        "outputId": "d9a834aa-86c7-4788-e93c-bc2a5e2fb939"
      },
      "source": [
        "print(f'Tamanho do Dataframe: {df.shape[0]} linhas e {df.shape[1]} colunas') # Descreve o tamanho do dataframe em uma tupla"
      ],
      "execution_count": null,
      "outputs": [
        {
          "output_type": "stream",
          "text": [
            "Tamanho do Dataframe: 1183732 linhas e 14 colunas\n"
          ],
          "name": "stdout"
        }
      ]
    },
    {
      "cell_type": "code",
      "metadata": {
        "colab": {
          "base_uri": "https://localhost:8080/",
          "height": 195
        },
        "id": "F9Ucu78lb_vJ",
        "outputId": "d48b6b57-ca9d-4a74-8ad7-f5eaeb663dba"
      },
      "source": [
        "df.head(5)"
      ],
      "execution_count": null,
      "outputs": [
        {
          "output_type": "execute_result",
          "data": {
            "text/html": [
              "<div>\n",
              "<style scoped>\n",
              "    .dataframe tbody tr th:only-of-type {\n",
              "        vertical-align: middle;\n",
              "    }\n",
              "\n",
              "    .dataframe tbody tr th {\n",
              "        vertical-align: top;\n",
              "    }\n",
              "\n",
              "    .dataframe thead th {\n",
              "        text-align: right;\n",
              "    }\n",
              "</style>\n",
              "<table border=\"1\" class=\"dataframe\">\n",
              "  <thead>\n",
              "    <tr style=\"text-align: right;\">\n",
              "      <th></th>\n",
              "      <th>satelite</th>\n",
              "      <th>pais</th>\n",
              "      <th>estado</th>\n",
              "      <th>municipio</th>\n",
              "      <th>bioma</th>\n",
              "      <th>diasemchuva</th>\n",
              "      <th>precipitacao</th>\n",
              "      <th>riscofogo</th>\n",
              "      <th>latitude</th>\n",
              "      <th>longitude</th>\n",
              "      <th>frp</th>\n",
              "      <th>Data</th>\n",
              "      <th>Hora</th>\n",
              "      <th>coordenadas_mapa</th>\n",
              "    </tr>\n",
              "  </thead>\n",
              "  <tbody>\n",
              "    <tr>\n",
              "      <th>0</th>\n",
              "      <td>AQUA_M-M</td>\n",
              "      <td>Brasil</td>\n",
              "      <td>MATO GROSSO DO SUL</td>\n",
              "      <td>AQUIDAUANA</td>\n",
              "      <td>Pantanal</td>\n",
              "      <td>4.0</td>\n",
              "      <td>0.0</td>\n",
              "      <td>0.2</td>\n",
              "      <td>-19.4670</td>\n",
              "      <td>-56.3880</td>\n",
              "      <td>NaN</td>\n",
              "      <td>2014-01-03</td>\n",
              "      <td>05:10:00</td>\n",
              "      <td>(-19.467, -56.388)</td>\n",
              "    </tr>\n",
              "    <tr>\n",
              "      <th>1</th>\n",
              "      <td>AQUA_M-M</td>\n",
              "      <td>Brasil</td>\n",
              "      <td>MATO GROSSO</td>\n",
              "      <td>CACERES</td>\n",
              "      <td>Pantanal</td>\n",
              "      <td>2.0</td>\n",
              "      <td>0.0</td>\n",
              "      <td>0.9</td>\n",
              "      <td>-16.2360</td>\n",
              "      <td>-58.5860</td>\n",
              "      <td>NaN</td>\n",
              "      <td>2014-10-09</td>\n",
              "      <td>05:15:00</td>\n",
              "      <td>(-16.236, -58.586)</td>\n",
              "    </tr>\n",
              "    <tr>\n",
              "      <th>2</th>\n",
              "      <td>NPP-375</td>\n",
              "      <td>Brasil</td>\n",
              "      <td>MATO GROSSO DO SUL</td>\n",
              "      <td>CORUMBA</td>\n",
              "      <td>Pantanal</td>\n",
              "      <td>8.0</td>\n",
              "      <td>0.0</td>\n",
              "      <td>1.0</td>\n",
              "      <td>-19.9664</td>\n",
              "      <td>-57.4599</td>\n",
              "      <td>NaN</td>\n",
              "      <td>2014-10-15</td>\n",
              "      <td>17:02:00</td>\n",
              "      <td>(-19.9664, -57.4599)</td>\n",
              "    </tr>\n",
              "    <tr>\n",
              "      <th>3</th>\n",
              "      <td>NPP-375</td>\n",
              "      <td>Brasil</td>\n",
              "      <td>MATO GROSSO DO SUL</td>\n",
              "      <td>CORUMBA</td>\n",
              "      <td>Pantanal</td>\n",
              "      <td>2.0</td>\n",
              "      <td>0.0</td>\n",
              "      <td>1.0</td>\n",
              "      <td>-19.8841</td>\n",
              "      <td>-57.3938</td>\n",
              "      <td>NaN</td>\n",
              "      <td>2014-10-09</td>\n",
              "      <td>17:15:00</td>\n",
              "      <td>(-19.8841, -57.3938)</td>\n",
              "    </tr>\n",
              "    <tr>\n",
              "      <th>4</th>\n",
              "      <td>NPP-375</td>\n",
              "      <td>Brasil</td>\n",
              "      <td>MATO GROSSO DO SUL</td>\n",
              "      <td>CORUMBA</td>\n",
              "      <td>Pantanal</td>\n",
              "      <td>8.0</td>\n",
              "      <td>0.0</td>\n",
              "      <td>1.0</td>\n",
              "      <td>-19.9342</td>\n",
              "      <td>-57.3920</td>\n",
              "      <td>NaN</td>\n",
              "      <td>2014-10-15</td>\n",
              "      <td>17:02:00</td>\n",
              "      <td>(-19.9342, -57.392)</td>\n",
              "    </tr>\n",
              "  </tbody>\n",
              "</table>\n",
              "</div>"
            ],
            "text/plain": [
              "   satelite    pais  ...      Hora      coordenadas_mapa\n",
              "0  AQUA_M-M  Brasil  ...  05:10:00    (-19.467, -56.388)\n",
              "1  AQUA_M-M  Brasil  ...  05:15:00    (-16.236, -58.586)\n",
              "2   NPP-375  Brasil  ...  17:02:00  (-19.9664, -57.4599)\n",
              "3   NPP-375  Brasil  ...  17:15:00  (-19.8841, -57.3938)\n",
              "4   NPP-375  Brasil  ...  17:02:00   (-19.9342, -57.392)\n",
              "\n",
              "[5 rows x 14 columns]"
            ]
          },
          "metadata": {
            "tags": []
          },
          "execution_count": 34
        }
      ]
    },
    {
      "cell_type": "markdown",
      "metadata": {
        "id": "JFFwhkRNu3qQ"
      },
      "source": [
        "**RETIRAR riscofogo MENOR QUE 0**"
      ]
    },
    {
      "cell_type": "code",
      "metadata": {
        "id": "ZEevo7oCsrlW"
      },
      "source": [
        "indexNames = df[df['riscofogo'] < 0].index\n",
        "df.drop(indexNames , inplace=True)"
      ],
      "execution_count": null,
      "outputs": []
    },
    {
      "cell_type": "code",
      "metadata": {
        "colab": {
          "base_uri": "https://localhost:8080/",
          "height": 402
        },
        "id": "JdacWmgfs1ac",
        "outputId": "6adbda6d-5183-4a5a-bff4-78731dcd9dfa"
      },
      "source": [
        "df"
      ],
      "execution_count": null,
      "outputs": [
        {
          "output_type": "execute_result",
          "data": {
            "text/html": [
              "<div>\n",
              "<style scoped>\n",
              "    .dataframe tbody tr th:only-of-type {\n",
              "        vertical-align: middle;\n",
              "    }\n",
              "\n",
              "    .dataframe tbody tr th {\n",
              "        vertical-align: top;\n",
              "    }\n",
              "\n",
              "    .dataframe thead th {\n",
              "        text-align: right;\n",
              "    }\n",
              "</style>\n",
              "<table border=\"1\" class=\"dataframe\">\n",
              "  <thead>\n",
              "    <tr style=\"text-align: right;\">\n",
              "      <th></th>\n",
              "      <th>satelite</th>\n",
              "      <th>pais</th>\n",
              "      <th>estado</th>\n",
              "      <th>municipio</th>\n",
              "      <th>bioma</th>\n",
              "      <th>diasemchuva</th>\n",
              "      <th>precipitacao</th>\n",
              "      <th>riscofogo</th>\n",
              "      <th>latitude</th>\n",
              "      <th>longitude</th>\n",
              "      <th>frp</th>\n",
              "      <th>Data</th>\n",
              "      <th>Hora</th>\n",
              "      <th>coordenadas_mapa</th>\n",
              "    </tr>\n",
              "  </thead>\n",
              "  <tbody>\n",
              "    <tr>\n",
              "      <th>0</th>\n",
              "      <td>AQUA_M-M</td>\n",
              "      <td>Brasil</td>\n",
              "      <td>MATO GROSSO DO SUL</td>\n",
              "      <td>AQUIDAUANA</td>\n",
              "      <td>Pantanal</td>\n",
              "      <td>4.0</td>\n",
              "      <td>0.0</td>\n",
              "      <td>0.2</td>\n",
              "      <td>-19.4670</td>\n",
              "      <td>-56.3880</td>\n",
              "      <td>NaN</td>\n",
              "      <td>2014-01-03</td>\n",
              "      <td>05:10:00</td>\n",
              "      <td>(-19.467, -56.388)</td>\n",
              "    </tr>\n",
              "    <tr>\n",
              "      <th>1</th>\n",
              "      <td>AQUA_M-M</td>\n",
              "      <td>Brasil</td>\n",
              "      <td>MATO GROSSO</td>\n",
              "      <td>CACERES</td>\n",
              "      <td>Pantanal</td>\n",
              "      <td>2.0</td>\n",
              "      <td>0.0</td>\n",
              "      <td>0.9</td>\n",
              "      <td>-16.2360</td>\n",
              "      <td>-58.5860</td>\n",
              "      <td>NaN</td>\n",
              "      <td>2014-10-09</td>\n",
              "      <td>05:15:00</td>\n",
              "      <td>(-16.236, -58.586)</td>\n",
              "    </tr>\n",
              "    <tr>\n",
              "      <th>2</th>\n",
              "      <td>NPP-375</td>\n",
              "      <td>Brasil</td>\n",
              "      <td>MATO GROSSO DO SUL</td>\n",
              "      <td>CORUMBA</td>\n",
              "      <td>Pantanal</td>\n",
              "      <td>8.0</td>\n",
              "      <td>0.0</td>\n",
              "      <td>1.0</td>\n",
              "      <td>-19.9664</td>\n",
              "      <td>-57.4599</td>\n",
              "      <td>NaN</td>\n",
              "      <td>2014-10-15</td>\n",
              "      <td>17:02:00</td>\n",
              "      <td>(-19.9664, -57.4599)</td>\n",
              "    </tr>\n",
              "    <tr>\n",
              "      <th>3</th>\n",
              "      <td>NPP-375</td>\n",
              "      <td>Brasil</td>\n",
              "      <td>MATO GROSSO DO SUL</td>\n",
              "      <td>CORUMBA</td>\n",
              "      <td>Pantanal</td>\n",
              "      <td>2.0</td>\n",
              "      <td>0.0</td>\n",
              "      <td>1.0</td>\n",
              "      <td>-19.8841</td>\n",
              "      <td>-57.3938</td>\n",
              "      <td>NaN</td>\n",
              "      <td>2014-10-09</td>\n",
              "      <td>17:15:00</td>\n",
              "      <td>(-19.8841, -57.3938)</td>\n",
              "    </tr>\n",
              "    <tr>\n",
              "      <th>4</th>\n",
              "      <td>NPP-375</td>\n",
              "      <td>Brasil</td>\n",
              "      <td>MATO GROSSO DO SUL</td>\n",
              "      <td>CORUMBA</td>\n",
              "      <td>Pantanal</td>\n",
              "      <td>8.0</td>\n",
              "      <td>0.0</td>\n",
              "      <td>1.0</td>\n",
              "      <td>-19.9342</td>\n",
              "      <td>-57.3920</td>\n",
              "      <td>NaN</td>\n",
              "      <td>2014-10-15</td>\n",
              "      <td>17:02:00</td>\n",
              "      <td>(-19.9342, -57.392)</td>\n",
              "    </tr>\n",
              "    <tr>\n",
              "      <th>...</th>\n",
              "      <td>...</td>\n",
              "      <td>...</td>\n",
              "      <td>...</td>\n",
              "      <td>...</td>\n",
              "      <td>...</td>\n",
              "      <td>...</td>\n",
              "      <td>...</td>\n",
              "      <td>...</td>\n",
              "      <td>...</td>\n",
              "      <td>...</td>\n",
              "      <td>...</td>\n",
              "      <td>...</td>\n",
              "      <td>...</td>\n",
              "      <td>...</td>\n",
              "    </tr>\n",
              "    <tr>\n",
              "      <th>3903</th>\n",
              "      <td>TERRA_M-M</td>\n",
              "      <td>Brasil</td>\n",
              "      <td>MATO GROSSO DO SUL</td>\n",
              "      <td>PORTO MURTINHO</td>\n",
              "      <td>Pantanal</td>\n",
              "      <td>3.0</td>\n",
              "      <td>0.0</td>\n",
              "      <td>0.2</td>\n",
              "      <td>-21.2760</td>\n",
              "      <td>-57.8400</td>\n",
              "      <td>55.0</td>\n",
              "      <td>2021-03-31</td>\n",
              "      <td>03:10:00</td>\n",
              "      <td>(-21.276, -57.84)</td>\n",
              "    </tr>\n",
              "    <tr>\n",
              "      <th>3904</th>\n",
              "      <td>TERRA_M-M</td>\n",
              "      <td>Brasil</td>\n",
              "      <td>MATO GROSSO DO SUL</td>\n",
              "      <td>PORTO MURTINHO</td>\n",
              "      <td>Pantanal</td>\n",
              "      <td>3.0</td>\n",
              "      <td>0.0</td>\n",
              "      <td>0.2</td>\n",
              "      <td>-21.2640</td>\n",
              "      <td>-57.8360</td>\n",
              "      <td>68.3</td>\n",
              "      <td>2021-03-31</td>\n",
              "      <td>03:10:00</td>\n",
              "      <td>(-21.264, -57.836)</td>\n",
              "    </tr>\n",
              "    <tr>\n",
              "      <th>3905</th>\n",
              "      <td>NOAA-20</td>\n",
              "      <td>Brasil</td>\n",
              "      <td>MATO GROSSO DO SUL</td>\n",
              "      <td>PORTO MURTINHO</td>\n",
              "      <td>Pantanal</td>\n",
              "      <td>3.0</td>\n",
              "      <td>0.0</td>\n",
              "      <td>0.2</td>\n",
              "      <td>-21.2743</td>\n",
              "      <td>-57.8375</td>\n",
              "      <td>3.2</td>\n",
              "      <td>2021-03-31</td>\n",
              "      <td>04:42:00</td>\n",
              "      <td>(-21.2743, -57.8375)</td>\n",
              "    </tr>\n",
              "    <tr>\n",
              "      <th>3906</th>\n",
              "      <td>NOAA-20</td>\n",
              "      <td>Brasil</td>\n",
              "      <td>MATO GROSSO DO SUL</td>\n",
              "      <td>RIO VERDE DE MATO GROSSO</td>\n",
              "      <td>Pantanal</td>\n",
              "      <td>7.0</td>\n",
              "      <td>0.0</td>\n",
              "      <td>0.4</td>\n",
              "      <td>-18.6196</td>\n",
              "      <td>-55.2020</td>\n",
              "      <td>8.9</td>\n",
              "      <td>2021-03-31</td>\n",
              "      <td>04:42:00</td>\n",
              "      <td>(-18.6196, -55.202)</td>\n",
              "    </tr>\n",
              "    <tr>\n",
              "      <th>3907</th>\n",
              "      <td>NOAA-20</td>\n",
              "      <td>Brasil</td>\n",
              "      <td>MATO GROSSO DO SUL</td>\n",
              "      <td>RIO VERDE DE MATO GROSSO</td>\n",
              "      <td>Pantanal</td>\n",
              "      <td>7.0</td>\n",
              "      <td>0.0</td>\n",
              "      <td>0.1</td>\n",
              "      <td>-18.6295</td>\n",
              "      <td>-55.2082</td>\n",
              "      <td>2.3</td>\n",
              "      <td>2021-03-31</td>\n",
              "      <td>04:42:00</td>\n",
              "      <td>(-18.6295, -55.2082)</td>\n",
              "    </tr>\n",
              "  </tbody>\n",
              "</table>\n",
              "<p>1147374 rows × 14 columns</p>\n",
              "</div>"
            ],
            "text/plain": [
              "       satelite    pais  ...      Hora      coordenadas_mapa\n",
              "0      AQUA_M-M  Brasil  ...  05:10:00    (-19.467, -56.388)\n",
              "1      AQUA_M-M  Brasil  ...  05:15:00    (-16.236, -58.586)\n",
              "2       NPP-375  Brasil  ...  17:02:00  (-19.9664, -57.4599)\n",
              "3       NPP-375  Brasil  ...  17:15:00  (-19.8841, -57.3938)\n",
              "4       NPP-375  Brasil  ...  17:02:00   (-19.9342, -57.392)\n",
              "...         ...     ...  ...       ...                   ...\n",
              "3903  TERRA_M-M  Brasil  ...  03:10:00     (-21.276, -57.84)\n",
              "3904  TERRA_M-M  Brasil  ...  03:10:00    (-21.264, -57.836)\n",
              "3905    NOAA-20  Brasil  ...  04:42:00  (-21.2743, -57.8375)\n",
              "3906    NOAA-20  Brasil  ...  04:42:00   (-18.6196, -55.202)\n",
              "3907    NOAA-20  Brasil  ...  04:42:00  (-18.6295, -55.2082)\n",
              "\n",
              "[1147374 rows x 14 columns]"
            ]
          },
          "metadata": {
            "tags": []
          },
          "execution_count": 36
        }
      ]
    },
    {
      "cell_type": "markdown",
      "metadata": {
        "id": "gz3kQ6Yhu8V-"
      },
      "source": [
        "**REGRESSÃO LINEAR**"
      ]
    },
    {
      "cell_type": "code",
      "metadata": {
        "id": "KVgu2gsQvDGr"
      },
      "source": [
        "from sklearn.model_selection import train_test_split\n",
        "from sklearn.linear_model import SGDRegressor"
      ],
      "execution_count": null,
      "outputs": []
    },
    {
      "cell_type": "code",
      "metadata": {
        "colab": {
          "base_uri": "https://localhost:8080/"
        },
        "id": "8u8r1cSOu_eL",
        "outputId": "98fdf71d-68c2-4436-8981-65f51c612e90"
      },
      "source": [
        "X = df[['diasemchuva']]\n",
        "y = df['riscofogo']\n",
        "X_train, X_test, y_train, y_test = train_test_split(X, y, test_size=0.3, random_state=42)\n",
        "print(f'Dataset original: X(diasemchuva) = {X.shape}, y(riscofogo) = {y.shape}')\n",
        "print(f'Datasets de treino: X(diasemchuva) = {X_train.shape}, y(riscofogo) = {y_train.shape}')"
      ],
      "execution_count": null,
      "outputs": [
        {
          "output_type": "stream",
          "text": [
            "Dataset original: X(diasemchuva) = (1147374, 1), y(riscofogo) = (1147374,)\n",
            "Datasets de treino: X(diasemchuva) = (803161, 1), y(riscofogo) = (803161,)\n"
          ],
          "name": "stdout"
        }
      ]
    },
    {
      "cell_type": "code",
      "metadata": {
        "id": "yj8MlHuNv_BN"
      },
      "source": [
        "modelo = SGDRegressor()"
      ],
      "execution_count": null,
      "outputs": []
    },
    {
      "cell_type": "code",
      "metadata": {
        "colab": {
          "base_uri": "https://localhost:8080/"
        },
        "id": "yz83v_ARwQps",
        "outputId": "bb8909db-7dde-448a-ca93-ef0ae6b4f48b"
      },
      "source": [
        "modelo.fit(X_train,y_train) "
      ],
      "execution_count": null,
      "outputs": [
        {
          "output_type": "execute_result",
          "data": {
            "text/plain": [
              "SGDRegressor(alpha=0.0001, average=False, early_stopping=False, epsilon=0.1,\n",
              "             eta0=0.01, fit_intercept=True, l1_ratio=0.15,\n",
              "             learning_rate='invscaling', loss='squared_loss', max_iter=1000,\n",
              "             n_iter_no_change=5, penalty='l2', power_t=0.25, random_state=None,\n",
              "             shuffle=True, tol=0.001, validation_fraction=0.1, verbose=0,\n",
              "             warm_start=False)"
            ]
          },
          "metadata": {
            "tags": []
          },
          "execution_count": 50
        }
      ]
    },
    {
      "cell_type": "code",
      "metadata": {
        "colab": {
          "base_uri": "https://localhost:8080/"
        },
        "id": "oCTpFL82wrbf",
        "outputId": "6745eecc-7799-4030-a139-da0ab732b4e5"
      },
      "source": [
        "y_preds = modelo.predict(X_test)\n",
        "y_preds"
      ],
      "execution_count": null,
      "outputs": [
        {
          "output_type": "execute_result",
          "data": {
            "text/plain": [
              "array([1.22192855, 0.84691262, 0.75867358, ..., 0.87632563, 0.86897238,\n",
              "       0.74396707])"
            ]
          },
          "metadata": {
            "tags": []
          },
          "execution_count": 51
        }
      ]
    },
    {
      "cell_type": "code",
      "metadata": {
        "colab": {
          "base_uri": "https://localhost:8080/"
        },
        "id": "7viiwZNEw_tU",
        "outputId": "c6b063da-e3db-4191-9397-648eb192ae54"
      },
      "source": [
        "y_preds[:5]"
      ],
      "execution_count": null,
      "outputs": [
        {
          "output_type": "execute_result",
          "data": {
            "text/plain": [
              "array([1.22192855, 0.84691262, 0.75867358, 0.74396707, 0.69984755])"
            ]
          },
          "metadata": {
            "tags": []
          },
          "execution_count": 52
        }
      ]
    },
    {
      "cell_type": "code",
      "metadata": {
        "colab": {
          "base_uri": "https://localhost:8080/"
        },
        "id": "LgZsX1qwxf50",
        "outputId": "f033c9da-00fc-457a-cf8c-25a53adf58e6"
      },
      "source": [
        "y_test[:5]"
      ],
      "execution_count": null,
      "outputs": [
        {
          "output_type": "execute_result",
          "data": {
            "text/plain": [
              "707004    1.0\n",
              "205382    0.6\n",
              "415325    1.0\n",
              "437217    1.0\n",
              "5596      0.9\n",
              "Name: riscofogo, dtype: float64"
            ]
          },
          "metadata": {
            "tags": []
          },
          "execution_count": 53
        }
      ]
    }
  ]
}