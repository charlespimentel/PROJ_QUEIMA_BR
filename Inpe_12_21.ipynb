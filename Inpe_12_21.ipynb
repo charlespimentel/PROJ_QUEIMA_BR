{
  "nbformat": 4,
  "nbformat_minor": 0,
  "metadata": {
    "colab": {
      "name": "Inpe_12_21.ipynb",
      "provenance": [],
      "include_colab_link": true
    },
    "kernelspec": {
      "name": "python3",
      "display_name": "Python 3"
    },
    "language_info": {
      "name": "python"
    }
  },
  "cells": [
    {
      "cell_type": "markdown",
      "metadata": {
        "id": "view-in-github",
        "colab_type": "text"
      },
      "source": [
        "<a href=\"https://colab.research.google.com/github/charlespimentel/PROJ_QUEIMA_BR/blob/main/Inpe_12_21.ipynb\" target=\"_parent\"><img src=\"https://colab.research.google.com/assets/colab-badge.svg\" alt=\"Open In Colab\"/></a>"
      ]
    },
    {
      "cell_type": "markdown",
      "metadata": {
        "id": "2z7Qp88Ly87w"
      },
      "source": [
        "**IMPORTANDO BIBLIOTECAS**"
      ]
    },
    {
      "cell_type": "code",
      "metadata": {
        "id": "E0O8p_FNeH8d"
      },
      "source": [
        "import numpy as np\n",
        "import pandas as pd\n",
        "import csv\n",
        "import matplotlib.pyplot as plt\n",
        "import datetime"
      ],
      "execution_count": null,
      "outputs": []
    },
    {
      "cell_type": "markdown",
      "metadata": {
        "id": "zP299keDzDxB"
      },
      "source": [
        "**DATASETS DE JANEIRO DE 2012 a MARÇO DE 2020**- PANTANAL - INPE\n"
      ]
    },
    {
      "cell_type": "markdown",
      "metadata": {
        "id": "e5EJpzfefq-g"
      },
      "source": [
        "Os datasets foram baixados, ano a ano, em 04/04/2021 no endereço https://queimadas.dgi.inpe.br//queimadas/bdqueimadas/#tabela-de-atributos"
      ]
    },
    {
      "cell_type": "code",
      "metadata": {
        "id": "pWmoy7U3eQep"
      },
      "source": [
        "df2012 = pd.read_csv('https://raw.githubusercontent.com/charlespimentel/PROJ_QUEIMA_BR/main/Data_Inpe_12_21/Focos_2012-01-01_2012-12-31.csv', sep=',')\n",
        "df2013 = pd.read_csv('https://raw.githubusercontent.com/charlespimentel/PROJ_QUEIMA_BR/main/Data_Inpe_12_21/Focos_2013-01-01_2013-12-31.csv', sep=',')\n",
        "df2014 = pd.read_csv('https://raw.githubusercontent.com/charlespimentel/PROJ_QUEIMA_BR/main/Data_Inpe_12_21/Focos_2014-01-01_2014-12-31.csv', sep=',')\n",
        "df2015 = pd.read_csv('https://raw.githubusercontent.com/charlespimentel/PROJ_QUEIMA_BR/main/Data_Inpe_12_21/Focos_2015-01-01_2015-12-31.csv', sep=',')\n",
        "df2016 = pd.read_csv('https://raw.githubusercontent.com/charlespimentel/PROJ_QUEIMA_BR/main/Data_Inpe_12_21/Focos_2016-01-01_2016-12-31.csv', sep=',')\n",
        "df2017 = pd.read_csv('https://raw.githubusercontent.com/charlespimentel/PROJ_QUEIMA_BR/main/Data_Inpe_12_21/Focos_2017-01-01_2017-12-31.csv', sep=',')\n",
        "df2018 = pd.read_csv('https://raw.githubusercontent.com/charlespimentel/PROJ_QUEIMA_BR/main/Data_Inpe_12_21/Focos_2018-01-01_2018-12-31.csv', sep=',')\n",
        "df2019 = pd.read_csv('https://raw.githubusercontent.com/charlespimentel/PROJ_QUEIMA_BR/main/Data_Inpe_12_21/Focos_2019-01-01_2019-12-31.csv', sep=',')\n",
        "df2020 = pd.read_csv('https://raw.githubusercontent.com/charlespimentel/PROJ_QUEIMA_BR/main/Data_Inpe_12_21/Focos_2020-01-01_2020-12-31.csv', sep=',')"
      ],
      "execution_count": null,
      "outputs": []
    },
    {
      "cell_type": "markdown",
      "metadata": {
        "id": "hBBCSvhXzTf2"
      },
      "source": [
        "**UNINDO OS 9 DATASETS**"
      ]
    },
    {
      "cell_type": "code",
      "metadata": {
        "id": "75nbklsnjeKF"
      },
      "source": [
        "#Unindo os 10 datasets\n",
        "df = pd.concat([df2012, df2013, df2014, df2015, df2016, df2017, df2018, df2019, df2020])"
      ],
      "execution_count": null,
      "outputs": []
    },
    {
      "cell_type": "markdown",
      "metadata": {
        "id": "kuGdOgIJzeUA"
      },
      "source": [
        "**PRIMEIRAS LINHAS DO DATASET**"
      ]
    },
    {
      "cell_type": "code",
      "metadata": {
        "colab": {
          "base_uri": "https://localhost:8080/",
          "height": 204
        },
        "id": "-qOcDYOTksP0",
        "outputId": "5b3e650a-8c6c-47bd-a062-0fad91014371"
      },
      "source": [
        "df.head() #primeiras linhas"
      ],
      "execution_count": null,
      "outputs": [
        {
          "output_type": "execute_result",
          "data": {
            "text/html": [
              "<div>\n",
              "<style scoped>\n",
              "    .dataframe tbody tr th:only-of-type {\n",
              "        vertical-align: middle;\n",
              "    }\n",
              "\n",
              "    .dataframe tbody tr th {\n",
              "        vertical-align: top;\n",
              "    }\n",
              "\n",
              "    .dataframe thead th {\n",
              "        text-align: right;\n",
              "    }\n",
              "</style>\n",
              "<table border=\"1\" class=\"dataframe\">\n",
              "  <thead>\n",
              "    <tr style=\"text-align: right;\">\n",
              "      <th></th>\n",
              "      <th>datahora</th>\n",
              "      <th>satelite</th>\n",
              "      <th>pais</th>\n",
              "      <th>estado</th>\n",
              "      <th>municipio</th>\n",
              "      <th>bioma</th>\n",
              "      <th>diasemchuva</th>\n",
              "      <th>precipitacao</th>\n",
              "      <th>riscofogo</th>\n",
              "      <th>latitude</th>\n",
              "      <th>longitude</th>\n",
              "      <th>frp</th>\n",
              "    </tr>\n",
              "  </thead>\n",
              "  <tbody>\n",
              "    <tr>\n",
              "      <th>0</th>\n",
              "      <td>2012/01/07 05:02:00</td>\n",
              "      <td>AQUA_M-M</td>\n",
              "      <td>Brasil</td>\n",
              "      <td>MATO GROSSO</td>\n",
              "      <td>POCONE</td>\n",
              "      <td>Pantanal</td>\n",
              "      <td>NaN</td>\n",
              "      <td>NaN</td>\n",
              "      <td>NaN</td>\n",
              "      <td>-17.138</td>\n",
              "      <td>-57.326</td>\n",
              "      <td>NaN</td>\n",
              "    </tr>\n",
              "    <tr>\n",
              "      <th>1</th>\n",
              "      <td>2012/01/07 05:02:00</td>\n",
              "      <td>AQUA_M-M</td>\n",
              "      <td>Brasil</td>\n",
              "      <td>MATO GROSSO</td>\n",
              "      <td>CACERES</td>\n",
              "      <td>Pantanal</td>\n",
              "      <td>NaN</td>\n",
              "      <td>NaN</td>\n",
              "      <td>NaN</td>\n",
              "      <td>-16.914</td>\n",
              "      <td>-57.693</td>\n",
              "      <td>NaN</td>\n",
              "    </tr>\n",
              "    <tr>\n",
              "      <th>2</th>\n",
              "      <td>2012/01/07 05:02:00</td>\n",
              "      <td>AQUA_M-M</td>\n",
              "      <td>Brasil</td>\n",
              "      <td>MATO GROSSO</td>\n",
              "      <td>POCONE</td>\n",
              "      <td>Pantanal</td>\n",
              "      <td>NaN</td>\n",
              "      <td>NaN</td>\n",
              "      <td>NaN</td>\n",
              "      <td>-17.118</td>\n",
              "      <td>-57.322</td>\n",
              "      <td>NaN</td>\n",
              "    </tr>\n",
              "    <tr>\n",
              "      <th>3</th>\n",
              "      <td>2012/01/07 05:02:00</td>\n",
              "      <td>AQUA_M-M</td>\n",
              "      <td>Brasil</td>\n",
              "      <td>MATO GROSSO</td>\n",
              "      <td>POCONE</td>\n",
              "      <td>Pantanal</td>\n",
              "      <td>NaN</td>\n",
              "      <td>NaN</td>\n",
              "      <td>NaN</td>\n",
              "      <td>-17.117</td>\n",
              "      <td>-57.327</td>\n",
              "      <td>NaN</td>\n",
              "    </tr>\n",
              "    <tr>\n",
              "      <th>4</th>\n",
              "      <td>2012/01/07 05:02:00</td>\n",
              "      <td>AQUA_M-M</td>\n",
              "      <td>Brasil</td>\n",
              "      <td>MATO GROSSO</td>\n",
              "      <td>CACERES</td>\n",
              "      <td>Pantanal</td>\n",
              "      <td>NaN</td>\n",
              "      <td>NaN</td>\n",
              "      <td>NaN</td>\n",
              "      <td>-16.901</td>\n",
              "      <td>-57.704</td>\n",
              "      <td>NaN</td>\n",
              "    </tr>\n",
              "  </tbody>\n",
              "</table>\n",
              "</div>"
            ],
            "text/plain": [
              "              datahora  satelite    pais  ... latitude longitude frp\n",
              "0  2012/01/07 05:02:00  AQUA_M-M  Brasil  ...  -17.138   -57.326 NaN\n",
              "1  2012/01/07 05:02:00  AQUA_M-M  Brasil  ...  -16.914   -57.693 NaN\n",
              "2  2012/01/07 05:02:00  AQUA_M-M  Brasil  ...  -17.118   -57.322 NaN\n",
              "3  2012/01/07 05:02:00  AQUA_M-M  Brasil  ...  -17.117   -57.327 NaN\n",
              "4  2012/01/07 05:02:00  AQUA_M-M  Brasil  ...  -16.901   -57.704 NaN\n",
              "\n",
              "[5 rows x 12 columns]"
            ]
          },
          "metadata": {
            "tags": []
          },
          "execution_count": 90
        }
      ]
    },
    {
      "cell_type": "markdown",
      "metadata": {
        "id": "qfcyj37fd8aj"
      },
      "source": [
        "**ÚLTIMAS LINHAS DO DATASET**"
      ]
    },
    {
      "cell_type": "code",
      "metadata": {
        "colab": {
          "base_uri": "https://localhost:8080/",
          "height": 204
        },
        "id": "upDX8dd_k0Lv",
        "outputId": "6edc870c-3558-42f3-c335-e460817fa568"
      },
      "source": [
        "df.tail() #últimas linhas"
      ],
      "execution_count": null,
      "outputs": [
        {
          "output_type": "execute_result",
          "data": {
            "text/html": [
              "<div>\n",
              "<style scoped>\n",
              "    .dataframe tbody tr th:only-of-type {\n",
              "        vertical-align: middle;\n",
              "    }\n",
              "\n",
              "    .dataframe tbody tr th {\n",
              "        vertical-align: top;\n",
              "    }\n",
              "\n",
              "    .dataframe thead th {\n",
              "        text-align: right;\n",
              "    }\n",
              "</style>\n",
              "<table border=\"1\" class=\"dataframe\">\n",
              "  <thead>\n",
              "    <tr style=\"text-align: right;\">\n",
              "      <th></th>\n",
              "      <th>datahora</th>\n",
              "      <th>satelite</th>\n",
              "      <th>pais</th>\n",
              "      <th>estado</th>\n",
              "      <th>municipio</th>\n",
              "      <th>bioma</th>\n",
              "      <th>diasemchuva</th>\n",
              "      <th>precipitacao</th>\n",
              "      <th>riscofogo</th>\n",
              "      <th>latitude</th>\n",
              "      <th>longitude</th>\n",
              "      <th>frp</th>\n",
              "    </tr>\n",
              "  </thead>\n",
              "  <tbody>\n",
              "    <tr>\n",
              "      <th>742972</th>\n",
              "      <td>2020/10/13 18:43:22</td>\n",
              "      <td>GOES-16</td>\n",
              "      <td>Brasil</td>\n",
              "      <td>MATO GROSSO DO SUL</td>\n",
              "      <td>CORUMBA</td>\n",
              "      <td>Pantanal</td>\n",
              "      <td>0.0</td>\n",
              "      <td>0.4</td>\n",
              "      <td>0.0</td>\n",
              "      <td>-19.7000</td>\n",
              "      <td>-57.0500</td>\n",
              "      <td>NaN</td>\n",
              "    </tr>\n",
              "    <tr>\n",
              "      <th>742973</th>\n",
              "      <td>2020/10/13 16:33:00</td>\n",
              "      <td>NOAA-20</td>\n",
              "      <td>Brasil</td>\n",
              "      <td>MATO GROSSO DO SUL</td>\n",
              "      <td>CORUMBA</td>\n",
              "      <td>Pantanal</td>\n",
              "      <td>0.0</td>\n",
              "      <td>0.5</td>\n",
              "      <td>0.0</td>\n",
              "      <td>-18.8318</td>\n",
              "      <td>-57.0566</td>\n",
              "      <td>NaN</td>\n",
              "    </tr>\n",
              "    <tr>\n",
              "      <th>742974</th>\n",
              "      <td>2020/10/13 16:33:00</td>\n",
              "      <td>NOAA-20</td>\n",
              "      <td>Brasil</td>\n",
              "      <td>MATO GROSSO DO SUL</td>\n",
              "      <td>CORUMBA</td>\n",
              "      <td>Pantanal</td>\n",
              "      <td>8.0</td>\n",
              "      <td>7.1</td>\n",
              "      <td>0.5</td>\n",
              "      <td>-17.2116</td>\n",
              "      <td>-56.1356</td>\n",
              "      <td>NaN</td>\n",
              "    </tr>\n",
              "    <tr>\n",
              "      <th>742975</th>\n",
              "      <td>2020/10/13 16:33:00</td>\n",
              "      <td>NOAA-20</td>\n",
              "      <td>Brasil</td>\n",
              "      <td>MATO GROSSO</td>\n",
              "      <td>ITIQUIRA</td>\n",
              "      <td>Pantanal</td>\n",
              "      <td>0.0</td>\n",
              "      <td>0.0</td>\n",
              "      <td>0.4</td>\n",
              "      <td>-17.4440</td>\n",
              "      <td>-55.1032</td>\n",
              "      <td>NaN</td>\n",
              "    </tr>\n",
              "    <tr>\n",
              "      <th>742976</th>\n",
              "      <td>2020/10/13 16:33:00</td>\n",
              "      <td>NOAA-20</td>\n",
              "      <td>Brasil</td>\n",
              "      <td>MATO GROSSO</td>\n",
              "      <td>ITIQUIRA</td>\n",
              "      <td>Pantanal</td>\n",
              "      <td>0.0</td>\n",
              "      <td>0.0</td>\n",
              "      <td>0.5</td>\n",
              "      <td>-17.4075</td>\n",
              "      <td>-55.1013</td>\n",
              "      <td>NaN</td>\n",
              "    </tr>\n",
              "  </tbody>\n",
              "</table>\n",
              "</div>"
            ],
            "text/plain": [
              "                   datahora satelite    pais  ... latitude longitude frp\n",
              "742972  2020/10/13 18:43:22  GOES-16  Brasil  ... -19.7000  -57.0500 NaN\n",
              "742973  2020/10/13 16:33:00  NOAA-20  Brasil  ... -18.8318  -57.0566 NaN\n",
              "742974  2020/10/13 16:33:00  NOAA-20  Brasil  ... -17.2116  -56.1356 NaN\n",
              "742975  2020/10/13 16:33:00  NOAA-20  Brasil  ... -17.4440  -55.1032 NaN\n",
              "742976  2020/10/13 16:33:00  NOAA-20  Brasil  ... -17.4075  -55.1013 NaN\n",
              "\n",
              "[5 rows x 12 columns]"
            ]
          },
          "metadata": {
            "tags": []
          },
          "execution_count": 91
        }
      ]
    },
    {
      "cell_type": "markdown",
      "metadata": {
        "id": "IulaqivpywME"
      },
      "source": [
        "**TAMANHO DO DATASET**"
      ]
    },
    {
      "cell_type": "code",
      "metadata": {
        "colab": {
          "base_uri": "https://localhost:8080/"
        },
        "id": "eIGipaXslmhp",
        "outputId": "30798667-47ab-41c0-a355-d60d09498102"
      },
      "source": [
        "print(f'Tamanho do Dataframe: {df.shape[0]} linhas e {df.shape[1]} colunas') # Descreve o tamanho do dataframe em uma tupla"
      ],
      "execution_count": null,
      "outputs": [
        {
          "output_type": "stream",
          "text": [
            "Tamanho do Dataframe: 1327467 linhas e 12 colunas\n"
          ],
          "name": "stdout"
        }
      ]
    },
    {
      "cell_type": "markdown",
      "metadata": {
        "id": "cwO3vgBJbYbL"
      },
      "source": [
        "**APENAS SATÉLITE NPP-375**"
      ]
    },
    {
      "cell_type": "code",
      "metadata": {
        "id": "Wer597d5bHRb"
      },
      "source": [
        "df = df[df['satelite'] == 'NPP-375']"
      ],
      "execution_count": null,
      "outputs": []
    },
    {
      "cell_type": "markdown",
      "metadata": {
        "id": "btylPH5lbgLS"
      },
      "source": [
        "**TAMANHO DO DATASET**"
      ]
    },
    {
      "cell_type": "code",
      "metadata": {
        "id": "idsPT6tobQqr",
        "colab": {
          "base_uri": "https://localhost:8080/"
        },
        "outputId": "609cfab4-5a1d-4a9d-a662-72ea1205dc97"
      },
      "source": [
        "print(f'Tamanho do Dataframe: {df.shape[0]} linhas e {df.shape[1]} colunas') # Descreve o tamanho do dataframe em uma tupla"
      ],
      "execution_count": null,
      "outputs": [
        {
          "output_type": "stream",
          "text": [
            "Tamanho do Dataframe: 480926 linhas e 12 colunas\n"
          ],
          "name": "stdout"
        }
      ]
    },
    {
      "cell_type": "markdown",
      "metadata": {
        "id": "73xvtNoCbkvJ"
      },
      "source": [
        "**PRIMEIRAS LINHAS DO DATASET**"
      ]
    },
    {
      "cell_type": "code",
      "metadata": {
        "id": "Z0WajbFtbWeu",
        "colab": {
          "base_uri": "https://localhost:8080/",
          "height": 204
        },
        "outputId": "a37b32f1-ce31-4a1c-bb7b-58c7fbec2785"
      },
      "source": [
        "df.head(5) #primeiras linhas"
      ],
      "execution_count": null,
      "outputs": [
        {
          "output_type": "execute_result",
          "data": {
            "text/html": [
              "<div>\n",
              "<style scoped>\n",
              "    .dataframe tbody tr th:only-of-type {\n",
              "        vertical-align: middle;\n",
              "    }\n",
              "\n",
              "    .dataframe tbody tr th {\n",
              "        vertical-align: top;\n",
              "    }\n",
              "\n",
              "    .dataframe thead th {\n",
              "        text-align: right;\n",
              "    }\n",
              "</style>\n",
              "<table border=\"1\" class=\"dataframe\">\n",
              "  <thead>\n",
              "    <tr style=\"text-align: right;\">\n",
              "      <th></th>\n",
              "      <th>datahora</th>\n",
              "      <th>satelite</th>\n",
              "      <th>pais</th>\n",
              "      <th>estado</th>\n",
              "      <th>municipio</th>\n",
              "      <th>bioma</th>\n",
              "      <th>diasemchuva</th>\n",
              "      <th>precipitacao</th>\n",
              "      <th>riscofogo</th>\n",
              "      <th>latitude</th>\n",
              "      <th>longitude</th>\n",
              "      <th>frp</th>\n",
              "    </tr>\n",
              "  </thead>\n",
              "  <tbody>\n",
              "    <tr>\n",
              "      <th>468</th>\n",
              "      <td>2012/02/07 16:46:00</td>\n",
              "      <td>NPP-375</td>\n",
              "      <td>Brasil</td>\n",
              "      <td>MATO GROSSO DO SUL</td>\n",
              "      <td>CORUMBA</td>\n",
              "      <td>Pantanal</td>\n",
              "      <td>NaN</td>\n",
              "      <td>NaN</td>\n",
              "      <td>NaN</td>\n",
              "      <td>-19.6091</td>\n",
              "      <td>-57.3519</td>\n",
              "      <td>NaN</td>\n",
              "    </tr>\n",
              "    <tr>\n",
              "      <th>502</th>\n",
              "      <td>2012/02/08 16:27:00</td>\n",
              "      <td>NPP-375</td>\n",
              "      <td>Brasil</td>\n",
              "      <td>MATO GROSSO DO SUL</td>\n",
              "      <td>CORUMBA</td>\n",
              "      <td>Pantanal</td>\n",
              "      <td>NaN</td>\n",
              "      <td>NaN</td>\n",
              "      <td>NaN</td>\n",
              "      <td>-19.6463</td>\n",
              "      <td>-57.3300</td>\n",
              "      <td>NaN</td>\n",
              "    </tr>\n",
              "    <tr>\n",
              "      <th>530</th>\n",
              "      <td>2012/02/10 17:31:00</td>\n",
              "      <td>NPP-375</td>\n",
              "      <td>Brasil</td>\n",
              "      <td>MATO GROSSO DO SUL</td>\n",
              "      <td>CORUMBA</td>\n",
              "      <td>Pantanal</td>\n",
              "      <td>NaN</td>\n",
              "      <td>NaN</td>\n",
              "      <td>NaN</td>\n",
              "      <td>-18.6448</td>\n",
              "      <td>-57.2347</td>\n",
              "      <td>NaN</td>\n",
              "    </tr>\n",
              "    <tr>\n",
              "      <th>531</th>\n",
              "      <td>2012/02/10 17:31:00</td>\n",
              "      <td>NPP-375</td>\n",
              "      <td>Brasil</td>\n",
              "      <td>MATO GROSSO DO SUL</td>\n",
              "      <td>CORUMBA</td>\n",
              "      <td>Pantanal</td>\n",
              "      <td>NaN</td>\n",
              "      <td>NaN</td>\n",
              "      <td>NaN</td>\n",
              "      <td>-19.0780</td>\n",
              "      <td>-57.4382</td>\n",
              "      <td>NaN</td>\n",
              "    </tr>\n",
              "    <tr>\n",
              "      <th>532</th>\n",
              "      <td>2012/02/10 05:00:00</td>\n",
              "      <td>NPP-375</td>\n",
              "      <td>Brasil</td>\n",
              "      <td>MATO GROSSO DO SUL</td>\n",
              "      <td>CORUMBA</td>\n",
              "      <td>Pantanal</td>\n",
              "      <td>NaN</td>\n",
              "      <td>NaN</td>\n",
              "      <td>NaN</td>\n",
              "      <td>-18.8916</td>\n",
              "      <td>-57.7218</td>\n",
              "      <td>NaN</td>\n",
              "    </tr>\n",
              "  </tbody>\n",
              "</table>\n",
              "</div>"
            ],
            "text/plain": [
              "                datahora satelite    pais  ... latitude longitude frp\n",
              "468  2012/02/07 16:46:00  NPP-375  Brasil  ... -19.6091  -57.3519 NaN\n",
              "502  2012/02/08 16:27:00  NPP-375  Brasil  ... -19.6463  -57.3300 NaN\n",
              "530  2012/02/10 17:31:00  NPP-375  Brasil  ... -18.6448  -57.2347 NaN\n",
              "531  2012/02/10 17:31:00  NPP-375  Brasil  ... -19.0780  -57.4382 NaN\n",
              "532  2012/02/10 05:00:00  NPP-375  Brasil  ... -18.8916  -57.7218 NaN\n",
              "\n",
              "[5 rows x 12 columns]"
            ]
          },
          "metadata": {
            "tags": []
          },
          "execution_count": 95
        }
      ]
    },
    {
      "cell_type": "markdown",
      "metadata": {
        "id": "D0nORowWy3qk"
      },
      "source": [
        "**INFORMAÇÕES GERAIS DO DATASET**"
      ]
    },
    {
      "cell_type": "code",
      "metadata": {
        "colab": {
          "base_uri": "https://localhost:8080/",
          "height": 297
        },
        "id": "SCbfTXUxlZnz",
        "outputId": "7f72a9a1-3c51-499e-aff6-097348c03588"
      },
      "source": [
        "df.describe().round(2) # Resume e descreve algumas operações gerais do Dataset. Round(2) arredonda para 2 casas decimais."
      ],
      "execution_count": null,
      "outputs": [
        {
          "output_type": "execute_result",
          "data": {
            "text/html": [
              "<div>\n",
              "<style scoped>\n",
              "    .dataframe tbody tr th:only-of-type {\n",
              "        vertical-align: middle;\n",
              "    }\n",
              "\n",
              "    .dataframe tbody tr th {\n",
              "        vertical-align: top;\n",
              "    }\n",
              "\n",
              "    .dataframe thead th {\n",
              "        text-align: right;\n",
              "    }\n",
              "</style>\n",
              "<table border=\"1\" class=\"dataframe\">\n",
              "  <thead>\n",
              "    <tr style=\"text-align: right;\">\n",
              "      <th></th>\n",
              "      <th>diasemchuva</th>\n",
              "      <th>precipitacao</th>\n",
              "      <th>riscofogo</th>\n",
              "      <th>latitude</th>\n",
              "      <th>longitude</th>\n",
              "      <th>frp</th>\n",
              "    </tr>\n",
              "  </thead>\n",
              "  <tbody>\n",
              "    <tr>\n",
              "      <th>count</th>\n",
              "      <td>402278.00</td>\n",
              "      <td>402278.00</td>\n",
              "      <td>402278.00</td>\n",
              "      <td>480926.00</td>\n",
              "      <td>480926.00</td>\n",
              "      <td>287788.00</td>\n",
              "    </tr>\n",
              "    <tr>\n",
              "      <th>mean</th>\n",
              "      <td>13.56</td>\n",
              "      <td>0.71</td>\n",
              "      <td>-12.68</td>\n",
              "      <td>-18.16</td>\n",
              "      <td>-56.92</td>\n",
              "      <td>15.47</td>\n",
              "    </tr>\n",
              "    <tr>\n",
              "      <th>std</th>\n",
              "      <td>18.05</td>\n",
              "      <td>3.48</td>\n",
              "      <td>115.21</td>\n",
              "      <td>1.36</td>\n",
              "      <td>0.80</td>\n",
              "      <td>28.74</td>\n",
              "    </tr>\n",
              "    <tr>\n",
              "      <th>min</th>\n",
              "      <td>0.00</td>\n",
              "      <td>0.00</td>\n",
              "      <td>-999.00</td>\n",
              "      <td>-22.13</td>\n",
              "      <td>-59.18</td>\n",
              "      <td>0.10</td>\n",
              "    </tr>\n",
              "    <tr>\n",
              "      <th>25%</th>\n",
              "      <td>3.00</td>\n",
              "      <td>0.00</td>\n",
              "      <td>0.60</td>\n",
              "      <td>-19.29</td>\n",
              "      <td>-57.52</td>\n",
              "      <td>3.50</td>\n",
              "    </tr>\n",
              "    <tr>\n",
              "      <th>50%</th>\n",
              "      <td>7.00</td>\n",
              "      <td>0.00</td>\n",
              "      <td>1.00</td>\n",
              "      <td>-17.83</td>\n",
              "      <td>-57.12</td>\n",
              "      <td>7.30</td>\n",
              "    </tr>\n",
              "    <tr>\n",
              "      <th>75%</th>\n",
              "      <td>17.00</td>\n",
              "      <td>0.00</td>\n",
              "      <td>1.00</td>\n",
              "      <td>-17.03</td>\n",
              "      <td>-56.25</td>\n",
              "      <td>15.90</td>\n",
              "    </tr>\n",
              "    <tr>\n",
              "      <th>max</th>\n",
              "      <td>117.00</td>\n",
              "      <td>138.00</td>\n",
              "      <td>1.00</td>\n",
              "      <td>-15.53</td>\n",
              "      <td>-54.92</td>\n",
              "      <td>1945.20</td>\n",
              "    </tr>\n",
              "  </tbody>\n",
              "</table>\n",
              "</div>"
            ],
            "text/plain": [
              "       diasemchuva  precipitacao  riscofogo   latitude  longitude        frp\n",
              "count    402278.00     402278.00  402278.00  480926.00  480926.00  287788.00\n",
              "mean         13.56          0.71     -12.68     -18.16     -56.92      15.47\n",
              "std          18.05          3.48     115.21       1.36       0.80      28.74\n",
              "min           0.00          0.00    -999.00     -22.13     -59.18       0.10\n",
              "25%           3.00          0.00       0.60     -19.29     -57.52       3.50\n",
              "50%           7.00          0.00       1.00     -17.83     -57.12       7.30\n",
              "75%          17.00          0.00       1.00     -17.03     -56.25      15.90\n",
              "max         117.00        138.00       1.00     -15.53     -54.92    1945.20"
            ]
          },
          "metadata": {
            "tags": []
          },
          "execution_count": 96
        }
      ]
    },
    {
      "cell_type": "code",
      "metadata": {
        "colab": {
          "base_uri": "https://localhost:8080/"
        },
        "id": "kZNq60Y3v5sN",
        "outputId": "faf499c4-513a-4975-9b64-c9422f71217a"
      },
      "source": [
        "print(df.riscofogo.count()) #Contagem de dados não-nulos de uma coluna específica"
      ],
      "execution_count": null,
      "outputs": [
        {
          "output_type": "stream",
          "text": [
            "402278\n"
          ],
          "name": "stdout"
        }
      ]
    },
    {
      "cell_type": "code",
      "metadata": {
        "colab": {
          "base_uri": "https://localhost:8080/"
        },
        "id": "5lStfzxEwb-s",
        "outputId": "e08c7aaf-b6cc-4f22-8c62-b1e2df824650"
      },
      "source": [
        "print(df['riscofogo'].isna().sum()) #Contagem de dados nulos de uma coluna específica"
      ],
      "execution_count": null,
      "outputs": [
        {
          "output_type": "stream",
          "text": [
            "78648\n"
          ],
          "name": "stdout"
        }
      ]
    },
    {
      "cell_type": "markdown",
      "metadata": {
        "id": "UwYVPs3PbyNb"
      },
      "source": [
        "**RETIRANDO AS LINHAS COM riscofogo = NaN**"
      ]
    },
    {
      "cell_type": "markdown",
      "metadata": {
        "id": "oRieBr1RAeh6"
      },
      "source": [
        "**Informação sobre Risco Fogo**\n",
        "*   Mínimo, abaixo de 0,15;\n",
        "*   Baixo, de 0,15 a 0,4;\n",
        "*   Médio, de 0,4 a 0,7;\n",
        "*   Alto, de 0,7 a 0,95 e;\n",
        "*   Crítico, acima de 0.95."
      ]
    },
    {
      "cell_type": "code",
      "metadata": {
        "id": "JvMRkR60cOeX"
      },
      "source": [
        "df = df.dropna(subset=[\"riscofogo\"])"
      ],
      "execution_count": null,
      "outputs": []
    },
    {
      "cell_type": "code",
      "metadata": {
        "id": "8pWNi9hbb7N9",
        "colab": {
          "base_uri": "https://localhost:8080/",
          "height": 204
        },
        "outputId": "88f7ad7f-5b12-4ad9-90f2-7869e9d0badb"
      },
      "source": [
        "df.head(5)"
      ],
      "execution_count": null,
      "outputs": [
        {
          "output_type": "execute_result",
          "data": {
            "text/html": [
              "<div>\n",
              "<style scoped>\n",
              "    .dataframe tbody tr th:only-of-type {\n",
              "        vertical-align: middle;\n",
              "    }\n",
              "\n",
              "    .dataframe tbody tr th {\n",
              "        vertical-align: top;\n",
              "    }\n",
              "\n",
              "    .dataframe thead th {\n",
              "        text-align: right;\n",
              "    }\n",
              "</style>\n",
              "<table border=\"1\" class=\"dataframe\">\n",
              "  <thead>\n",
              "    <tr style=\"text-align: right;\">\n",
              "      <th></th>\n",
              "      <th>datahora</th>\n",
              "      <th>satelite</th>\n",
              "      <th>pais</th>\n",
              "      <th>estado</th>\n",
              "      <th>municipio</th>\n",
              "      <th>bioma</th>\n",
              "      <th>diasemchuva</th>\n",
              "      <th>precipitacao</th>\n",
              "      <th>riscofogo</th>\n",
              "      <th>latitude</th>\n",
              "      <th>longitude</th>\n",
              "      <th>frp</th>\n",
              "    </tr>\n",
              "  </thead>\n",
              "  <tbody>\n",
              "    <tr>\n",
              "      <th>2</th>\n",
              "      <td>2014/10/15 17:02:00</td>\n",
              "      <td>NPP-375</td>\n",
              "      <td>Brasil</td>\n",
              "      <td>MATO GROSSO DO SUL</td>\n",
              "      <td>CORUMBA</td>\n",
              "      <td>Pantanal</td>\n",
              "      <td>8.0</td>\n",
              "      <td>0.0</td>\n",
              "      <td>1.0</td>\n",
              "      <td>-19.9664</td>\n",
              "      <td>-57.4599</td>\n",
              "      <td>NaN</td>\n",
              "    </tr>\n",
              "    <tr>\n",
              "      <th>3</th>\n",
              "      <td>2014/10/09 17:15:00</td>\n",
              "      <td>NPP-375</td>\n",
              "      <td>Brasil</td>\n",
              "      <td>MATO GROSSO DO SUL</td>\n",
              "      <td>CORUMBA</td>\n",
              "      <td>Pantanal</td>\n",
              "      <td>2.0</td>\n",
              "      <td>0.0</td>\n",
              "      <td>1.0</td>\n",
              "      <td>-19.8841</td>\n",
              "      <td>-57.3938</td>\n",
              "      <td>NaN</td>\n",
              "    </tr>\n",
              "    <tr>\n",
              "      <th>4</th>\n",
              "      <td>2014/10/15 17:02:00</td>\n",
              "      <td>NPP-375</td>\n",
              "      <td>Brasil</td>\n",
              "      <td>MATO GROSSO DO SUL</td>\n",
              "      <td>CORUMBA</td>\n",
              "      <td>Pantanal</td>\n",
              "      <td>8.0</td>\n",
              "      <td>0.0</td>\n",
              "      <td>1.0</td>\n",
              "      <td>-19.9342</td>\n",
              "      <td>-57.3920</td>\n",
              "      <td>NaN</td>\n",
              "    </tr>\n",
              "    <tr>\n",
              "      <th>5</th>\n",
              "      <td>2014/10/15 17:03:00</td>\n",
              "      <td>NPP-375</td>\n",
              "      <td>Brasil</td>\n",
              "      <td>MATO GROSSO DO SUL</td>\n",
              "      <td>CORUMBA</td>\n",
              "      <td>Pantanal</td>\n",
              "      <td>4.0</td>\n",
              "      <td>0.0</td>\n",
              "      <td>1.0</td>\n",
              "      <td>-18.5320</td>\n",
              "      <td>-56.6813</td>\n",
              "      <td>NaN</td>\n",
              "    </tr>\n",
              "    <tr>\n",
              "      <th>6</th>\n",
              "      <td>2014/10/15 17:02:00</td>\n",
              "      <td>NPP-375</td>\n",
              "      <td>Brasil</td>\n",
              "      <td>MATO GROSSO DO SUL</td>\n",
              "      <td>CORUMBA</td>\n",
              "      <td>Pantanal</td>\n",
              "      <td>8.0</td>\n",
              "      <td>0.0</td>\n",
              "      <td>0.8</td>\n",
              "      <td>-19.9478</td>\n",
              "      <td>-57.3313</td>\n",
              "      <td>NaN</td>\n",
              "    </tr>\n",
              "  </tbody>\n",
              "</table>\n",
              "</div>"
            ],
            "text/plain": [
              "              datahora satelite    pais  ... latitude longitude frp\n",
              "2  2014/10/15 17:02:00  NPP-375  Brasil  ... -19.9664  -57.4599 NaN\n",
              "3  2014/10/09 17:15:00  NPP-375  Brasil  ... -19.8841  -57.3938 NaN\n",
              "4  2014/10/15 17:02:00  NPP-375  Brasil  ... -19.9342  -57.3920 NaN\n",
              "5  2014/10/15 17:03:00  NPP-375  Brasil  ... -18.5320  -56.6813 NaN\n",
              "6  2014/10/15 17:02:00  NPP-375  Brasil  ... -19.9478  -57.3313 NaN\n",
              "\n",
              "[5 rows x 12 columns]"
            ]
          },
          "metadata": {
            "tags": []
          },
          "execution_count": 100
        }
      ]
    },
    {
      "cell_type": "markdown",
      "metadata": {
        "id": "xVcGaY7M3M_B"
      },
      "source": [
        "**SEPARANDO DATA E HORA - PARTE 1 - Transformando a coluna para datetime**"
      ]
    },
    {
      "cell_type": "code",
      "metadata": {
        "id": "aaZmb77t1Vcl"
      },
      "source": [
        "df['datahora'] = pd.to_datetime(df['datahora'])"
      ],
      "execution_count": null,
      "outputs": []
    },
    {
      "cell_type": "markdown",
      "metadata": {
        "id": "nTmT2Clm3qZs"
      },
      "source": [
        "**SEPARANDO DATA E HORA - PARTE 2**"
      ]
    },
    {
      "cell_type": "code",
      "metadata": {
        "id": "XNaGZB_02bPp"
      },
      "source": [
        "# Coluna 'Data'\n",
        "df['Data'] = df['datahora'].dt.strftime('%Y-%m-%d')\n",
        "# Coluna 'Hora'\n",
        "df['Hora'] = df['datahora'].dt.strftime('%H:%M:%S')"
      ],
      "execution_count": null,
      "outputs": []
    },
    {
      "cell_type": "code",
      "metadata": {
        "colab": {
          "base_uri": "https://localhost:8080/",
          "height": 204
        },
        "id": "xA1FwC6_2x4f",
        "outputId": "aa456142-4415-4df5-9d18-3b2aea44ad17"
      },
      "source": [
        "df.head(5)"
      ],
      "execution_count": null,
      "outputs": [
        {
          "output_type": "execute_result",
          "data": {
            "text/html": [
              "<div>\n",
              "<style scoped>\n",
              "    .dataframe tbody tr th:only-of-type {\n",
              "        vertical-align: middle;\n",
              "    }\n",
              "\n",
              "    .dataframe tbody tr th {\n",
              "        vertical-align: top;\n",
              "    }\n",
              "\n",
              "    .dataframe thead th {\n",
              "        text-align: right;\n",
              "    }\n",
              "</style>\n",
              "<table border=\"1\" class=\"dataframe\">\n",
              "  <thead>\n",
              "    <tr style=\"text-align: right;\">\n",
              "      <th></th>\n",
              "      <th>datahora</th>\n",
              "      <th>satelite</th>\n",
              "      <th>pais</th>\n",
              "      <th>estado</th>\n",
              "      <th>municipio</th>\n",
              "      <th>bioma</th>\n",
              "      <th>diasemchuva</th>\n",
              "      <th>precipitacao</th>\n",
              "      <th>riscofogo</th>\n",
              "      <th>latitude</th>\n",
              "      <th>longitude</th>\n",
              "      <th>frp</th>\n",
              "      <th>Data</th>\n",
              "      <th>Hora</th>\n",
              "    </tr>\n",
              "  </thead>\n",
              "  <tbody>\n",
              "    <tr>\n",
              "      <th>2</th>\n",
              "      <td>2014-10-15 17:02:00</td>\n",
              "      <td>NPP-375</td>\n",
              "      <td>Brasil</td>\n",
              "      <td>MATO GROSSO DO SUL</td>\n",
              "      <td>CORUMBA</td>\n",
              "      <td>Pantanal</td>\n",
              "      <td>8.0</td>\n",
              "      <td>0.0</td>\n",
              "      <td>1.0</td>\n",
              "      <td>-19.9664</td>\n",
              "      <td>-57.4599</td>\n",
              "      <td>NaN</td>\n",
              "      <td>2014-10-15</td>\n",
              "      <td>17:02:00</td>\n",
              "    </tr>\n",
              "    <tr>\n",
              "      <th>3</th>\n",
              "      <td>2014-10-09 17:15:00</td>\n",
              "      <td>NPP-375</td>\n",
              "      <td>Brasil</td>\n",
              "      <td>MATO GROSSO DO SUL</td>\n",
              "      <td>CORUMBA</td>\n",
              "      <td>Pantanal</td>\n",
              "      <td>2.0</td>\n",
              "      <td>0.0</td>\n",
              "      <td>1.0</td>\n",
              "      <td>-19.8841</td>\n",
              "      <td>-57.3938</td>\n",
              "      <td>NaN</td>\n",
              "      <td>2014-10-09</td>\n",
              "      <td>17:15:00</td>\n",
              "    </tr>\n",
              "    <tr>\n",
              "      <th>4</th>\n",
              "      <td>2014-10-15 17:02:00</td>\n",
              "      <td>NPP-375</td>\n",
              "      <td>Brasil</td>\n",
              "      <td>MATO GROSSO DO SUL</td>\n",
              "      <td>CORUMBA</td>\n",
              "      <td>Pantanal</td>\n",
              "      <td>8.0</td>\n",
              "      <td>0.0</td>\n",
              "      <td>1.0</td>\n",
              "      <td>-19.9342</td>\n",
              "      <td>-57.3920</td>\n",
              "      <td>NaN</td>\n",
              "      <td>2014-10-15</td>\n",
              "      <td>17:02:00</td>\n",
              "    </tr>\n",
              "    <tr>\n",
              "      <th>5</th>\n",
              "      <td>2014-10-15 17:03:00</td>\n",
              "      <td>NPP-375</td>\n",
              "      <td>Brasil</td>\n",
              "      <td>MATO GROSSO DO SUL</td>\n",
              "      <td>CORUMBA</td>\n",
              "      <td>Pantanal</td>\n",
              "      <td>4.0</td>\n",
              "      <td>0.0</td>\n",
              "      <td>1.0</td>\n",
              "      <td>-18.5320</td>\n",
              "      <td>-56.6813</td>\n",
              "      <td>NaN</td>\n",
              "      <td>2014-10-15</td>\n",
              "      <td>17:03:00</td>\n",
              "    </tr>\n",
              "    <tr>\n",
              "      <th>6</th>\n",
              "      <td>2014-10-15 17:02:00</td>\n",
              "      <td>NPP-375</td>\n",
              "      <td>Brasil</td>\n",
              "      <td>MATO GROSSO DO SUL</td>\n",
              "      <td>CORUMBA</td>\n",
              "      <td>Pantanal</td>\n",
              "      <td>8.0</td>\n",
              "      <td>0.0</td>\n",
              "      <td>0.8</td>\n",
              "      <td>-19.9478</td>\n",
              "      <td>-57.3313</td>\n",
              "      <td>NaN</td>\n",
              "      <td>2014-10-15</td>\n",
              "      <td>17:02:00</td>\n",
              "    </tr>\n",
              "  </tbody>\n",
              "</table>\n",
              "</div>"
            ],
            "text/plain": [
              "             datahora satelite    pais  ... frp        Data      Hora\n",
              "2 2014-10-15 17:02:00  NPP-375  Brasil  ... NaN  2014-10-15  17:02:00\n",
              "3 2014-10-09 17:15:00  NPP-375  Brasil  ... NaN  2014-10-09  17:15:00\n",
              "4 2014-10-15 17:02:00  NPP-375  Brasil  ... NaN  2014-10-15  17:02:00\n",
              "5 2014-10-15 17:03:00  NPP-375  Brasil  ... NaN  2014-10-15  17:03:00\n",
              "6 2014-10-15 17:02:00  NPP-375  Brasil  ... NaN  2014-10-15  17:02:00\n",
              "\n",
              "[5 rows x 14 columns]"
            ]
          },
          "metadata": {
            "tags": []
          },
          "execution_count": 103
        }
      ]
    },
    {
      "cell_type": "markdown",
      "metadata": {
        "id": "NLvWPRvb3urw"
      },
      "source": [
        "**DELETANDO A COLUNA datahora**\n"
      ]
    },
    {
      "cell_type": "code",
      "metadata": {
        "id": "JjmbRJvX3uM8"
      },
      "source": [
        "# Remove a coluna 'Data e Hora'\n",
        "del df['datahora']"
      ],
      "execution_count": null,
      "outputs": []
    },
    {
      "cell_type": "code",
      "metadata": {
        "colab": {
          "base_uri": "https://localhost:8080/",
          "height": 204
        },
        "id": "qe-HJTbz3KxQ",
        "outputId": "ba3d903b-2cec-4c4a-8872-6b3ef6cd38d1"
      },
      "source": [
        "df.head(5)"
      ],
      "execution_count": null,
      "outputs": [
        {
          "output_type": "execute_result",
          "data": {
            "text/html": [
              "<div>\n",
              "<style scoped>\n",
              "    .dataframe tbody tr th:only-of-type {\n",
              "        vertical-align: middle;\n",
              "    }\n",
              "\n",
              "    .dataframe tbody tr th {\n",
              "        vertical-align: top;\n",
              "    }\n",
              "\n",
              "    .dataframe thead th {\n",
              "        text-align: right;\n",
              "    }\n",
              "</style>\n",
              "<table border=\"1\" class=\"dataframe\">\n",
              "  <thead>\n",
              "    <tr style=\"text-align: right;\">\n",
              "      <th></th>\n",
              "      <th>satelite</th>\n",
              "      <th>pais</th>\n",
              "      <th>estado</th>\n",
              "      <th>municipio</th>\n",
              "      <th>bioma</th>\n",
              "      <th>diasemchuva</th>\n",
              "      <th>precipitacao</th>\n",
              "      <th>riscofogo</th>\n",
              "      <th>latitude</th>\n",
              "      <th>longitude</th>\n",
              "      <th>frp</th>\n",
              "      <th>Data</th>\n",
              "      <th>Hora</th>\n",
              "    </tr>\n",
              "  </thead>\n",
              "  <tbody>\n",
              "    <tr>\n",
              "      <th>2</th>\n",
              "      <td>NPP-375</td>\n",
              "      <td>Brasil</td>\n",
              "      <td>MATO GROSSO DO SUL</td>\n",
              "      <td>CORUMBA</td>\n",
              "      <td>Pantanal</td>\n",
              "      <td>8.0</td>\n",
              "      <td>0.0</td>\n",
              "      <td>1.0</td>\n",
              "      <td>-19.9664</td>\n",
              "      <td>-57.4599</td>\n",
              "      <td>NaN</td>\n",
              "      <td>2014-10-15</td>\n",
              "      <td>17:02:00</td>\n",
              "    </tr>\n",
              "    <tr>\n",
              "      <th>3</th>\n",
              "      <td>NPP-375</td>\n",
              "      <td>Brasil</td>\n",
              "      <td>MATO GROSSO DO SUL</td>\n",
              "      <td>CORUMBA</td>\n",
              "      <td>Pantanal</td>\n",
              "      <td>2.0</td>\n",
              "      <td>0.0</td>\n",
              "      <td>1.0</td>\n",
              "      <td>-19.8841</td>\n",
              "      <td>-57.3938</td>\n",
              "      <td>NaN</td>\n",
              "      <td>2014-10-09</td>\n",
              "      <td>17:15:00</td>\n",
              "    </tr>\n",
              "    <tr>\n",
              "      <th>4</th>\n",
              "      <td>NPP-375</td>\n",
              "      <td>Brasil</td>\n",
              "      <td>MATO GROSSO DO SUL</td>\n",
              "      <td>CORUMBA</td>\n",
              "      <td>Pantanal</td>\n",
              "      <td>8.0</td>\n",
              "      <td>0.0</td>\n",
              "      <td>1.0</td>\n",
              "      <td>-19.9342</td>\n",
              "      <td>-57.3920</td>\n",
              "      <td>NaN</td>\n",
              "      <td>2014-10-15</td>\n",
              "      <td>17:02:00</td>\n",
              "    </tr>\n",
              "    <tr>\n",
              "      <th>5</th>\n",
              "      <td>NPP-375</td>\n",
              "      <td>Brasil</td>\n",
              "      <td>MATO GROSSO DO SUL</td>\n",
              "      <td>CORUMBA</td>\n",
              "      <td>Pantanal</td>\n",
              "      <td>4.0</td>\n",
              "      <td>0.0</td>\n",
              "      <td>1.0</td>\n",
              "      <td>-18.5320</td>\n",
              "      <td>-56.6813</td>\n",
              "      <td>NaN</td>\n",
              "      <td>2014-10-15</td>\n",
              "      <td>17:03:00</td>\n",
              "    </tr>\n",
              "    <tr>\n",
              "      <th>6</th>\n",
              "      <td>NPP-375</td>\n",
              "      <td>Brasil</td>\n",
              "      <td>MATO GROSSO DO SUL</td>\n",
              "      <td>CORUMBA</td>\n",
              "      <td>Pantanal</td>\n",
              "      <td>8.0</td>\n",
              "      <td>0.0</td>\n",
              "      <td>0.8</td>\n",
              "      <td>-19.9478</td>\n",
              "      <td>-57.3313</td>\n",
              "      <td>NaN</td>\n",
              "      <td>2014-10-15</td>\n",
              "      <td>17:02:00</td>\n",
              "    </tr>\n",
              "  </tbody>\n",
              "</table>\n",
              "</div>"
            ],
            "text/plain": [
              "  satelite    pais              estado  ... frp        Data      Hora\n",
              "2  NPP-375  Brasil  MATO GROSSO DO SUL  ... NaN  2014-10-15  17:02:00\n",
              "3  NPP-375  Brasil  MATO GROSSO DO SUL  ... NaN  2014-10-09  17:15:00\n",
              "4  NPP-375  Brasil  MATO GROSSO DO SUL  ... NaN  2014-10-15  17:02:00\n",
              "5  NPP-375  Brasil  MATO GROSSO DO SUL  ... NaN  2014-10-15  17:03:00\n",
              "6  NPP-375  Brasil  MATO GROSSO DO SUL  ... NaN  2014-10-15  17:02:00\n",
              "\n",
              "[5 rows x 13 columns]"
            ]
          },
          "metadata": {
            "tags": []
          },
          "execution_count": 105
        }
      ]
    },
    {
      "cell_type": "markdown",
      "metadata": {
        "id": "00o0QbAx5-iq"
      },
      "source": [
        "**TAMANHO DO DATASET APÓS PRIMEIRA LIMPEZA**"
      ]
    },
    {
      "cell_type": "code",
      "metadata": {
        "colab": {
          "base_uri": "https://localhost:8080/"
        },
        "id": "uJJgNBNO6H14",
        "outputId": "841a0dd6-1b86-4870-9a7a-5b64a2dccdbf"
      },
      "source": [
        "print(f'Tamanho do Dataframe: {df.shape[0]} linhas e {df.shape[1]} colunas') # Descreve o tamanho do dataframe em uma tupla"
      ],
      "execution_count": null,
      "outputs": [
        {
          "output_type": "stream",
          "text": [
            "Tamanho do Dataframe: 402278 linhas e 13 colunas\n"
          ],
          "name": "stdout"
        }
      ]
    },
    {
      "cell_type": "code",
      "metadata": {
        "colab": {
          "base_uri": "https://localhost:8080/",
          "height": 195
        },
        "id": "F9Ucu78lb_vJ",
        "outputId": "d48b6b57-ca9d-4a74-8ad7-f5eaeb663dba"
      },
      "source": [
        "df.head(5)"
      ],
      "execution_count": null,
      "outputs": [
        {
          "output_type": "execute_result",
          "data": {
            "text/html": [
              "<div>\n",
              "<style scoped>\n",
              "    .dataframe tbody tr th:only-of-type {\n",
              "        vertical-align: middle;\n",
              "    }\n",
              "\n",
              "    .dataframe tbody tr th {\n",
              "        vertical-align: top;\n",
              "    }\n",
              "\n",
              "    .dataframe thead th {\n",
              "        text-align: right;\n",
              "    }\n",
              "</style>\n",
              "<table border=\"1\" class=\"dataframe\">\n",
              "  <thead>\n",
              "    <tr style=\"text-align: right;\">\n",
              "      <th></th>\n",
              "      <th>satelite</th>\n",
              "      <th>pais</th>\n",
              "      <th>estado</th>\n",
              "      <th>municipio</th>\n",
              "      <th>bioma</th>\n",
              "      <th>diasemchuva</th>\n",
              "      <th>precipitacao</th>\n",
              "      <th>riscofogo</th>\n",
              "      <th>latitude</th>\n",
              "      <th>longitude</th>\n",
              "      <th>frp</th>\n",
              "      <th>Data</th>\n",
              "      <th>Hora</th>\n",
              "      <th>coordenadas_mapa</th>\n",
              "    </tr>\n",
              "  </thead>\n",
              "  <tbody>\n",
              "    <tr>\n",
              "      <th>0</th>\n",
              "      <td>AQUA_M-M</td>\n",
              "      <td>Brasil</td>\n",
              "      <td>MATO GROSSO DO SUL</td>\n",
              "      <td>AQUIDAUANA</td>\n",
              "      <td>Pantanal</td>\n",
              "      <td>4.0</td>\n",
              "      <td>0.0</td>\n",
              "      <td>0.2</td>\n",
              "      <td>-19.4670</td>\n",
              "      <td>-56.3880</td>\n",
              "      <td>NaN</td>\n",
              "      <td>2014-01-03</td>\n",
              "      <td>05:10:00</td>\n",
              "      <td>(-19.467, -56.388)</td>\n",
              "    </tr>\n",
              "    <tr>\n",
              "      <th>1</th>\n",
              "      <td>AQUA_M-M</td>\n",
              "      <td>Brasil</td>\n",
              "      <td>MATO GROSSO</td>\n",
              "      <td>CACERES</td>\n",
              "      <td>Pantanal</td>\n",
              "      <td>2.0</td>\n",
              "      <td>0.0</td>\n",
              "      <td>0.9</td>\n",
              "      <td>-16.2360</td>\n",
              "      <td>-58.5860</td>\n",
              "      <td>NaN</td>\n",
              "      <td>2014-10-09</td>\n",
              "      <td>05:15:00</td>\n",
              "      <td>(-16.236, -58.586)</td>\n",
              "    </tr>\n",
              "    <tr>\n",
              "      <th>2</th>\n",
              "      <td>NPP-375</td>\n",
              "      <td>Brasil</td>\n",
              "      <td>MATO GROSSO DO SUL</td>\n",
              "      <td>CORUMBA</td>\n",
              "      <td>Pantanal</td>\n",
              "      <td>8.0</td>\n",
              "      <td>0.0</td>\n",
              "      <td>1.0</td>\n",
              "      <td>-19.9664</td>\n",
              "      <td>-57.4599</td>\n",
              "      <td>NaN</td>\n",
              "      <td>2014-10-15</td>\n",
              "      <td>17:02:00</td>\n",
              "      <td>(-19.9664, -57.4599)</td>\n",
              "    </tr>\n",
              "    <tr>\n",
              "      <th>3</th>\n",
              "      <td>NPP-375</td>\n",
              "      <td>Brasil</td>\n",
              "      <td>MATO GROSSO DO SUL</td>\n",
              "      <td>CORUMBA</td>\n",
              "      <td>Pantanal</td>\n",
              "      <td>2.0</td>\n",
              "      <td>0.0</td>\n",
              "      <td>1.0</td>\n",
              "      <td>-19.8841</td>\n",
              "      <td>-57.3938</td>\n",
              "      <td>NaN</td>\n",
              "      <td>2014-10-09</td>\n",
              "      <td>17:15:00</td>\n",
              "      <td>(-19.8841, -57.3938)</td>\n",
              "    </tr>\n",
              "    <tr>\n",
              "      <th>4</th>\n",
              "      <td>NPP-375</td>\n",
              "      <td>Brasil</td>\n",
              "      <td>MATO GROSSO DO SUL</td>\n",
              "      <td>CORUMBA</td>\n",
              "      <td>Pantanal</td>\n",
              "      <td>8.0</td>\n",
              "      <td>0.0</td>\n",
              "      <td>1.0</td>\n",
              "      <td>-19.9342</td>\n",
              "      <td>-57.3920</td>\n",
              "      <td>NaN</td>\n",
              "      <td>2014-10-15</td>\n",
              "      <td>17:02:00</td>\n",
              "      <td>(-19.9342, -57.392)</td>\n",
              "    </tr>\n",
              "  </tbody>\n",
              "</table>\n",
              "</div>"
            ],
            "text/plain": [
              "   satelite    pais  ...      Hora      coordenadas_mapa\n",
              "0  AQUA_M-M  Brasil  ...  05:10:00    (-19.467, -56.388)\n",
              "1  AQUA_M-M  Brasil  ...  05:15:00    (-16.236, -58.586)\n",
              "2   NPP-375  Brasil  ...  17:02:00  (-19.9664, -57.4599)\n",
              "3   NPP-375  Brasil  ...  17:15:00  (-19.8841, -57.3938)\n",
              "4   NPP-375  Brasil  ...  17:02:00   (-19.9342, -57.392)\n",
              "\n",
              "[5 rows x 14 columns]"
            ]
          },
          "metadata": {
            "tags": []
          },
          "execution_count": 34
        }
      ]
    },
    {
      "cell_type": "markdown",
      "metadata": {
        "id": "JFFwhkRNu3qQ"
      },
      "source": [
        "**RETIRAR riscofogo MENOR QUE 0**"
      ]
    },
    {
      "cell_type": "code",
      "metadata": {
        "id": "ZEevo7oCsrlW"
      },
      "source": [
        "indexNames = df[df['riscofogo'] < 0].index\n",
        "df.drop(indexNames , inplace=True)"
      ],
      "execution_count": null,
      "outputs": []
    },
    {
      "cell_type": "code",
      "metadata": {
        "colab": {
          "base_uri": "https://localhost:8080/",
          "height": 419
        },
        "id": "JdacWmgfs1ac",
        "outputId": "4a67bf2f-53da-4b02-fe2e-edb5d593d2b0"
      },
      "source": [
        "df"
      ],
      "execution_count": null,
      "outputs": [
        {
          "output_type": "execute_result",
          "data": {
            "text/html": [
              "<div>\n",
              "<style scoped>\n",
              "    .dataframe tbody tr th:only-of-type {\n",
              "        vertical-align: middle;\n",
              "    }\n",
              "\n",
              "    .dataframe tbody tr th {\n",
              "        vertical-align: top;\n",
              "    }\n",
              "\n",
              "    .dataframe thead th {\n",
              "        text-align: right;\n",
              "    }\n",
              "</style>\n",
              "<table border=\"1\" class=\"dataframe\">\n",
              "  <thead>\n",
              "    <tr style=\"text-align: right;\">\n",
              "      <th></th>\n",
              "      <th>satelite</th>\n",
              "      <th>pais</th>\n",
              "      <th>estado</th>\n",
              "      <th>municipio</th>\n",
              "      <th>bioma</th>\n",
              "      <th>diasemchuva</th>\n",
              "      <th>precipitacao</th>\n",
              "      <th>riscofogo</th>\n",
              "      <th>latitude</th>\n",
              "      <th>longitude</th>\n",
              "      <th>frp</th>\n",
              "      <th>Data</th>\n",
              "      <th>Hora</th>\n",
              "    </tr>\n",
              "  </thead>\n",
              "  <tbody>\n",
              "    <tr>\n",
              "      <th>2</th>\n",
              "      <td>NPP-375</td>\n",
              "      <td>Brasil</td>\n",
              "      <td>MATO GROSSO DO SUL</td>\n",
              "      <td>CORUMBA</td>\n",
              "      <td>Pantanal</td>\n",
              "      <td>8.0</td>\n",
              "      <td>0.0</td>\n",
              "      <td>1.0</td>\n",
              "      <td>-19.9664</td>\n",
              "      <td>-57.4599</td>\n",
              "      <td>NaN</td>\n",
              "      <td>2014-10-15</td>\n",
              "      <td>17:02:00</td>\n",
              "    </tr>\n",
              "    <tr>\n",
              "      <th>3</th>\n",
              "      <td>NPP-375</td>\n",
              "      <td>Brasil</td>\n",
              "      <td>MATO GROSSO DO SUL</td>\n",
              "      <td>CORUMBA</td>\n",
              "      <td>Pantanal</td>\n",
              "      <td>2.0</td>\n",
              "      <td>0.0</td>\n",
              "      <td>1.0</td>\n",
              "      <td>-19.8841</td>\n",
              "      <td>-57.3938</td>\n",
              "      <td>NaN</td>\n",
              "      <td>2014-10-09</td>\n",
              "      <td>17:15:00</td>\n",
              "    </tr>\n",
              "    <tr>\n",
              "      <th>4</th>\n",
              "      <td>NPP-375</td>\n",
              "      <td>Brasil</td>\n",
              "      <td>MATO GROSSO DO SUL</td>\n",
              "      <td>CORUMBA</td>\n",
              "      <td>Pantanal</td>\n",
              "      <td>8.0</td>\n",
              "      <td>0.0</td>\n",
              "      <td>1.0</td>\n",
              "      <td>-19.9342</td>\n",
              "      <td>-57.3920</td>\n",
              "      <td>NaN</td>\n",
              "      <td>2014-10-15</td>\n",
              "      <td>17:02:00</td>\n",
              "    </tr>\n",
              "    <tr>\n",
              "      <th>5</th>\n",
              "      <td>NPP-375</td>\n",
              "      <td>Brasil</td>\n",
              "      <td>MATO GROSSO DO SUL</td>\n",
              "      <td>CORUMBA</td>\n",
              "      <td>Pantanal</td>\n",
              "      <td>4.0</td>\n",
              "      <td>0.0</td>\n",
              "      <td>1.0</td>\n",
              "      <td>-18.5320</td>\n",
              "      <td>-56.6813</td>\n",
              "      <td>NaN</td>\n",
              "      <td>2014-10-15</td>\n",
              "      <td>17:03:00</td>\n",
              "    </tr>\n",
              "    <tr>\n",
              "      <th>6</th>\n",
              "      <td>NPP-375</td>\n",
              "      <td>Brasil</td>\n",
              "      <td>MATO GROSSO DO SUL</td>\n",
              "      <td>CORUMBA</td>\n",
              "      <td>Pantanal</td>\n",
              "      <td>8.0</td>\n",
              "      <td>0.0</td>\n",
              "      <td>0.8</td>\n",
              "      <td>-19.9478</td>\n",
              "      <td>-57.3313</td>\n",
              "      <td>NaN</td>\n",
              "      <td>2014-10-15</td>\n",
              "      <td>17:02:00</td>\n",
              "    </tr>\n",
              "    <tr>\n",
              "      <th>...</th>\n",
              "      <td>...</td>\n",
              "      <td>...</td>\n",
              "      <td>...</td>\n",
              "      <td>...</td>\n",
              "      <td>...</td>\n",
              "      <td>...</td>\n",
              "      <td>...</td>\n",
              "      <td>...</td>\n",
              "      <td>...</td>\n",
              "      <td>...</td>\n",
              "      <td>...</td>\n",
              "      <td>...</td>\n",
              "      <td>...</td>\n",
              "    </tr>\n",
              "    <tr>\n",
              "      <th>742931</th>\n",
              "      <td>NPP-375</td>\n",
              "      <td>Brasil</td>\n",
              "      <td>MATO GROSSO DO SUL</td>\n",
              "      <td>CORUMBA</td>\n",
              "      <td>Pantanal</td>\n",
              "      <td>11.0</td>\n",
              "      <td>0.0</td>\n",
              "      <td>1.0</td>\n",
              "      <td>-17.4586</td>\n",
              "      <td>-55.9273</td>\n",
              "      <td>1.9</td>\n",
              "      <td>2020-10-02</td>\n",
              "      <td>05:06:00</td>\n",
              "    </tr>\n",
              "    <tr>\n",
              "      <th>742940</th>\n",
              "      <td>NPP-375</td>\n",
              "      <td>Brasil</td>\n",
              "      <td>MATO GROSSO</td>\n",
              "      <td>POCONE</td>\n",
              "      <td>Pantanal</td>\n",
              "      <td>4.0</td>\n",
              "      <td>6.8</td>\n",
              "      <td>0.6</td>\n",
              "      <td>-17.7191</td>\n",
              "      <td>-57.3138</td>\n",
              "      <td>3.3</td>\n",
              "      <td>2020-10-12</td>\n",
              "      <td>05:18:00</td>\n",
              "    </tr>\n",
              "    <tr>\n",
              "      <th>742942</th>\n",
              "      <td>NPP-375</td>\n",
              "      <td>Brasil</td>\n",
              "      <td>MATO GROSSO</td>\n",
              "      <td>CACERES</td>\n",
              "      <td>Pantanal</td>\n",
              "      <td>4.0</td>\n",
              "      <td>5.4</td>\n",
              "      <td>0.3</td>\n",
              "      <td>-17.1433</td>\n",
              "      <td>-57.4232</td>\n",
              "      <td>2.8</td>\n",
              "      <td>2020-10-12</td>\n",
              "      <td>05:18:00</td>\n",
              "    </tr>\n",
              "    <tr>\n",
              "      <th>742956</th>\n",
              "      <td>NPP-375</td>\n",
              "      <td>Brasil</td>\n",
              "      <td>MATO GROSSO DO SUL</td>\n",
              "      <td>CORUMBA</td>\n",
              "      <td>Pantanal</td>\n",
              "      <td>0.0</td>\n",
              "      <td>0.0</td>\n",
              "      <td>0.9</td>\n",
              "      <td>-17.6902</td>\n",
              "      <td>-57.0022</td>\n",
              "      <td>1.3</td>\n",
              "      <td>2020-10-03</td>\n",
              "      <td>04:48:00</td>\n",
              "    </tr>\n",
              "    <tr>\n",
              "      <th>742960</th>\n",
              "      <td>NPP-375</td>\n",
              "      <td>Brasil</td>\n",
              "      <td>MATO GROSSO DO SUL</td>\n",
              "      <td>CORUMBA</td>\n",
              "      <td>Pantanal</td>\n",
              "      <td>4.0</td>\n",
              "      <td>6.8</td>\n",
              "      <td>0.0</td>\n",
              "      <td>-18.6623</td>\n",
              "      <td>-57.3391</td>\n",
              "      <td>20.9</td>\n",
              "      <td>2020-10-13</td>\n",
              "      <td>17:30:00</td>\n",
              "    </tr>\n",
              "  </tbody>\n",
              "</table>\n",
              "<p>395273 rows × 13 columns</p>\n",
              "</div>"
            ],
            "text/plain": [
              "       satelite    pais              estado  ...   frp        Data      Hora\n",
              "2       NPP-375  Brasil  MATO GROSSO DO SUL  ...   NaN  2014-10-15  17:02:00\n",
              "3       NPP-375  Brasil  MATO GROSSO DO SUL  ...   NaN  2014-10-09  17:15:00\n",
              "4       NPP-375  Brasil  MATO GROSSO DO SUL  ...   NaN  2014-10-15  17:02:00\n",
              "5       NPP-375  Brasil  MATO GROSSO DO SUL  ...   NaN  2014-10-15  17:03:00\n",
              "6       NPP-375  Brasil  MATO GROSSO DO SUL  ...   NaN  2014-10-15  17:02:00\n",
              "...         ...     ...                 ...  ...   ...         ...       ...\n",
              "742931  NPP-375  Brasil  MATO GROSSO DO SUL  ...   1.9  2020-10-02  05:06:00\n",
              "742940  NPP-375  Brasil         MATO GROSSO  ...   3.3  2020-10-12  05:18:00\n",
              "742942  NPP-375  Brasil         MATO GROSSO  ...   2.8  2020-10-12  05:18:00\n",
              "742956  NPP-375  Brasil  MATO GROSSO DO SUL  ...   1.3  2020-10-03  04:48:00\n",
              "742960  NPP-375  Brasil  MATO GROSSO DO SUL  ...  20.9  2020-10-13  17:30:00\n",
              "\n",
              "[395273 rows x 13 columns]"
            ]
          },
          "metadata": {
            "tags": []
          },
          "execution_count": 108
        }
      ]
    },
    {
      "cell_type": "code",
      "metadata": {
        "id": "mHCavwn1j6qo"
      },
      "source": [
        "df = df[['Data','Hora','satelite','pais','estado','municipio','bioma','diasemchuva','precipitacao','riscofogo','latitude','longitude','frp']]"
      ],
      "execution_count": null,
      "outputs": []
    },
    {
      "cell_type": "code",
      "metadata": {
        "id": "eX4ov5jekaMj",
        "colab": {
          "base_uri": "https://localhost:8080/",
          "height": 419
        },
        "outputId": "0891de5a-0a44-4ef3-ac6b-83eba79c924d"
      },
      "source": [
        "df"
      ],
      "execution_count": null,
      "outputs": [
        {
          "output_type": "execute_result",
          "data": {
            "text/html": [
              "<div>\n",
              "<style scoped>\n",
              "    .dataframe tbody tr th:only-of-type {\n",
              "        vertical-align: middle;\n",
              "    }\n",
              "\n",
              "    .dataframe tbody tr th {\n",
              "        vertical-align: top;\n",
              "    }\n",
              "\n",
              "    .dataframe thead th {\n",
              "        text-align: right;\n",
              "    }\n",
              "</style>\n",
              "<table border=\"1\" class=\"dataframe\">\n",
              "  <thead>\n",
              "    <tr style=\"text-align: right;\">\n",
              "      <th></th>\n",
              "      <th>Data</th>\n",
              "      <th>Hora</th>\n",
              "      <th>satelite</th>\n",
              "      <th>pais</th>\n",
              "      <th>estado</th>\n",
              "      <th>municipio</th>\n",
              "      <th>bioma</th>\n",
              "      <th>diasemchuva</th>\n",
              "      <th>precipitacao</th>\n",
              "      <th>riscofogo</th>\n",
              "      <th>latitude</th>\n",
              "      <th>longitude</th>\n",
              "      <th>frp</th>\n",
              "    </tr>\n",
              "  </thead>\n",
              "  <tbody>\n",
              "    <tr>\n",
              "      <th>2</th>\n",
              "      <td>2014-10-15</td>\n",
              "      <td>17:02:00</td>\n",
              "      <td>NPP-375</td>\n",
              "      <td>Brasil</td>\n",
              "      <td>MATO GROSSO DO SUL</td>\n",
              "      <td>CORUMBA</td>\n",
              "      <td>Pantanal</td>\n",
              "      <td>8.0</td>\n",
              "      <td>0.0</td>\n",
              "      <td>1.0</td>\n",
              "      <td>-19.9664</td>\n",
              "      <td>-57.4599</td>\n",
              "      <td>NaN</td>\n",
              "    </tr>\n",
              "    <tr>\n",
              "      <th>3</th>\n",
              "      <td>2014-10-09</td>\n",
              "      <td>17:15:00</td>\n",
              "      <td>NPP-375</td>\n",
              "      <td>Brasil</td>\n",
              "      <td>MATO GROSSO DO SUL</td>\n",
              "      <td>CORUMBA</td>\n",
              "      <td>Pantanal</td>\n",
              "      <td>2.0</td>\n",
              "      <td>0.0</td>\n",
              "      <td>1.0</td>\n",
              "      <td>-19.8841</td>\n",
              "      <td>-57.3938</td>\n",
              "      <td>NaN</td>\n",
              "    </tr>\n",
              "    <tr>\n",
              "      <th>4</th>\n",
              "      <td>2014-10-15</td>\n",
              "      <td>17:02:00</td>\n",
              "      <td>NPP-375</td>\n",
              "      <td>Brasil</td>\n",
              "      <td>MATO GROSSO DO SUL</td>\n",
              "      <td>CORUMBA</td>\n",
              "      <td>Pantanal</td>\n",
              "      <td>8.0</td>\n",
              "      <td>0.0</td>\n",
              "      <td>1.0</td>\n",
              "      <td>-19.9342</td>\n",
              "      <td>-57.3920</td>\n",
              "      <td>NaN</td>\n",
              "    </tr>\n",
              "    <tr>\n",
              "      <th>5</th>\n",
              "      <td>2014-10-15</td>\n",
              "      <td>17:03:00</td>\n",
              "      <td>NPP-375</td>\n",
              "      <td>Brasil</td>\n",
              "      <td>MATO GROSSO DO SUL</td>\n",
              "      <td>CORUMBA</td>\n",
              "      <td>Pantanal</td>\n",
              "      <td>4.0</td>\n",
              "      <td>0.0</td>\n",
              "      <td>1.0</td>\n",
              "      <td>-18.5320</td>\n",
              "      <td>-56.6813</td>\n",
              "      <td>NaN</td>\n",
              "    </tr>\n",
              "    <tr>\n",
              "      <th>6</th>\n",
              "      <td>2014-10-15</td>\n",
              "      <td>17:02:00</td>\n",
              "      <td>NPP-375</td>\n",
              "      <td>Brasil</td>\n",
              "      <td>MATO GROSSO DO SUL</td>\n",
              "      <td>CORUMBA</td>\n",
              "      <td>Pantanal</td>\n",
              "      <td>8.0</td>\n",
              "      <td>0.0</td>\n",
              "      <td>0.8</td>\n",
              "      <td>-19.9478</td>\n",
              "      <td>-57.3313</td>\n",
              "      <td>NaN</td>\n",
              "    </tr>\n",
              "    <tr>\n",
              "      <th>...</th>\n",
              "      <td>...</td>\n",
              "      <td>...</td>\n",
              "      <td>...</td>\n",
              "      <td>...</td>\n",
              "      <td>...</td>\n",
              "      <td>...</td>\n",
              "      <td>...</td>\n",
              "      <td>...</td>\n",
              "      <td>...</td>\n",
              "      <td>...</td>\n",
              "      <td>...</td>\n",
              "      <td>...</td>\n",
              "      <td>...</td>\n",
              "    </tr>\n",
              "    <tr>\n",
              "      <th>742931</th>\n",
              "      <td>2020-10-02</td>\n",
              "      <td>05:06:00</td>\n",
              "      <td>NPP-375</td>\n",
              "      <td>Brasil</td>\n",
              "      <td>MATO GROSSO DO SUL</td>\n",
              "      <td>CORUMBA</td>\n",
              "      <td>Pantanal</td>\n",
              "      <td>11.0</td>\n",
              "      <td>0.0</td>\n",
              "      <td>1.0</td>\n",
              "      <td>-17.4586</td>\n",
              "      <td>-55.9273</td>\n",
              "      <td>1.9</td>\n",
              "    </tr>\n",
              "    <tr>\n",
              "      <th>742940</th>\n",
              "      <td>2020-10-12</td>\n",
              "      <td>05:18:00</td>\n",
              "      <td>NPP-375</td>\n",
              "      <td>Brasil</td>\n",
              "      <td>MATO GROSSO</td>\n",
              "      <td>POCONE</td>\n",
              "      <td>Pantanal</td>\n",
              "      <td>4.0</td>\n",
              "      <td>6.8</td>\n",
              "      <td>0.6</td>\n",
              "      <td>-17.7191</td>\n",
              "      <td>-57.3138</td>\n",
              "      <td>3.3</td>\n",
              "    </tr>\n",
              "    <tr>\n",
              "      <th>742942</th>\n",
              "      <td>2020-10-12</td>\n",
              "      <td>05:18:00</td>\n",
              "      <td>NPP-375</td>\n",
              "      <td>Brasil</td>\n",
              "      <td>MATO GROSSO</td>\n",
              "      <td>CACERES</td>\n",
              "      <td>Pantanal</td>\n",
              "      <td>4.0</td>\n",
              "      <td>5.4</td>\n",
              "      <td>0.3</td>\n",
              "      <td>-17.1433</td>\n",
              "      <td>-57.4232</td>\n",
              "      <td>2.8</td>\n",
              "    </tr>\n",
              "    <tr>\n",
              "      <th>742956</th>\n",
              "      <td>2020-10-03</td>\n",
              "      <td>04:48:00</td>\n",
              "      <td>NPP-375</td>\n",
              "      <td>Brasil</td>\n",
              "      <td>MATO GROSSO DO SUL</td>\n",
              "      <td>CORUMBA</td>\n",
              "      <td>Pantanal</td>\n",
              "      <td>0.0</td>\n",
              "      <td>0.0</td>\n",
              "      <td>0.9</td>\n",
              "      <td>-17.6902</td>\n",
              "      <td>-57.0022</td>\n",
              "      <td>1.3</td>\n",
              "    </tr>\n",
              "    <tr>\n",
              "      <th>742960</th>\n",
              "      <td>2020-10-13</td>\n",
              "      <td>17:30:00</td>\n",
              "      <td>NPP-375</td>\n",
              "      <td>Brasil</td>\n",
              "      <td>MATO GROSSO DO SUL</td>\n",
              "      <td>CORUMBA</td>\n",
              "      <td>Pantanal</td>\n",
              "      <td>4.0</td>\n",
              "      <td>6.8</td>\n",
              "      <td>0.0</td>\n",
              "      <td>-18.6623</td>\n",
              "      <td>-57.3391</td>\n",
              "      <td>20.9</td>\n",
              "    </tr>\n",
              "  </tbody>\n",
              "</table>\n",
              "<p>395273 rows × 13 columns</p>\n",
              "</div>"
            ],
            "text/plain": [
              "              Data      Hora satelite  ... latitude longitude   frp\n",
              "2       2014-10-15  17:02:00  NPP-375  ... -19.9664  -57.4599   NaN\n",
              "3       2014-10-09  17:15:00  NPP-375  ... -19.8841  -57.3938   NaN\n",
              "4       2014-10-15  17:02:00  NPP-375  ... -19.9342  -57.3920   NaN\n",
              "5       2014-10-15  17:03:00  NPP-375  ... -18.5320  -56.6813   NaN\n",
              "6       2014-10-15  17:02:00  NPP-375  ... -19.9478  -57.3313   NaN\n",
              "...            ...       ...      ...  ...      ...       ...   ...\n",
              "742931  2020-10-02  05:06:00  NPP-375  ... -17.4586  -55.9273   1.9\n",
              "742940  2020-10-12  05:18:00  NPP-375  ... -17.7191  -57.3138   3.3\n",
              "742942  2020-10-12  05:18:00  NPP-375  ... -17.1433  -57.4232   2.8\n",
              "742956  2020-10-03  04:48:00  NPP-375  ... -17.6902  -57.0022   1.3\n",
              "742960  2020-10-13  17:30:00  NPP-375  ... -18.6623  -57.3391  20.9\n",
              "\n",
              "[395273 rows x 13 columns]"
            ]
          },
          "metadata": {
            "tags": []
          },
          "execution_count": 110
        }
      ]
    },
    {
      "cell_type": "markdown",
      "metadata": {
        "id": "Bb0TOUcTNWIX"
      },
      "source": [
        "**DATASET QUEIMADAS**"
      ]
    },
    {
      "cell_type": "code",
      "metadata": {
        "id": "HqWRAGplNorn"
      },
      "source": [
        "from google.colab import drive"
      ],
      "execution_count": 143,
      "outputs": []
    },
    {
      "cell_type": "code",
      "metadata": {
        "id": "JH91qdIoOBww",
        "outputId": "ba80051c-7959-4fa1-caf3-2cdbe6c65507",
        "colab": {
          "base_uri": "https://localhost:8080/"
        }
      },
      "source": [
        "drive.mount('/content/drive')"
      ],
      "execution_count": 144,
      "outputs": [
        {
          "output_type": "stream",
          "text": [
            "Drive already mounted at /content/drive; to attempt to forcibly remount, call drive.mount(\"/content/drive\", force_remount=True).\n"
          ],
          "name": "stdout"
        }
      ]
    },
    {
      "cell_type": "code",
      "metadata": {
        "id": "oHaKgtsdPNw-",
        "outputId": "6949a64e-2632-46ff-899c-5ad29955bd7e",
        "colab": {
          "base_uri": "https://localhost:8080/"
        }
      },
      "source": [
        "drive.mount(\"/content/drive\", force_remount=True)"
      ],
      "execution_count": 145,
      "outputs": [
        {
          "output_type": "stream",
          "text": [
            "Mounted at /content/drive\n"
          ],
          "name": "stdout"
        }
      ]
    },
    {
      "cell_type": "code",
      "metadata": {
        "id": "82d8OhqZOM8S",
        "outputId": "32e9fddf-bf06-406d-bc3b-831e97bda8fa",
        "colab": {
          "base_uri": "https://localhost:8080/"
        }
      },
      "source": [
        "!git clone https://github.com/charlespimentel/PROJ_QUEIMA_BR/blob/main/Data_Lasa_12_21/alarmes_hist_2012_pantanal.shp"
      ],
      "execution_count": 147,
      "outputs": [
        {
          "output_type": "stream",
          "text": [
            "Cloning into 'alarmes_hist_2012_pantanal.shp'...\n",
            "fatal: repository 'https://github.com/charlespimentel/PROJ_QUEIMA_BR/blob/main/Data_Lasa_12_21/alarmes_hist_2012_pantanal.shp/' not found\n"
          ],
          "name": "stdout"
        }
      ]
    },
    {
      "cell_type": "code",
      "metadata": {
        "id": "wlnuVv_NOjzq",
        "outputId": "7056f091-c395-437c-ae4b-b919033d7486",
        "colab": {
          "base_uri": "https://localhost:8080/"
        }
      },
      "source": [
        "pip install geopandas"
      ],
      "execution_count": 140,
      "outputs": [
        {
          "output_type": "stream",
          "text": [
            "Collecting geopandas\n",
            "\u001b[?25l  Downloading https://files.pythonhosted.org/packages/d7/bf/e9cefb69d39155d122b6ddca53893b61535fa6ffdad70bf5ef708977f53f/geopandas-0.9.0-py2.py3-none-any.whl (994kB)\n",
            "\u001b[K     |████████████████████████████████| 1.0MB 5.6MB/s \n",
            "\u001b[?25hRequirement already satisfied: pandas>=0.24.0 in /usr/local/lib/python3.7/dist-packages (from geopandas) (1.1.5)\n",
            "Collecting pyproj>=2.2.0\n",
            "\u001b[?25l  Downloading https://files.pythonhosted.org/packages/b1/72/d52e9ca81caef056062d71991b0e9b1d16af042245627c5d0e4916a36c4f/pyproj-3.0.1-cp37-cp37m-manylinux2010_x86_64.whl (6.5MB)\n",
            "\u001b[K     |████████████████████████████████| 6.5MB 21.0MB/s \n",
            "\u001b[?25hRequirement already satisfied: shapely>=1.6 in /usr/local/lib/python3.7/dist-packages (from geopandas) (1.7.1)\n",
            "Collecting fiona>=1.8\n",
            "\u001b[?25l  Downloading https://files.pythonhosted.org/packages/ea/2a/404b22883298a3efe9c6ef8d67acbf2c38443fa366ee9cd4cd34e17626ea/Fiona-1.8.19-cp37-cp37m-manylinux1_x86_64.whl (15.3MB)\n",
            "\u001b[K     |████████████████████████████████| 15.3MB 258kB/s \n",
            "\u001b[?25hRequirement already satisfied: pytz>=2017.2 in /usr/local/lib/python3.7/dist-packages (from pandas>=0.24.0->geopandas) (2018.9)\n",
            "Requirement already satisfied: numpy>=1.15.4 in /usr/local/lib/python3.7/dist-packages (from pandas>=0.24.0->geopandas) (1.19.5)\n",
            "Requirement already satisfied: python-dateutil>=2.7.3 in /usr/local/lib/python3.7/dist-packages (from pandas>=0.24.0->geopandas) (2.8.1)\n",
            "Requirement already satisfied: certifi in /usr/local/lib/python3.7/dist-packages (from pyproj>=2.2.0->geopandas) (2020.12.5)\n",
            "Requirement already satisfied: six>=1.7 in /usr/local/lib/python3.7/dist-packages (from fiona>=1.8->geopandas) (1.15.0)\n",
            "Requirement already satisfied: click<8,>=4.0 in /usr/local/lib/python3.7/dist-packages (from fiona>=1.8->geopandas) (7.1.2)\n",
            "Requirement already satisfied: attrs>=17 in /usr/local/lib/python3.7/dist-packages (from fiona>=1.8->geopandas) (20.3.0)\n",
            "Collecting cligj>=0.5\n",
            "  Downloading https://files.pythonhosted.org/packages/42/1e/947eadf10d6804bf276eb8a038bd5307996dceaaa41cfd21b7a15ec62f5d/cligj-0.7.1-py3-none-any.whl\n",
            "Collecting munch\n",
            "  Downloading https://files.pythonhosted.org/packages/cc/ab/85d8da5c9a45e072301beb37ad7f833cd344e04c817d97e0cc75681d248f/munch-2.5.0-py2.py3-none-any.whl\n",
            "Collecting click-plugins>=1.0\n",
            "  Downloading https://files.pythonhosted.org/packages/e9/da/824b92d9942f4e472702488857914bdd50f73021efea15b4cad9aca8ecef/click_plugins-1.1.1-py2.py3-none-any.whl\n",
            "Installing collected packages: pyproj, cligj, munch, click-plugins, fiona, geopandas\n",
            "Successfully installed click-plugins-1.1.1 cligj-0.7.1 fiona-1.8.19 geopandas-0.9.0 munch-2.5.0 pyproj-3.0.1\n"
          ],
          "name": "stdout"
        }
      ]
    },
    {
      "cell_type": "code",
      "metadata": {
        "id": "jdacd9x-Orwd"
      },
      "source": [
        "import geopandas as gpd"
      ],
      "execution_count": 141,
      "outputs": []
    },
    {
      "cell_type": "code",
      "metadata": {
        "id": "Vq2vrZJ0Ov4-",
        "outputId": "ac5edabc-2ae6-42ec-e375-aad1bb1a6c31",
        "colab": {
          "base_uri": "https://localhost:8080/",
          "height": 528
        }
      },
      "source": [
        "queimadas_df_2012 = gpd.read_file('alarmes_hist_2012_pantanal.shp')"
      ],
      "execution_count": 142,
      "outputs": [
        {
          "output_type": "error",
          "ename": "DriverError",
          "evalue": "ignored",
          "traceback": [
            "\u001b[0;31m---------------------------------------------------------------------------\u001b[0m",
            "\u001b[0;31mCPLE_OpenFailedError\u001b[0m                      Traceback (most recent call last)",
            "\u001b[0;32mfiona/_shim.pyx\u001b[0m in \u001b[0;36mfiona._shim.gdal_open_vector\u001b[0;34m()\u001b[0m\n",
            "\u001b[0;32mfiona/_err.pyx\u001b[0m in \u001b[0;36mfiona._err.exc_wrap_pointer\u001b[0;34m()\u001b[0m\n",
            "\u001b[0;31mCPLE_OpenFailedError\u001b[0m: alarmes_hist_2012_pantanal.shp: No such file or directory",
            "\nDuring handling of the above exception, another exception occurred:\n",
            "\u001b[0;31mDriverError\u001b[0m                               Traceback (most recent call last)",
            "\u001b[0;32m<ipython-input-142-f0d06607e8ee>\u001b[0m in \u001b[0;36m<module>\u001b[0;34m()\u001b[0m\n\u001b[0;32m----> 1\u001b[0;31m \u001b[0mqueimadas_df_2012\u001b[0m \u001b[0;34m=\u001b[0m \u001b[0mgpd\u001b[0m\u001b[0;34m.\u001b[0m\u001b[0mread_file\u001b[0m\u001b[0;34m(\u001b[0m\u001b[0;34m'alarmes_hist_2012_pantanal.shp'\u001b[0m\u001b[0;34m)\u001b[0m\u001b[0;34m\u001b[0m\u001b[0;34m\u001b[0m\u001b[0m\n\u001b[0m",
            "\u001b[0;32m/usr/local/lib/python3.7/dist-packages/geopandas/io/file.py\u001b[0m in \u001b[0;36m_read_file\u001b[0;34m(filename, bbox, mask, rows, **kwargs)\u001b[0m\n\u001b[1;32m    158\u001b[0m \u001b[0;34m\u001b[0m\u001b[0m\n\u001b[1;32m    159\u001b[0m     \u001b[0;32mwith\u001b[0m \u001b[0mfiona_env\u001b[0m\u001b[0;34m(\u001b[0m\u001b[0;34m)\u001b[0m\u001b[0;34m:\u001b[0m\u001b[0;34m\u001b[0m\u001b[0;34m\u001b[0m\u001b[0m\n\u001b[0;32m--> 160\u001b[0;31m         \u001b[0;32mwith\u001b[0m \u001b[0mreader\u001b[0m\u001b[0;34m(\u001b[0m\u001b[0mpath_or_bytes\u001b[0m\u001b[0;34m,\u001b[0m \u001b[0;34m**\u001b[0m\u001b[0mkwargs\u001b[0m\u001b[0;34m)\u001b[0m \u001b[0;32mas\u001b[0m \u001b[0mfeatures\u001b[0m\u001b[0;34m:\u001b[0m\u001b[0;34m\u001b[0m\u001b[0;34m\u001b[0m\u001b[0m\n\u001b[0m\u001b[1;32m    161\u001b[0m \u001b[0;34m\u001b[0m\u001b[0m\n\u001b[1;32m    162\u001b[0m             \u001b[0;31m# In a future Fiona release the crs attribute of features will\u001b[0m\u001b[0;34m\u001b[0m\u001b[0;34m\u001b[0m\u001b[0;34m\u001b[0m\u001b[0m\n",
            "\u001b[0;32m/usr/local/lib/python3.7/dist-packages/fiona/env.py\u001b[0m in \u001b[0;36mwrapper\u001b[0;34m(*args, **kwargs)\u001b[0m\n\u001b[1;32m    406\u001b[0m     \u001b[0;32mdef\u001b[0m \u001b[0mwrapper\u001b[0m\u001b[0;34m(\u001b[0m\u001b[0;34m*\u001b[0m\u001b[0margs\u001b[0m\u001b[0;34m,\u001b[0m \u001b[0;34m**\u001b[0m\u001b[0mkwargs\u001b[0m\u001b[0;34m)\u001b[0m\u001b[0;34m:\u001b[0m\u001b[0;34m\u001b[0m\u001b[0;34m\u001b[0m\u001b[0m\n\u001b[1;32m    407\u001b[0m         \u001b[0;32mif\u001b[0m \u001b[0mlocal\u001b[0m\u001b[0;34m.\u001b[0m\u001b[0m_env\u001b[0m\u001b[0;34m:\u001b[0m\u001b[0;34m\u001b[0m\u001b[0;34m\u001b[0m\u001b[0m\n\u001b[0;32m--> 408\u001b[0;31m             \u001b[0;32mreturn\u001b[0m \u001b[0mf\u001b[0m\u001b[0;34m(\u001b[0m\u001b[0;34m*\u001b[0m\u001b[0margs\u001b[0m\u001b[0;34m,\u001b[0m \u001b[0;34m**\u001b[0m\u001b[0mkwargs\u001b[0m\u001b[0;34m)\u001b[0m\u001b[0;34m\u001b[0m\u001b[0;34m\u001b[0m\u001b[0m\n\u001b[0m\u001b[1;32m    409\u001b[0m         \u001b[0;32melse\u001b[0m\u001b[0;34m:\u001b[0m\u001b[0;34m\u001b[0m\u001b[0;34m\u001b[0m\u001b[0m\n\u001b[1;32m    410\u001b[0m             \u001b[0;32mif\u001b[0m \u001b[0misinstance\u001b[0m\u001b[0;34m(\u001b[0m\u001b[0margs\u001b[0m\u001b[0;34m[\u001b[0m\u001b[0;36m0\u001b[0m\u001b[0;34m]\u001b[0m\u001b[0;34m,\u001b[0m \u001b[0mstr\u001b[0m\u001b[0;34m)\u001b[0m\u001b[0;34m:\u001b[0m\u001b[0;34m\u001b[0m\u001b[0;34m\u001b[0m\u001b[0m\n",
            "\u001b[0;32m/usr/local/lib/python3.7/dist-packages/fiona/__init__.py\u001b[0m in \u001b[0;36mopen\u001b[0;34m(fp, mode, driver, schema, crs, encoding, layer, vfs, enabled_drivers, crs_wkt, **kwargs)\u001b[0m\n\u001b[1;32m    255\u001b[0m         \u001b[0;32mif\u001b[0m \u001b[0mmode\u001b[0m \u001b[0;32min\u001b[0m \u001b[0;34m(\u001b[0m\u001b[0;34m'a'\u001b[0m\u001b[0;34m,\u001b[0m \u001b[0;34m'r'\u001b[0m\u001b[0;34m)\u001b[0m\u001b[0;34m:\u001b[0m\u001b[0;34m\u001b[0m\u001b[0;34m\u001b[0m\u001b[0m\n\u001b[1;32m    256\u001b[0m             c = Collection(path, mode, driver=driver, encoding=encoding,\n\u001b[0;32m--> 257\u001b[0;31m                            layer=layer, enabled_drivers=enabled_drivers, **kwargs)\n\u001b[0m\u001b[1;32m    258\u001b[0m         \u001b[0;32melif\u001b[0m \u001b[0mmode\u001b[0m \u001b[0;34m==\u001b[0m \u001b[0;34m'w'\u001b[0m\u001b[0;34m:\u001b[0m\u001b[0;34m\u001b[0m\u001b[0;34m\u001b[0m\u001b[0m\n\u001b[1;32m    259\u001b[0m             \u001b[0;32mif\u001b[0m \u001b[0mschema\u001b[0m\u001b[0;34m:\u001b[0m\u001b[0;34m\u001b[0m\u001b[0;34m\u001b[0m\u001b[0m\n",
            "\u001b[0;32m/usr/local/lib/python3.7/dist-packages/fiona/collection.py\u001b[0m in \u001b[0;36m__init__\u001b[0;34m(self, path, mode, driver, schema, crs, encoding, layer, vsi, archive, enabled_drivers, crs_wkt, ignore_fields, ignore_geometry, **kwargs)\u001b[0m\n\u001b[1;32m    160\u001b[0m             \u001b[0;32mif\u001b[0m \u001b[0mself\u001b[0m\u001b[0;34m.\u001b[0m\u001b[0mmode\u001b[0m \u001b[0;34m==\u001b[0m \u001b[0;34m'r'\u001b[0m\u001b[0;34m:\u001b[0m\u001b[0;34m\u001b[0m\u001b[0;34m\u001b[0m\u001b[0m\n\u001b[1;32m    161\u001b[0m                 \u001b[0mself\u001b[0m\u001b[0;34m.\u001b[0m\u001b[0msession\u001b[0m \u001b[0;34m=\u001b[0m \u001b[0mSession\u001b[0m\u001b[0;34m(\u001b[0m\u001b[0;34m)\u001b[0m\u001b[0;34m\u001b[0m\u001b[0;34m\u001b[0m\u001b[0m\n\u001b[0;32m--> 162\u001b[0;31m                 \u001b[0mself\u001b[0m\u001b[0;34m.\u001b[0m\u001b[0msession\u001b[0m\u001b[0;34m.\u001b[0m\u001b[0mstart\u001b[0m\u001b[0;34m(\u001b[0m\u001b[0mself\u001b[0m\u001b[0;34m,\u001b[0m \u001b[0;34m**\u001b[0m\u001b[0mkwargs\u001b[0m\u001b[0;34m)\u001b[0m\u001b[0;34m\u001b[0m\u001b[0;34m\u001b[0m\u001b[0m\n\u001b[0m\u001b[1;32m    163\u001b[0m             \u001b[0;32melif\u001b[0m \u001b[0mself\u001b[0m\u001b[0;34m.\u001b[0m\u001b[0mmode\u001b[0m \u001b[0;32min\u001b[0m \u001b[0;34m(\u001b[0m\u001b[0;34m'a'\u001b[0m\u001b[0;34m,\u001b[0m \u001b[0;34m'w'\u001b[0m\u001b[0;34m)\u001b[0m\u001b[0;34m:\u001b[0m\u001b[0;34m\u001b[0m\u001b[0;34m\u001b[0m\u001b[0m\n\u001b[1;32m    164\u001b[0m                 \u001b[0mself\u001b[0m\u001b[0;34m.\u001b[0m\u001b[0msession\u001b[0m \u001b[0;34m=\u001b[0m \u001b[0mWritingSession\u001b[0m\u001b[0;34m(\u001b[0m\u001b[0;34m)\u001b[0m\u001b[0;34m\u001b[0m\u001b[0;34m\u001b[0m\u001b[0m\n",
            "\u001b[0;32mfiona/ogrext.pyx\u001b[0m in \u001b[0;36mfiona.ogrext.Session.start\u001b[0;34m()\u001b[0m\n",
            "\u001b[0;32mfiona/_shim.pyx\u001b[0m in \u001b[0;36mfiona._shim.gdal_open_vector\u001b[0;34m()\u001b[0m\n",
            "\u001b[0;31mDriverError\u001b[0m: alarmes_hist_2012_pantanal.shp: No such file or directory"
          ]
        }
      ]
    }
  ]
}