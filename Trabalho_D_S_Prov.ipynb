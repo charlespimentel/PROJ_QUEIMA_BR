{
  "nbformat": 4,
  "nbformat_minor": 0,
  "metadata": {
    "colab": {
      "name": "Trabalho_D-S_Prov.ipynb",
      "provenance": [],
      "include_colab_link": true
    },
    "kernelspec": {
      "name": "python3",
      "display_name": "Python 3"
    },
    "language_info": {
      "name": "python"
    }
  },
  "cells": [
    {
      "cell_type": "markdown",
      "metadata": {
        "id": "view-in-github",
        "colab_type": "text"
      },
      "source": [
        "<a href=\"https://colab.research.google.com/github/charlespimentel/PROJ_QUEIMA_BR/blob/main/Trabalho_D_S_Prov.ipynb\" target=\"_parent\"><img src=\"https://colab.research.google.com/assets/colab-badge.svg\" alt=\"Open In Colab\"/></a>"
      ]
    },
    {
      "cell_type": "code",
      "metadata": {
        "colab": {
          "base_uri": "https://localhost:8080/"
        },
        "id": "cjjbaCLPt847",
        "outputId": "fa0c89b6-3556-44cf-e8aa-5e3e1cb3b67b"
      },
      "source": [
        "pip install prov"
      ],
      "execution_count": 17,
      "outputs": [
        {
          "output_type": "stream",
          "text": [
            "Requirement already satisfied: prov in /usr/local/lib/python3.7/dist-packages (2.0.0)\n",
            "Requirement already satisfied: python-dateutil>=2.2 in /usr/local/lib/python3.7/dist-packages (from prov) (2.8.1)\n",
            "Requirement already satisfied: networkx>=2.0 in /usr/local/lib/python3.7/dist-packages (from prov) (2.5.1)\n",
            "Requirement already satisfied: lxml>=3.3.5 in /usr/local/lib/python3.7/dist-packages (from prov) (4.2.6)\n",
            "Requirement already satisfied: rdflib>=4.2.1 in /usr/local/lib/python3.7/dist-packages (from prov) (5.0.0)\n",
            "Requirement already satisfied: six>=1.5 in /usr/local/lib/python3.7/dist-packages (from python-dateutil>=2.2->prov) (1.15.0)\n",
            "Requirement already satisfied: decorator<5,>=4.3 in /usr/local/lib/python3.7/dist-packages (from networkx>=2.0->prov) (4.4.2)\n",
            "Requirement already satisfied: isodate in /usr/local/lib/python3.7/dist-packages (from rdflib>=4.2.1->prov) (0.6.0)\n",
            "Requirement already satisfied: pyparsing in /usr/local/lib/python3.7/dist-packages (from rdflib>=4.2.1->prov) (2.4.7)\n"
          ],
          "name": "stdout"
        }
      ]
    },
    {
      "cell_type": "code",
      "metadata": {
        "id": "Kbm8VZLHuEhZ"
      },
      "source": [
        "import prov.model as prov\n",
        "import datetime"
      ],
      "execution_count": 3,
      "outputs": []
    },
    {
      "cell_type": "code",
      "metadata": {
        "id": "Tah6ulcppMh7"
      },
      "source": [
        "from prov.model import ProvDocument"
      ],
      "execution_count": 4,
      "outputs": []
    },
    {
      "cell_type": "code",
      "metadata": {
        "id": "WZf7gQxMpUTJ"
      },
      "source": [
        "# Criando um novo documento de proveniância\n",
        "d1 = ProvDocument()  # d1 agora é um documento de proveniência vazio"
      ],
      "execution_count": 5,
      "outputs": []
    },
    {
      "cell_type": "code",
      "metadata": {
        "colab": {
          "base_uri": "https://localhost:8080/"
        },
        "id": "Ow1-DhrhqGv8",
        "outputId": "1f9807d0-6758-4400-b05e-dad3cdca3c24"
      },
      "source": [
        "# Declarando namespaces para vários prefixos usados no exemplo\n",
        "d1.add_namespace('artigo', 'https://github.com/charlespimentel/PROJ_QUEIMA_BR/blob/main/Paper_Vs.1.docx')"
      ],
      "execution_count": 13,
      "outputs": [
        {
          "output_type": "execute_result",
          "data": {
            "text/plain": [
              "<Namespace: artigo {https://github.com/charlespimentel/PROJ_QUEIMA_BR/blob/main/Paper_Vs.1.docx}>"
            ]
          },
          "metadata": {
            "tags": []
          },
          "execution_count": 13
        }
      ]
    },
    {
      "cell_type": "code",
      "metadata": {
        "id": "DmUUs6OUqoDU"
      },
      "source": [
        "#Entidade\n",
        "e1 = d1.entity('artigo:https://github.com/charlespimentel/PROJ_QUEIMA_BR/blob/main/Paper_Vs.1.docx')"
      ],
      "execution_count": 14,
      "outputs": []
    },
    {
      "cell_type": "code",
      "metadata": {
        "colab": {
          "base_uri": "https://localhost:8080/"
        },
        "id": "E7i_0E17uY9X",
        "outputId": "2eead85c-7c49-4358-d67c-d851175d3ee8"
      },
      "source": [
        "# Atribuindo o artigo ao agente\n",
        "d1.wasAttributedTo(e1, 'nowpeople:Mauro, Ronilson, Charles')"
      ],
      "execution_count": 15,
      "outputs": [
        {
          "output_type": "execute_result",
          "data": {
            "text/plain": [
              "<ProvAttribution: (artigo:https://github.com/charlespimentel/PROJ_QUEIMA_BR/blob/main/Paper_Vs.1.docx, nowpeople:Mauro, Ronilson, Charles)>"
            ]
          },
          "metadata": {
            "tags": []
          },
          "execution_count": 15
        }
      ]
    },
    {
      "cell_type": "code",
      "metadata": {
        "colab": {
          "base_uri": "https://localhost:8080/"
        },
        "id": "zLC3uiEBupd4",
        "outputId": "2deb7bff-b8b4-4504-cc8c-739ec0387d47"
      },
      "source": [
        "# O que temos até agora (in PROV-N)\n",
        "print(d1.get_provn())"
      ],
      "execution_count": 16,
      "outputs": [
        {
          "output_type": "stream",
          "text": [
            "document\n",
            "  prefix now <http://queimadas.dgi.inpe.br/queimadas/bdqueimadas/nownews/>\n",
            "  prefix nowpeople <http://queimadas.dgi.inpe.br/queimadas/bdqueimadas/nownews/people/>\n",
            "  prefix bk <http://queimadas.dgi.inpe.br/queimadas/bdqueimadas/ns/#>\n",
            "  prefix artigo <https://github.com/charlespimentel/PROJ_QUEIMA_BR/blob/main/Paper_Vs.1.docx>\n",
            "  \n",
            "  entity(now:artigo-queimada-v1.html)\n",
            "  entity(now:artigo-queimada-v1.html)\n",
            "  agent(nowpeople:Mauro, Ronilson, Charles)\n",
            "  entity(artigo:https://github.com/charlespimentel/PROJ_QUEIMA_BR/blob/main/Paper_Vs.1.docx)\n",
            "  entity(artigo:https://github.com/charlespimentel/PROJ_QUEIMA_BR/blob/main/Paper_Vs.1.docx)\n",
            "  entity(artigo:https://github.com/charlespimentel/PROJ_QUEIMA_BR/blob/main/Paper_Vs.1.docx)\n",
            "  wasAttributedTo(artigo:https://github.com/charlespimentel/PROJ_QUEIMA_BR/blob/main/Paper_Vs.1.docx, nowpeople:Mauro, Ronilson, Charles)\n",
            "endDocument\n"
          ],
          "name": "stdout"
        }
      ]
    },
    {
      "cell_type": "code",
      "metadata": {
        "id": "mKGDHPYtvo8d"
      },
      "source": [
        "# adicionar mais declarações namespace\n",
        "d1.add_namespace('Queimadas_ano.csv', 'https://raw.githubusercontent.com/charlespimentel/PROJ_QUEIMA_BR/main/Datasets/Queimadas_ano.csv')\n",
        "d1.add_namespace('void', 'http://vocab.deri.ie/void#')\n",
        "\n",
        "#'now:artigo-queimada-v1.html' foi derivado de um dataset em govftp\n",
        "\n",
        "#d1.entity('govftp:oesm11st.zip', {'prov:label': 'informações-queimadas-2011-2021', 'prov:type': 'void:Dataset'})\n",
        "#d1.wasDerivedFrom('now:artigo-queimada-v1.html', 'govftp:oesm11st.zip')"
      ],
      "execution_count": null,
      "outputs": []
    },
    {
      "cell_type": "code",
      "metadata": {
        "id": "qqQOflnWwRfU"
      },
      "source": [
        "# O que temos até agora (in PROV-N)\n",
        "print(d1.get_provn())"
      ],
      "execution_count": null,
      "outputs": []
    },
    {
      "cell_type": "code",
      "metadata": {
        "id": "9KFDvF7UA5lY"
      },
      "source": [
        "# Adicionando uma ATividade\n",
        "d1.add_namespace('is', 'http://www.provbook.org/nownews/is/#')\n",
        "d1.activity('is:escrever_artigo')"
      ],
      "execution_count": null,
      "outputs": []
    },
    {
      "cell_type": "code",
      "metadata": {
        "id": "xGsF_yAeBJO7"
      },
      "source": [
        "# Usage and Generation\n",
        "#d1.used('is:escrever_artigo', 'govftp:oesm11st.zip')\n",
        "d1.wasGeneratedBy('now:artigo-queimada-v1.html', 'is:escreverArtigo')"
      ],
      "execution_count": null,
      "outputs": []
    },
    {
      "cell_type": "code",
      "metadata": {
        "id": "QsS8lWryBale"
      },
      "source": [
        "# visualizar o gráfico\n",
        "from prov.dot import prov_to_dot\n",
        "dot = prov_to_dot(d1)\n",
        "dot.write_png('prov-artigo.png')"
      ],
      "execution_count": null,
      "outputs": []
    },
    {
      "cell_type": "markdown",
      "metadata": {
        "id": "ep7QuSt5B8iX"
      },
      "source": [
        "O acima salva o arquivo **PNG** como article-prov.png na sua pasta atual. "
      ]
    },
    {
      "cell_type": "code",
      "metadata": {
        "colab": {
          "base_uri": "https://localhost:8080/",
          "height": 186
        },
        "id": "4B_X4D5uCDyN",
        "outputId": "4fc39101-9705-4335-86ea-ea055933e705"
      },
      "source": [
        "from IPython.display import Image\n",
        "Image('prov-artigo.png')"
      ],
      "execution_count": null,
      "outputs": [
        {
          "output_type": "execute_result",
          "data": {
            "image/png": "[encoded data removed]",
            "text/plain": [
              "<IPython.core.display.Image object>"
            ]
          },
          "metadata": {
            "tags": []
          },
          "execution_count": 14
        }
      ]
    },
    {
      "cell_type": "code",
      "metadata": {
        "id": "4neAe4PbEUfF"
      },
      "source": [
        "# Ou salvar em PDF PDF\n",
        "dot.write_pdf('prov-artigo.pdf')"
      ],
      "execution_count": null,
      "outputs": []
    }
  ]
}